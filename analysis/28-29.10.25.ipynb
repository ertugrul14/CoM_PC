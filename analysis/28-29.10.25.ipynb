{
 "cells": [
  {
   "cell_type": "code",
   "execution_count": 20,
   "id": "5a05065d-e3c0-4bcd-ac9f-1d2910441df0",
   "metadata": {},
   "outputs": [
    {
     "name": "stdout",
     "output_type": "stream",
     "text": [
      "✅ Libraries imported successfully!\n",
      "📦 Pandas version: 2.3.0\n",
      "📦 Plotly version: 6.3.1\n"
     ]
    }
   ],
   "source": [
    "# Cell 1: Import libraries\n",
    "import pandas as pd\n",
    "import numpy as np\n",
    "import matplotlib.pyplot as plt\n",
    "import seaborn as sns\n",
    "import plotly.express as px\n",
    "import plotly.graph_objects as go\n",
    "import plotly\n",
    "from datetime import datetime\n",
    "import warnings\n",
    "warnings.filterwarnings('ignore')\n",
    "\n",
    "# Set visualization style\n",
    "plt.style.use('seaborn-v0_8-darkgrid')\n",
    "sns.set_palette(\"husl\")\n",
    "\n",
    "# Display settings\n",
    "pd.set_option('display.max_columns', None)\n",
    "pd.set_option('display.max_rows', 100)\n",
    "\n",
    "print(\"✅ Libraries imported successfully!\")\n",
    "print(f\"📦 Pandas version: {pd.__version__}\")\n",
    "print(f\"📦 Plotly version: {plotly.__version__}\")  # ← Changed from px.__version__"
   ]
  },
  {
   "cell_type": "code",
   "execution_count": 21,
   "id": "c06a3e4e-b342-435c-82eb-0cba6a84075d",
   "metadata": {},
   "outputs": [
    {
     "name": "stdout",
     "output_type": "stream",
     "text": [
      "======================================================================\n",
      "📊 DATASET OVERVIEW\n",
      "======================================================================\n",
      "Total rows: 94,970\n",
      "Total columns: 20\n",
      "Date range: 2025-10-28 to 2025-10-29\n",
      "Unique sensors: 99\n",
      "Memory usage: 69.20 MB\n",
      "\n",
      "======================================================================\n",
      "📋 COLUMN NAMES\n",
      "======================================================================\n",
      "['location_id', 'melbourne_time', 'sensing_date', 'hour', 'day_of_week', 'day_name', 'direction_1', 'direction_2', 'pedestrian_count', 'sensor_name', 'sensor_description', 'location_type', 'status', 'latitude', 'longitude', 'direction_1_name', 'direction_2_name', 'date', 'time_of_day', 'day_type']\n",
      "\n",
      "======================================================================\n",
      "🔍 FIRST 5 ROWS\n",
      "======================================================================\n",
      "   location_id       melbourne_time sensing_date  hour  day_of_week  \\\n",
      "0            1  2025-10-28 01:13:00   2025-10-28     1            2   \n",
      "1            1  2025-10-28 01:20:00   2025-10-28     1            2   \n",
      "2            1  2025-10-28 01:28:00   2025-10-28     1            2   \n",
      "3            1  2025-10-28 01:29:00   2025-10-28     1            2   \n",
      "4            1  2025-10-28 01:43:00   2025-10-28     1            2   \n",
      "\n",
      "    day_name  direction_1  direction_2  pedestrian_count sensor_name  \\\n",
      "0  Tuesday              1            3                 4    Bou292_T   \n",
      "1  Tuesday              0            1                 1    Bou292_T   \n",
      "2  Tuesday              2            0                 2    Bou292_T   \n",
      "3  Tuesday              0            1                 1    Bou292_T   \n",
      "4  Tuesday              1            1                 2    Bou292_T   \n",
      "\n",
      "           sensor_description location_type status   latitude   longitude  \\\n",
      "0  Bourke Street Mall (North)       Outdoor      A -37.813494  144.965153   \n",
      "1  Bourke Street Mall (North)       Outdoor      A -37.813494  144.965153   \n",
      "2  Bourke Street Mall (North)       Outdoor      A -37.813494  144.965153   \n",
      "3  Bourke Street Mall (North)       Outdoor      A -37.813494  144.965153   \n",
      "4  Bourke Street Mall (North)       Outdoor      A -37.813494  144.965153   \n",
      "\n",
      "  direction_1_name direction_2_name        date time_of_day day_type  \n",
      "0             East             West  2025-10-28       Night  Weekday  \n",
      "1             East             West  2025-10-28       Night  Weekday  \n",
      "2             East             West  2025-10-28       Night  Weekday  \n",
      "3             East             West  2025-10-28       Night  Weekday  \n",
      "4             East             West  2025-10-28       Night  Weekday  \n",
      "\n",
      "======================================================================\n",
      "📈 DATA TYPES\n",
      "======================================================================\n",
      "location_id             int64\n",
      "melbourne_time         object\n",
      "sensing_date           object\n",
      "hour                    int64\n",
      "day_of_week             int64\n",
      "day_name               object\n",
      "direction_1             int64\n",
      "direction_2             int64\n",
      "pedestrian_count        int64\n",
      "sensor_name            object\n",
      "sensor_description     object\n",
      "location_type          object\n",
      "status                 object\n",
      "latitude              float64\n",
      "longitude             float64\n",
      "direction_1_name       object\n",
      "direction_2_name       object\n",
      "date                   object\n",
      "time_of_day            object\n",
      "day_type               object\n",
      "dtype: object\n",
      "\n",
      "======================================================================\n",
      "📊 BASIC STATISTICS\n",
      "======================================================================\n",
      "       pedestrian_count   direction_1   direction_2          hour\n",
      "count      94970.000000  94970.000000  94970.000000  94970.000000\n",
      "mean          14.296557      7.130862      7.165694     13.910266\n",
      "std           22.399085     12.431124     12.146849      5.790037\n",
      "min            0.000000      0.000000      0.000000      0.000000\n",
      "25%            3.000000      1.000000      1.000000      9.000000\n",
      "50%            7.000000      3.000000      3.000000     14.000000\n",
      "75%           17.000000      8.000000      8.000000     19.000000\n",
      "max          466.000000    378.000000    331.000000     23.000000\n"
     ]
    }
   ],
   "source": [
    "# Cell 2: Load CSV data\n",
    "CSV_PATH = r\"C:\\Users\\ertugrul\\Downloads\\Supabase Snippet Pedestrian Counts with Sensor Locations.csv\"\n",
    "\n",
    "# Read CSV\n",
    "df = pd.read_csv(CSV_PATH)\n",
    "\n",
    "print(\"=\" * 70)\n",
    "print(\"📊 DATASET OVERVIEW\")\n",
    "print(\"=\" * 70)\n",
    "print(f\"Total rows: {len(df):,}\")\n",
    "print(f\"Total columns: {len(df.columns)}\")\n",
    "print(f\"Date range: {df['date'].min()} to {df['date'].max()}\")\n",
    "print(f\"Unique sensors: {df['location_id'].nunique()}\")\n",
    "print(f\"Memory usage: {df.memory_usage(deep=True).sum() / 1024**2:.2f} MB\")\n",
    "\n",
    "print(\"\\n\" + \"=\" * 70)\n",
    "print(\"📋 COLUMN NAMES\")\n",
    "print(\"=\" * 70)\n",
    "print(df.columns.tolist())\n",
    "\n",
    "print(\"\\n\" + \"=\" * 70)\n",
    "print(\"🔍 FIRST 5 ROWS\")\n",
    "print(\"=\" * 70)\n",
    "print(df.head())\n",
    "\n",
    "print(\"\\n\" + \"=\" * 70)\n",
    "print(\"📈 DATA TYPES\")\n",
    "print(\"=\" * 70)\n",
    "print(df.dtypes)\n",
    "\n",
    "print(\"\\n\" + \"=\" * 70)\n",
    "print(\"📊 BASIC STATISTICS\")\n",
    "print(\"=\" * 70)\n",
    "print(df[['pedestrian_count', 'direction_1', 'direction_2', 'hour']].describe())"
   ]
  },
  {
   "cell_type": "code",
   "execution_count": 22,
   "id": "30abf69b-d194-45e8-8dd4-a5ece11e8639",
   "metadata": {},
   "outputs": [
    {
     "name": "stdout",
     "output_type": "stream",
     "text": [
      "✅ Data cleaning complete!\n",
      "Rows after cleaning: 94,970\n",
      "Missing values:\n",
      "Series([], dtype: int64)\n"
     ]
    }
   ],
   "source": [
    "# Cell 3: Clean and prepare data\n",
    "\n",
    "# Convert melbourne_time to datetime if it's not already\n",
    "df['melbourne_time'] = pd.to_datetime(df['melbourne_time'])\n",
    "df['date'] = pd.to_datetime(df['date'])\n",
    "\n",
    "# Ensure numeric columns\n",
    "df['pedestrian_count'] = pd.to_numeric(df['pedestrian_count'], errors='coerce')\n",
    "df['hour'] = pd.to_numeric(df['hour'], errors='coerce')\n",
    "df['latitude'] = pd.to_numeric(df['latitude'], errors='coerce')\n",
    "df['longitude'] = pd.to_numeric(df['longitude'], errors='coerce')\n",
    "\n",
    "# Remove any rows with null pedestrian counts\n",
    "df = df.dropna(subset=['pedestrian_count'])\n",
    "\n",
    "# Create additional time features\n",
    "df['hour_label'] = df['hour'].apply(lambda x: f\"{int(x):02d}:00\")\n",
    "df['is_peak_hour'] = df['hour'].isin([8, 9, 12, 13, 17, 18])\n",
    "df['is_business_hours'] = df['hour'].between(9, 17)\n",
    "\n",
    "print(\"✅ Data cleaning complete!\")\n",
    "print(f\"Rows after cleaning: {len(df):,}\")\n",
    "print(f\"Missing values:\\n{df.isnull().sum()[df.isnull().sum() > 0]}\")"
   ]
  },
  {
   "cell_type": "code",
   "execution_count": 23,
   "id": "0f2c2dae-fc30-4f17-91d6-fd8ca184a520",
   "metadata": {},
   "outputs": [
    {
     "name": "stdout",
     "output_type": "stream",
     "text": [
      "======================================================================\n",
      "📅 DAILY SUMMARY\n",
      "======================================================================\n",
      "            Total Pedestrians  Avg Count  Peak Count  Active Sensors  Records\n",
      "date                                                                         \n",
      "2025-10-28             426880      13.77         315              99    30991\n",
      "2025-10-29             930864      14.55         466              99    63979\n",
      "\n",
      "======================================================================\n",
      "🕐 HOURLY AVERAGE (ALL DAYS)\n",
      "======================================================================\n",
      "      Avg Pedestrians  Peak Count  Records\n",
      "Hour                                      \n",
      "0                3.07          34     1431\n",
      "1                2.46          15     1214\n",
      "2                2.01          13      901\n",
      "3                1.96          21      674\n",
      "4                1.81          14      804\n",
      "5                2.37          39     1633\n",
      "6                4.63          77     3430\n",
      "7                8.52         134     4318\n",
      "8               16.63         374     4780\n",
      "9               13.23         239     4819\n",
      "10              11.98         206     4763\n",
      "11              14.01         201     4849\n",
      "12              21.77         272     4967\n",
      "13              21.37         310     5235\n",
      "14              17.37         285     4977\n",
      "15              18.76         287     4771\n",
      "16              21.14         336     4846\n",
      "17              26.16         466     6121\n",
      "18              20.08         323     5240\n",
      "19              15.24         207     4874\n",
      "20              11.67         154     5961\n",
      "21              10.22         195     5310\n",
      "22               7.63         136     5094\n",
      "23               5.10          96     3958\n",
      "\n",
      "======================================================================\n",
      "🏆 TOP 10 BUSIEST SENSORS\n",
      "======================================================================\n",
      "                         Total     Avg  Peak  Records\n",
      "location_id sensor_name                              \n",
      "35          SouthB_T     46939   27.37    86     1715\n",
      "25          MCEC_T       46549  122.50   466      380\n",
      "6           FliS_T       45337   24.86   104     1824\n",
      "84          ElFi_T       44113  110.28   315      400\n",
      "4           Swa123_T     42541   24.12   101     1764\n",
      "66          QVN_T        41350   23.76    79     1740\n",
      "3           Swa295_T     37222   19.89   103     1871\n",
      "24          Col620_T     37038   20.53   105     1804\n",
      "181         Eli368_T     34725   17.84    61     1947\n",
      "5           PriNW_T      33761   85.69   263      394\n"
     ]
    }
   ],
   "source": [
    "# Cell 4: Summary by day and hour\n",
    "\n",
    "print(\"=\" * 70)\n",
    "print(\"📅 DAILY SUMMARY\")\n",
    "print(\"=\" * 70)\n",
    "\n",
    "daily_summary = df.groupby('date').agg({\n",
    "    'pedestrian_count': ['sum', 'mean', 'max'],\n",
    "    'location_id': 'nunique',\n",
    "    'melbourne_time': 'count'\n",
    "}).round(2)\n",
    "\n",
    "daily_summary.columns = ['Total Pedestrians', 'Avg Count', 'Peak Count', 'Active Sensors', 'Records']\n",
    "print(daily_summary)\n",
    "\n",
    "print(\"\\n\" + \"=\" * 70)\n",
    "print(\"🕐 HOURLY AVERAGE (ALL DAYS)\")\n",
    "print(\"=\" * 70)\n",
    "\n",
    "hourly_avg = df.groupby('hour')['pedestrian_count'].agg(['mean', 'max', 'count']).round(2)\n",
    "hourly_avg.columns = ['Avg Pedestrians', 'Peak Count', 'Records']\n",
    "hourly_avg.index.name = 'Hour'\n",
    "print(hourly_avg)\n",
    "\n",
    "print(\"\\n\" + \"=\" * 70)\n",
    "print(\"🏆 TOP 10 BUSIEST SENSORS\")\n",
    "print(\"=\" * 70)\n",
    "\n",
    "top_sensors = df.groupby(['location_id', 'sensor_name']).agg({\n",
    "    'pedestrian_count': ['sum', 'mean', 'max'],\n",
    "    'melbourne_time': 'count'\n",
    "}).round(2)\n",
    "\n",
    "top_sensors.columns = ['Total', 'Avg', 'Peak', 'Records']\n",
    "top_sensors = top_sensors.sort_values('Total', ascending=False).head(10)\n",
    "print(top_sensors)"
   ]
  },
  {
   "cell_type": "code",
   "execution_count": 24,
   "id": "80eb612b-8cc0-42d2-8b31-1007a4dbc658",
   "metadata": {},
   "outputs": [
    {
     "data": {
      "image/png": "[encoded data removed]",
      "text/plain": [
       "<Figure size 1400x1000 with 2 Axes>"
      ]
     },
     "metadata": {},
     "output_type": "display_data"
    },
    {
     "name": "stdout",
     "output_type": "stream",
     "text": [
      "✅ Hourly pattern chart saved as 'hourly_pattern_analysis.png'\n"
     ]
    }
   ],
   "source": [
    "# Cell 5: Hourly activity pattern\n",
    "\n",
    "fig, axes = plt.subplots(2, 1, figsize=(14, 10))\n",
    "\n",
    "# Plot 1: Average pedestrian count by hour (both days combined)\n",
    "hourly_data = df.groupby('hour')['pedestrian_count'].agg(['mean', 'std']).reset_index()\n",
    "\n",
    "axes[0].plot(hourly_data['hour'], hourly_data['mean'], marker='o', linewidth=2, markersize=8)\n",
    "axes[0].fill_between(hourly_data['hour'], \n",
    "                      hourly_data['mean'] - hourly_data['std'], \n",
    "                      hourly_data['mean'] + hourly_data['std'], \n",
    "                      alpha=0.3)\n",
    "axes[0].set_xlabel('Hour of Day', fontsize=12, fontweight='bold')\n",
    "axes[0].set_ylabel('Average Pedestrian Count', fontsize=12, fontweight='bold')\n",
    "axes[0].set_title('Average Hourly Pedestrian Activity Pattern (Tuesday + Wednesday)', \n",
    "                  fontsize=14, fontweight='bold')\n",
    "axes[0].grid(True, alpha=0.3)\n",
    "axes[0].set_xticks(range(0, 24))\n",
    "axes[0].axvspan(8, 9, alpha=0.2, color='green', label='Morning Peak')\n",
    "axes[0].axvspan(12, 13, alpha=0.2, color='orange', label='Lunch Peak')\n",
    "axes[0].axvspan(17, 18, alpha=0.2, color='red', label='Evening Peak')\n",
    "axes[0].legend()\n",
    "\n",
    "# Plot 2: Compare Tuesday vs Wednesday\n",
    "hourly_by_day = df.groupby(['day_name', 'hour'])['pedestrian_count'].mean().reset_index()\n",
    "\n",
    "for day in hourly_by_day['day_name'].unique():\n",
    "    day_data = hourly_by_day[hourly_by_day['day_name'] == day]\n",
    "    axes[1].plot(day_data['hour'], day_data['pedestrian_count'], \n",
    "                 marker='o', label=day, linewidth=2, markersize=6)\n",
    "\n",
    "axes[1].set_xlabel('Hour of Day', fontsize=12, fontweight='bold')\n",
    "axes[1].set_ylabel('Average Pedestrian Count', fontsize=12, fontweight='bold')\n",
    "axes[1].set_title('Hourly Pattern Comparison: Tuesday vs Wednesday', \n",
    "                  fontsize=14, fontweight='bold')\n",
    "axes[1].grid(True, alpha=0.3)\n",
    "axes[1].set_xticks(range(0, 24))\n",
    "axes[1].legend(fontsize=11)\n",
    "\n",
    "plt.tight_layout()\n",
    "plt.savefig('hourly_pattern_analysis.png', dpi=300, bbox_inches='tight')\n",
    "plt.show()\n",
    "\n",
    "print(\"✅ Hourly pattern chart saved as 'hourly_pattern_analysis.png'\")"
   ]
  },
  {
   "cell_type": "code",
   "execution_count": 25,
   "id": "07e9ec69-9bd9-4f9d-b0a4-40117a9b0752",
   "metadata": {},
   "outputs": [
    {
     "data": {
      "image/png": "[encoded data removed]",
      "text/plain": [
       "<Figure size 1000x1200 with 2 Axes>"
      ]
     },
     "metadata": {},
     "output_type": "display_data"
    },
    {
     "name": "stdout",
     "output_type": "stream",
     "text": [
      "✅ Heatmap saved as 'heatmap_hour_vs_day.png'\n"
     ]
    }
   ],
   "source": [
    "# Cell 6: Heatmap showing activity by hour and day\n",
    "\n",
    "# Create pivot table for heatmap\n",
    "heatmap_data = df.pivot_table(\n",
    "    values='pedestrian_count',\n",
    "    index='hour',\n",
    "    columns='day_name',\n",
    "    aggfunc='mean'\n",
    ")\n",
    "\n",
    "plt.figure(figsize=(10, 12))\n",
    "sns.heatmap(heatmap_data, annot=True, fmt='.1f', cmap='YlOrRd', \n",
    "            cbar_kws={'label': 'Avg Pedestrian Count'}, linewidths=0.5)\n",
    "plt.title('Average Pedestrian Activity: Hour vs Day Heatmap', \n",
    "          fontsize=14, fontweight='bold', pad=20)\n",
    "plt.xlabel('Day of Week', fontsize=12, fontweight='bold')\n",
    "plt.ylabel('Hour of Day', fontsize=12, fontweight='bold')\n",
    "plt.yticks(rotation=0)\n",
    "plt.tight_layout()\n",
    "plt.savefig('heatmap_hour_vs_day.png', dpi=300, bbox_inches='tight')\n",
    "plt.show()\n",
    "\n",
    "print(\"✅ Heatmap saved as 'heatmap_hour_vs_day.png'\")"
   ]
  },
  {
   "cell_type": "code",
   "execution_count": 26,
   "id": "d9453116-56d3-43a6-ab5e-faa5088b0834",
   "metadata": {},
   "outputs": [
    {
     "data": {
      "image/png": "[encoded data removed]",
      "text/plain": [
       "<Figure size 1200x800 with 1 Axes>"
      ]
     },
     "metadata": {},
     "output_type": "display_data"
    },
    {
     "name": "stdout",
     "output_type": "stream",
     "text": [
      "✅ Top sensors chart saved as 'top15_busiest_sensors.png'\n"
     ]
    }
   ],
   "source": [
    "# Cell 7: Top 15 busiest sensors\n",
    "\n",
    "top15_sensors = df.groupby(['location_id', 'sensor_name']).agg({\n",
    "    'pedestrian_count': 'sum'\n",
    "}).reset_index().sort_values('pedestrian_count', ascending=False).head(15)\n",
    "\n",
    "plt.figure(figsize=(12, 8))\n",
    "bars = plt.barh(range(len(top15_sensors)), top15_sensors['pedestrian_count'])\n",
    "\n",
    "# Color code by activity level\n",
    "colors = plt.cm.Reds(np.linspace(0.4, 0.9, len(top15_sensors)))\n",
    "for bar, color in zip(bars, colors):\n",
    "    bar.set_color(color)\n",
    "\n",
    "plt.yticks(range(len(top15_sensors)), top15_sensors['sensor_name'])\n",
    "plt.xlabel('Total Pedestrian Count (2 days)', fontsize=12, fontweight='bold')\n",
    "plt.ylabel('Sensor Location', fontsize=12, fontweight='bold')\n",
    "plt.title('Top 15 Busiest Pedestrian Sensors (Oct 28-29, 2025)', \n",
    "          fontsize=14, fontweight='bold')\n",
    "plt.grid(axis='x', alpha=0.3)\n",
    "\n",
    "# Add value labels on bars\n",
    "for i, (idx, row) in enumerate(top15_sensors.iterrows()):\n",
    "    plt.text(row['pedestrian_count'], i, f\" {int(row['pedestrian_count']):,}\", \n",
    "             va='center', fontsize=9)\n",
    "\n",
    "plt.tight_layout()\n",
    "plt.savefig('top15_busiest_sensors.png', dpi=300, bbox_inches='tight')\n",
    "plt.show()\n",
    "\n",
    "print(\"✅ Top sensors chart saved as 'top15_busiest_sensors.png'\")"
   ]
  },
  {
   "cell_type": "code",
   "execution_count": 27,
   "id": "28206f72-f714-41ea-bec6-80714cf75ba6",
   "metadata": {},
   "outputs": [
    {
     "data": {
      "application/vnd.plotly.v1+json": {
       "config": {
        "plotlyServerURL": "https://plot.ly"
       },
       "data": [
        {
         "customdata": {
          "bdata": "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",
          "dtype": "f8",
          "shape": "99, 5"
         },
         "hovertemplate": "<b>%{hovertext}</b><br><br>total_count=%{customdata[0]:,}<br>avg_count=%{marker.color:.1f}<br>peak_count=%{customdata[2]:,}<extra></extra>",
         "hovertext": [
          "Bou292_T",
          "Bou283_T",
          "Swa295_T",
          "Swa123_T",
          "PriNW_T",
          "FliS_T",
          "WebBN_T",
          "Col700_T",
          "BouHbr_T",
          "WatCit_T",
          "NewQ_T",
          "SanBri_T",
          "Col15_T",
          "Col12_T",
          "LtB210_T",
          "LtB170_T",
          "Bourke155_T",
          "Col623_T",
          "Col620_T",
          "MCEC_T",
          "Vic_T",
          "VAC_T",
          "AG_T",
          "Lon189_T",
          "Lyg161_T",
          "SouthB_T",
          "Que85_T",
          "Lyg260_T",
          "AlfPl_T",
          "Spr201_T",
          "Swa31",
          "UM1_T",
          "UM2_T",
          "UM3_T",
          "Swa148_T",
          "Pel147_T",
          "Eli250_T",
          "QVMQ_T",
          "Eli501_T",
          "Lyg309_T",
          "Fra118_T",
          "Eli263_T",
          "Col254_T",
          "Swa607_T",
          "Lon364_T",
          "Bou688_T",
          "RMIT_T",
          "RMIT14_T",
          "Lat224_T",
          "Bou231_T",
          "QVN_T",
          "FLDegS_T",
          "FLDegN_T",
          "FLDegC_T",
          "Errol20_T",
          "WestWP_T",
          "ACMI_T",
          "SprFli_T",
          "KenMac_T",
          "HarEsP_T",
          "HarEsB_T",
          "FliSS_T",
          "ElFi_T",
          "488Mac_T",
          "574Qub_T",
          "Errol23_T",
          "280Will_T",
          "261Will_T",
          "LatWill_T",
          "Fli114F_T",
          "Fli114C_T",
          "BirBridge_T",
          "BirBridge_T",
          "Bou892T",
          "King2_T",
          "King335_T",
          "Spen229_T",
          "Spen201_T",
          "Spen161_T",
          "BirFed1120_T",
          "BouHbr2353_T",
          "EntPark1671_T",
          "Signal1647_T",
          "Boyd2837_T",
          "474Fl_T",
          "Hammer1584_T",
          "Spencer_T",
          "BirArt1109_T",
          "Eli489_T",
          "Lat526_T",
          "Spen475_T",
          "Spen484_T",
          "Lat526_T",
          "Pow61_T",
          "Mac330_T",
          "Eli368_T",
          "King163_T",
          "Eli124_T",
          "Eli197_T"
         ],
         "lat": {
          "bdata": "4za3lSDoQsDk7jnRKuhCwMYt7ljP50LAW2Lh+03oQsCjMs2NzOhCwEqs1tPY6ELA7Ei78lXpQsBVV9Mv8OhCwH+1ckjN6ELAnEQxN2foQsAwSkwnROhCwMJ4m3H56ELAoIXK4CToQsAs8JkVH+hCwPAKbc7750LATsGOvebnQsAP2FGsBehCwGjMZgbY6ELA9Bo3DNHoQsD3QvlpeelCwDD22kMt50LAW311VSDpQsDEaAwp9ehCwIG0/wHW50LA9yBGAJ7mQsD8rfjh++hCwPiAaeaD6ELAWtVxgInmQsD2jiKEKuhCwHf2Mt2t50LA6bGQLYnoQsBr2fc0aeZCwFGsS3Qz5kLACqP2rgPmQsCjy5vDNehCwAiQX0e15kLAw3BDxgLoQsBQGUFbNedCwLxR8aBV50LA5vZgjCfmQsAV3/U+eudCwOg48bQA6ELANllA9GboQsB8mShC6uZCwFad1QL750LAaVGf5I7oQsCmMMbydOdCwOAHMeFh50LAchpg7qznQsC841Y5G+hCwGJF9AjB50LAOeFvxY/oQsA0J9R4juhCwNTaLEWP6ELA8BL/JPzmQsB5c7hW++dCwMKoIBac6ELA2bj27FboQsCeIxNss+VCwP6++7o+6ELABbWtoEjoQsA64+JFsuhCwHSorpWz6ELAJVbraazlQsD96Gn6y+ZCwCDISXr75kLAs1Uwx/7nQsAK9dMDD+hCwC2vnovt50LA8KusTHzoQsATVSpufehCwHCa2xCl6ELAmaAjRaboQsAPh1v0BOlCwDn0ULr46ELAA6SqxwXoQsDRmno4XOhCwANW9Y+R6ELA2Xy31JzoQsDqChHLwehCwFKvAEvT6ELAO1OmoPToQsChVqig6OhCwAetC2i36ULAHnvN3fToQsAK684s7OhCwI8aE2Iu6ULAg8evBsXoQsDB52YDWedCwAM+P4wQ6ELAIAjzy57nQsD08NA9jOdCwKrrWL4R6ELAfBIzVnbpQsB5qqaYweVCwBE1di6x50LAFIHirnvoQsCTsAz9VehCwBsL0Nco6ELA",
          "dtype": "f8"
         },
         "legendgroup": "",
         "lon": {
          "bdata": "Us8GieIeYkC5KEim4h5iQHCO34DbHmJAEUL2MOoeYkB7eEPY+B5iQNM6YA3mHmJAvcInQk8eYkAiXSLNbh5iQKGzFrBOHmJA+uNJFBIeYkDaFuluLB5iQCObcTvQHmJAxZeivyQfYkBvEyhBIx9iQJjwU27lHmJA0i5L4PseYkCqfoTl+B5iQHe3Nn2LHmJAnszDMoseYkBQxyHqlx5iQFE4kjabHmJAgcRdWgAfYkBYzjnT/x5iQNzhIyDuHmJA1QNJTO4eYkCkDhv64R5iQPkuxjzCHmJAXQF9CfIeYkBfyDTkCR9iQOEKSeIcH2JAEl6r0vAeYkADJpH51x5iQIJMnQ3aHmJAIRHHeNweYkBmHYY96h5iQOZMySjFHmJAsktUb80eYkD5fFpmrR5iQASZU7i0HmJAuJaoYvMeYkDzXzmlsB5iQMDGmjbIHmJAQ6ooXuUeYkA9C4SV0R5iQBSvFeHEHmJAC+vGu4MeYkBJ0EZL0R5iQMGrgqTRHmJAkcmxDsoeYkB7taup7x5iQA/FcLfcHmJAR9fYZ+YeYkBf1Ist5h5iQB8DBSDmHmJAVyy4/mEeYkBLx711FR9iQIgoDdL/HmJACYQAjTAfYkDIN2eGxR1iQFfqF/Q3HmJAfYRQlDoeYkCdUpjW6h5iQEdsoI7hHmJAxGIOYcAdYkAjwlzeXh5iQFOTv/9fHmJAlwKx8J4eYkBIGKMBnh5iQF166keZHmJAltFErxEfYkBoPZ2nER9iQK6SdkAlH2JAl1CoRCUfYkDPLp3eHh5iQCE6BI6kHmJAwdO3DoYeYkBV6A8PeR5iQKMBYUx/HmJAtTd0ioAeYkApKnaPJx9iQKzskqNGHmJAz3D7zLYeYkApGUo30x5iQKwXCY7HHmJAObPAy6oeYkAk56uB+R5iQBXp2QeUHmJAxmvB/xQfYkBBdVpUtx5iQA5mdopzHmJAV544Z2EeYkBZrBvOYB5iQEpuAy1zHmJAtyma3tAeYkCFTCoB7h1iQKDc+AvEHmJAb+BIf5MeYkBd4xLL1h5iQP215fHOHmJA",
          "dtype": "f8"
         },
         "marker": {
          "color": {
           "bdata": "7hFwvNlQNEA0UZcwu6IuQEi/Vpro5DNAt+QmJcAdOEDJIa4yBWxVQDGdxXQW2zhAD8y1A3PtGkBc4tTvuZUyQC6GdN5iSAtA7KNhN3mhDkC0I4F2JNAUQO3ZTZbjEyJAf36RmVbNJ0CcTzKdskQiQAoKCgoKeiVAAYaCbrv1HECoxks3icFAQJkBm7sVPDZACCZ/YPKHNED9nlvi1J9eQOmiiy66eChAaoTlnkZYKEAXXXTRRRcdQOLoS9a8ISBAUAd1UAd1EkCmwnhNo147QKO+s1HfGRhAdNFFF110HUD1Hvkda3YPQBHvVW9uxxlAraAxg43gIUCwtPtKu68UQCxiyrwipjNAQNh4NH+wJEAuqXO3gwkxQMCpUfFvaixAyFDWWfP3MUA+PW7G/jAUQC6JSC6JSB5ALs3BC6ufE0Bab7B2uUYIQB4t6/XwBiJANUZBZ1wWKkDHcRzHcRwTQEXuDrCGqSNAivbefBr2LUCTCKmWdYBSQOJu2msMsyVA38jJI0WaF0Ag10Qg10QlQNo69JutwzdAvse02o4mKkDOgUQrbA4dQKte48C91BpA4/lOSxTbEEDX+Lt5hOr/P8rtbMswoiBA3cB/2+XiBEAH/UhGFPcCQNiCLdiCrTRAimcwicZ1BUDrM+vk2ockQK5H4XoUkltA9v2gKqRMBkBuNOwRAawBQCxBv1eCfgtA05+zHR8CM0BkFOc6RnEsQIyQXhyiMDZAgAEGGGCAOEAGqtDoV70MQDDQL9Av0B9AzGEOc5jD/D9605ve9KYhQG9605vedDBAZ7gdPMXUMUAzMzMzMxtQQNaHxvrQKEdAQbwn6x+XRkA0xdK1FTg3QAZ76O171SpA+IEf+IEfAEDHLo0CERwrQPTK2H5Hry1AGWOMMcaYMUDdxVpFdMpMQO6OxbOnKD9AOaPdw9Y3PUDsUbgehVNCQEQOOeSQQyhAr6G8hvKaFUD9NTtqEfIdQNwZEvN2hhRAFS+QSfECH0DTlMQWMzQCQBsjryTL1TFAN7z6Z3oOOkAzMzMzM6tUQPuArREzPlFA",
           "dtype": "f8"
          },
          "coloraxis": "coloraxis",
          "size": {
           "bdata": "5X4AAPFdAABmkQAALaYAAOGDAAAZsQAASiQAAFluAAB0DwAANxEAAGYbAADQHwAALEsAADUtAAB1RAAAmikAABcxAACSRQAArpAAANW1AADTEAAA+k8AACArAACkMwAAPBkAAFu3AABmIwAAbgQAAAIQAADGIwAAkzYAAKgPAAAFGgAAAw0AAJpyAAB8DwAAAn0AALoYAADkMQAA3xkAACIQAACKNgAAVU8AAA8dAACbHwAA72YAANd4AACgRwAAvyYAADVFAACGoQAAvlIAAEsoAAAZIAAAPBEAAHUEAABoMAAAlgoAAMUIAAAUHQAAXQoAAJxEAABRrAAASwwAAEIIAAAjEAAA4RoAACleAADaIAAAoyAAALgDAAD8BwAAoAAAAE8KAACoFwAAZhoAAKpkAADtRgAAXEUAAKsZAADVDgAABgEAAPAPAADfDAAAkhkAAHU4AAANMQAAAyIAAEU5AAApEAAAagYAAJkIAAD0BQAAigoAABkEAAClhwAAmCcAAC6BAABYaQAA",
           "dtype": "i4"
          },
          "sizemode": "area",
          "sizeref": 469.39
         },
         "mode": "markers",
         "name": "",
         "showlegend": false,
         "subplot": "mapbox",
         "type": "scattermapbox"
        }
       ],
       "layout": {
        "coloraxis": {
         "colorbar": {
          "title": {
           "text": "avg_count"
          }
         },
         "colorscale": [
          [
           0,
           "rgb(255,255,204)"
          ],
          [
           0.125,
           "rgb(255,237,160)"
          ],
          [
           0.25,
           "rgb(254,217,118)"
          ],
          [
           0.375,
           "rgb(254,178,76)"
          ],
          [
           0.5,
           "rgb(253,141,60)"
          ],
          [
           0.625,
           "rgb(252,78,42)"
          ],
          [
           0.75,
           "rgb(227,26,28)"
          ],
          [
           0.875,
           "rgb(189,0,38)"
          ],
          [
           1,
           "rgb(128,0,38)"
          ]
         ]
        },
        "font": {
         "size": 12
        },
        "height": 700,
        "legend": {
         "itemsizing": "constant",
         "tracegroupgap": 0
        },
        "mapbox": {
         "accesstoken": "pk.eyJ1IjoiZXJ0dWdydWxha2RlbWlyIiwiYSI6ImNtZ3o0NXVsOTAyOXk3cHM4ZHJ0MmU1enMifQ.vj7BMAX9VFQbNGaqt9ixdQ",
         "center": {
          "lat": -37.81314628696968,
          "lon": 144.96010470151515
         },
         "domain": {
          "x": [
           0,
           1
          ],
          "y": [
           0,
           1
          ]
         },
         "style": "dark",
         "zoom": 12
        },
        "template": {
         "data": {
          "bar": [
           {
            "error_x": {
             "color": "#2a3f5f"
            },
            "error_y": {
             "color": "#2a3f5f"
            },
            "marker": {
             "line": {
              "color": "#E5ECF6",
              "width": 0.5
             },
             "pattern": {
              "fillmode": "overlay",
              "size": 10,
              "solidity": 0.2
             }
            },
            "type": "bar"
           }
          ],
          "barpolar": [
           {
            "marker": {
             "line": {
              "color": "#E5ECF6",
              "width": 0.5
             },
             "pattern": {
              "fillmode": "overlay",
              "size": 10,
              "solidity": 0.2
             }
            },
            "type": "barpolar"
           }
          ],
          "carpet": [
           {
            "aaxis": {
             "endlinecolor": "#2a3f5f",
             "gridcolor": "white",
             "linecolor": "white",
             "minorgridcolor": "white",
             "startlinecolor": "#2a3f5f"
            },
            "baxis": {
             "endlinecolor": "#2a3f5f",
             "gridcolor": "white",
             "linecolor": "white",
             "minorgridcolor": "white",
             "startlinecolor": "#2a3f5f"
            },
            "type": "carpet"
           }
          ],
          "choropleth": [
           {
            "colorbar": {
             "outlinewidth": 0,
             "ticks": ""
            },
            "type": "choropleth"
           }
          ],
          "contour": [
           {
            "colorbar": {
             "outlinewidth": 0,
             "ticks": ""
            },
            "colorscale": [
             [
              0,
              "#0d0887"
             ],
             [
              0.1111111111111111,
              "#46039f"
             ],
             [
              0.2222222222222222,
              "#7201a8"
             ],
             [
              0.3333333333333333,
              "#9c179e"
             ],
             [
              0.4444444444444444,
              "#bd3786"
             ],
             [
              0.5555555555555556,
              "#d8576b"
             ],
             [
              0.6666666666666666,
              "#ed7953"
             ],
             [
              0.7777777777777778,
              "#fb9f3a"
             ],
             [
              0.8888888888888888,
              "#fdca26"
             ],
             [
              1,
              "#f0f921"
             ]
            ],
            "type": "contour"
           }
          ],
          "contourcarpet": [
           {
            "colorbar": {
             "outlinewidth": 0,
             "ticks": ""
            },
            "type": "contourcarpet"
           }
          ],
          "heatmap": [
           {
            "colorbar": {
             "outlinewidth": 0,
             "ticks": ""
            },
            "colorscale": [
             [
              0,
              "#0d0887"
             ],
             [
              0.1111111111111111,
              "#46039f"
             ],
             [
              0.2222222222222222,
              "#7201a8"
             ],
             [
              0.3333333333333333,
              "#9c179e"
             ],
             [
              0.4444444444444444,
              "#bd3786"
             ],
             [
              0.5555555555555556,
              "#d8576b"
             ],
             [
              0.6666666666666666,
              "#ed7953"
             ],
             [
              0.7777777777777778,
              "#fb9f3a"
             ],
             [
              0.8888888888888888,
              "#fdca26"
             ],
             [
              1,
              "#f0f921"
             ]
            ],
            "type": "heatmap"
           }
          ],
          "histogram": [
           {
            "marker": {
             "pattern": {
              "fillmode": "overlay",
              "size": 10,
              "solidity": 0.2
             }
            },
            "type": "histogram"
           }
          ],
          "histogram2d": [
           {
            "colorbar": {
             "outlinewidth": 0,
             "ticks": ""
            },
            "colorscale": [
             [
              0,
              "#0d0887"
             ],
             [
              0.1111111111111111,
              "#46039f"
             ],
             [
              0.2222222222222222,
              "#7201a8"
             ],
             [
              0.3333333333333333,
              "#9c179e"
             ],
             [
              0.4444444444444444,
              "#bd3786"
             ],
             [
              0.5555555555555556,
              "#d8576b"
             ],
             [
              0.6666666666666666,
              "#ed7953"
             ],
             [
              0.7777777777777778,
              "#fb9f3a"
             ],
             [
              0.8888888888888888,
              "#fdca26"
             ],
             [
              1,
              "#f0f921"
             ]
            ],
            "type": "histogram2d"
           }
          ],
          "histogram2dcontour": [
           {
            "colorbar": {
             "outlinewidth": 0,
             "ticks": ""
            },
            "colorscale": [
             [
              0,
              "#0d0887"
             ],
             [
              0.1111111111111111,
              "#46039f"
             ],
             [
              0.2222222222222222,
              "#7201a8"
             ],
             [
              0.3333333333333333,
              "#9c179e"
             ],
             [
              0.4444444444444444,
              "#bd3786"
             ],
             [
              0.5555555555555556,
              "#d8576b"
             ],
             [
              0.6666666666666666,
              "#ed7953"
             ],
             [
              0.7777777777777778,
              "#fb9f3a"
             ],
             [
              0.8888888888888888,
              "#fdca26"
             ],
             [
              1,
              "#f0f921"
             ]
            ],
            "type": "histogram2dcontour"
           }
          ],
          "mesh3d": [
           {
            "colorbar": {
             "outlinewidth": 0,
             "ticks": ""
            },
            "type": "mesh3d"
           }
          ],
          "parcoords": [
           {
            "line": {
             "colorbar": {
              "outlinewidth": 0,
              "ticks": ""
             }
            },
            "type": "parcoords"
           }
          ],
          "pie": [
           {
            "automargin": true,
            "type": "pie"
           }
          ],
          "scatter": [
           {
            "fillpattern": {
             "fillmode": "overlay",
             "size": 10,
             "solidity": 0.2
            },
            "type": "scatter"
           }
          ],
          "scatter3d": [
           {
            "line": {
             "colorbar": {
              "outlinewidth": 0,
              "ticks": ""
             }
            },
            "marker": {
             "colorbar": {
              "outlinewidth": 0,
              "ticks": ""
             }
            },
            "type": "scatter3d"
           }
          ],
          "scattercarpet": [
           {
            "marker": {
             "colorbar": {
              "outlinewidth": 0,
              "ticks": ""
             }
            },
            "type": "scattercarpet"
           }
          ],
          "scattergeo": [
           {
            "marker": {
             "colorbar": {
              "outlinewidth": 0,
              "ticks": ""
             }
            },
            "type": "scattergeo"
           }
          ],
          "scattergl": [
           {
            "marker": {
             "colorbar": {
              "outlinewidth": 0,
              "ticks": ""
             }
            },
            "type": "scattergl"
           }
          ],
          "scattermap": [
           {
            "marker": {
             "colorbar": {
              "outlinewidth": 0,
              "ticks": ""
             }
            },
            "type": "scattermap"
           }
          ],
          "scattermapbox": [
           {
            "marker": {
             "colorbar": {
              "outlinewidth": 0,
              "ticks": ""
             }
            },
            "type": "scattermapbox"
           }
          ],
          "scatterpolar": [
           {
            "marker": {
             "colorbar": {
              "outlinewidth": 0,
              "ticks": ""
             }
            },
            "type": "scatterpolar"
           }
          ],
          "scatterpolargl": [
           {
            "marker": {
             "colorbar": {
              "outlinewidth": 0,
              "ticks": ""
             }
            },
            "type": "scatterpolargl"
           }
          ],
          "scatterternary": [
           {
            "marker": {
             "colorbar": {
              "outlinewidth": 0,
              "ticks": ""
             }
            },
            "type": "scatterternary"
           }
          ],
          "surface": [
           {
            "colorbar": {
             "outlinewidth": 0,
             "ticks": ""
            },
            "colorscale": [
             [
              0,
              "#0d0887"
             ],
             [
              0.1111111111111111,
              "#46039f"
             ],
             [
              0.2222222222222222,
              "#7201a8"
             ],
             [
              0.3333333333333333,
              "#9c179e"
             ],
             [
              0.4444444444444444,
              "#bd3786"
             ],
             [
              0.5555555555555556,
              "#d8576b"
             ],
             [
              0.6666666666666666,
              "#ed7953"
             ],
             [
              0.7777777777777778,
              "#fb9f3a"
             ],
             [
              0.8888888888888888,
              "#fdca26"
             ],
             [
              1,
              "#f0f921"
             ]
            ],
            "type": "surface"
           }
          ],
          "table": [
           {
            "cells": {
             "fill": {
              "color": "#EBF0F8"
             },
             "line": {
              "color": "white"
             }
            },
            "header": {
             "fill": {
              "color": "#C8D4E3"
             },
             "line": {
              "color": "white"
             }
            },
            "type": "table"
           }
          ]
         },
         "layout": {
          "annotationdefaults": {
           "arrowcolor": "#2a3f5f",
           "arrowhead": 0,
           "arrowwidth": 1
          },
          "autotypenumbers": "strict",
          "coloraxis": {
           "colorbar": {
            "outlinewidth": 0,
            "ticks": ""
           }
          },
          "colorscale": {
           "diverging": [
            [
             0,
             "#8e0152"
            ],
            [
             0.1,
             "#c51b7d"
            ],
            [
             0.2,
             "#de77ae"
            ],
            [
             0.3,
             "#f1b6da"
            ],
            [
             0.4,
             "#fde0ef"
            ],
            [
             0.5,
             "#f7f7f7"
            ],
            [
             0.6,
             "#e6f5d0"
            ],
            [
             0.7,
             "#b8e186"
            ],
            [
             0.8,
             "#7fbc41"
            ],
            [
             0.9,
             "#4d9221"
            ],
            [
             1,
             "#276419"
            ]
           ],
           "sequential": [
            [
             0,
             "#0d0887"
            ],
            [
             0.1111111111111111,
             "#46039f"
            ],
            [
             0.2222222222222222,
             "#7201a8"
            ],
            [
             0.3333333333333333,
             "#9c179e"
            ],
            [
             0.4444444444444444,
             "#bd3786"
            ],
            [
             0.5555555555555556,
             "#d8576b"
            ],
            [
             0.6666666666666666,
             "#ed7953"
            ],
            [
             0.7777777777777778,
             "#fb9f3a"
            ],
            [
             0.8888888888888888,
             "#fdca26"
            ],
            [
             1,
             "#f0f921"
            ]
           ],
           "sequentialminus": [
            [
             0,
             "#0d0887"
            ],
            [
             0.1111111111111111,
             "#46039f"
            ],
            [
             0.2222222222222222,
             "#7201a8"
            ],
            [
             0.3333333333333333,
             "#9c179e"
            ],
            [
             0.4444444444444444,
             "#bd3786"
            ],
            [
             0.5555555555555556,
             "#d8576b"
            ],
            [
             0.6666666666666666,
             "#ed7953"
            ],
            [
             0.7777777777777778,
             "#fb9f3a"
            ],
            [
             0.8888888888888888,
             "#fdca26"
            ],
            [
             1,
             "#f0f921"
            ]
           ]
          },
          "colorway": [
           "#636efa",
           "#EF553B",
           "#00cc96",
           "#ab63fa",
           "#FFA15A",
           "#19d3f3",
           "#FF6692",
           "#B6E880",
           "#FF97FF",
           "#FECB52"
          ],
          "font": {
           "color": "#2a3f5f"
          },
          "geo": {
           "bgcolor": "white",
           "lakecolor": "white",
           "landcolor": "#E5ECF6",
           "showlakes": true,
           "showland": true,
           "subunitcolor": "white"
          },
          "hoverlabel": {
           "align": "left"
          },
          "hovermode": "closest",
          "mapbox": {
           "style": "light"
          },
          "paper_bgcolor": "white",
          "plot_bgcolor": "#E5ECF6",
          "polar": {
           "angularaxis": {
            "gridcolor": "white",
            "linecolor": "white",
            "ticks": ""
           },
           "bgcolor": "#E5ECF6",
           "radialaxis": {
            "gridcolor": "white",
            "linecolor": "white",
            "ticks": ""
           }
          },
          "scene": {
           "xaxis": {
            "backgroundcolor": "#E5ECF6",
            "gridcolor": "white",
            "gridwidth": 2,
            "linecolor": "white",
            "showbackground": true,
            "ticks": "",
            "zerolinecolor": "white"
           },
           "yaxis": {
            "backgroundcolor": "#E5ECF6",
            "gridcolor": "white",
            "gridwidth": 2,
            "linecolor": "white",
            "showbackground": true,
            "ticks": "",
            "zerolinecolor": "white"
           },
           "zaxis": {
            "backgroundcolor": "#E5ECF6",
            "gridcolor": "white",
            "gridwidth": 2,
            "linecolor": "white",
            "showbackground": true,
            "ticks": "",
            "zerolinecolor": "white"
           }
          },
          "shapedefaults": {
           "line": {
            "color": "#2a3f5f"
           }
          },
          "ternary": {
           "aaxis": {
            "gridcolor": "white",
            "linecolor": "white",
            "ticks": ""
           },
           "baxis": {
            "gridcolor": "white",
            "linecolor": "white",
            "ticks": ""
           },
           "bgcolor": "#E5ECF6",
           "caxis": {
            "gridcolor": "white",
            "linecolor": "white",
            "ticks": ""
           }
          },
          "title": {
           "x": 0.05
          },
          "xaxis": {
           "automargin": true,
           "gridcolor": "white",
           "linecolor": "white",
           "ticks": "",
           "title": {
            "standoff": 15
           },
           "zerolinecolor": "white",
           "zerolinewidth": 2
          },
          "yaxis": {
           "automargin": true,
           "gridcolor": "white",
           "linecolor": "white",
           "ticks": "",
           "title": {
            "standoff": 15
           },
           "zerolinecolor": "white",
           "zerolinewidth": 2
          }
         }
        },
        "title": {
         "font": {
          "size": 16
         },
         "text": "Melbourne Pedestrian Activity Map (Oct 28-29, 2025)"
        }
       }
      }
     },
     "metadata": {},
     "output_type": "display_data"
    },
    {
     "name": "stdout",
     "output_type": "stream",
     "text": [
      "✅ Interactive map saved as 'pedestrian_activity_map.html'\n",
      "📍 Open the HTML file in your browser to interact with the map\n"
     ]
    }
   ],
   "source": [
    "# Cell 8: Interactive map with Mapbox\n",
    "\n",
    "# Aggregate sensor data for mapping\n",
    "sensor_summary = df.groupby(['location_id', 'sensor_name', 'latitude', 'longitude']).agg({\n",
    "    'pedestrian_count': ['sum', 'mean', 'max'],\n",
    "    'melbourne_time': 'count'\n",
    "}).reset_index()\n",
    "\n",
    "sensor_summary.columns = ['location_id', 'sensor_name', 'latitude', 'longitude', \n",
    "                          'total_count', 'avg_count', 'peak_count', 'records']\n",
    "\n",
    "# Remove sensors without coordinates\n",
    "sensor_summary = sensor_summary.dropna(subset=['latitude', 'longitude'])\n",
    "\n",
    "# Create hover text\n",
    "sensor_summary['hover_text'] = sensor_summary.apply(\n",
    "    lambda row: f\"<b>{row['sensor_name']}</b><br>\" +\n",
    "                f\"Total: {int(row['total_count']):,}<br>\" +\n",
    "                f\"Avg: {row['avg_count']:.1f}<br>\" +\n",
    "                f\"Peak: {int(row['peak_count']):,}<br>\" +\n",
    "                f\"Records: {int(row['records']):,}\",\n",
    "    axis=1\n",
    ")\n",
    "\n",
    "# Create Mapbox scatter plot\n",
    "fig = px.scatter_mapbox(\n",
    "    sensor_summary,\n",
    "    lat='latitude',\n",
    "    lon='longitude',\n",
    "    size='total_count',\n",
    "    color='avg_count',\n",
    "    hover_name='sensor_name',\n",
    "    hover_data={\n",
    "        'total_count': ':,',\n",
    "        'avg_count': ':.1f',\n",
    "        'peak_count': ':,',\n",
    "        'latitude': False,\n",
    "        'longitude': False\n",
    "    },\n",
    "    color_continuous_scale='YlOrRd',\n",
    "    size_max=10,\n",
    "    zoom=12,\n",
    "    height=700,\n",
    "    title='Melbourne Pedestrian Activity Map (Oct 28-29, 2025)'\n",
    ")\n",
    "\n",
    "fig.update_layout(\n",
    "    \n",
    "    mapbox_style=\"dark\",\n",
    "     mapbox_accesstoken=\"pk.eyJ1IjoiZXJ0dWdydWxha2RlbWlyIiwiYSI6ImNtZ3o0NXVsOTAyOXk3cHM4ZHJ0MmU1enMifQ.vj7BMAX9VFQbNGaqt9ixdQ\",\n",
    "    font=dict(size=12),\n",
    "    title_font_size=16\n",
    ")\n",
    "\n",
    "fig.show()\n",
    "\n",
    "# Save as HTML\n",
    "fig.write_html('pedestrian_activity_map.html')\n",
    "print(\"✅ Interactive map saved as 'pedestrian_activity_map.html'\")\n",
    "print(\"📍 Open the HTML file in your browser to interact with the map\")"
   ]
  },
  {
   "cell_type": "code",
   "execution_count": 28,
   "id": "10a9da8f-08ed-4270-922a-ae9ec775d2d2",
   "metadata": {},
   "outputs": [
    {
     "name": "stdout",
     "output_type": "stream",
     "text": [
      "======================================================================\n",
      "🔥 PEAK HOURS ANALYSIS\n",
      "======================================================================\n",
      "\n",
      "📊 Morning Rush (8 AM)\n",
      "   Total records: 4,780\n",
      "   Total pedestrians: 79,471\n",
      "   Average per sensor: 16.63\n",
      "   Peak sensor count: 374\n",
      "   Top 3 locations:\n",
      "      • MCEC_T: 209.5 avg\n",
      "      • ElFi_T: 172.9 avg\n",
      "      • PriNW_T: 99.7 avg\n",
      "\n",
      "📊 Lunch Peak (12 PM)\n",
      "   Total records: 4,967\n",
      "   Total pedestrians: 108,126\n",
      "   Average per sensor: 21.77\n",
      "   Peak sensor count: 272\n",
      "   Top 3 locations:\n",
      "      • Eli124_T: 194.1 avg\n",
      "      • MCEC_T: 187.9 avg\n",
      "      • ElFi_T: 183.1 avg\n",
      "\n",
      "📊 Evening Rush (5 PM)\n",
      "   Total records: 6,121\n",
      "   Total pedestrians: 160,132\n",
      "   Average per sensor: 26.16\n",
      "   Peak sensor count: 466\n",
      "   Top 3 locations:\n",
      "      • MCEC_T: 290.1 avg\n",
      "      • ElFi_T: 284.0 avg\n",
      "      • PriNW_T: 203.7 avg\n"
     ]
    },
    {
     "data": {
      "image/png": "[encoded data removed]",
      "text/plain": [
       "<Figure size 1200x600 with 1 Axes>"
      ]
     },
     "metadata": {},
     "output_type": "display_data"
    },
    {
     "name": "stdout",
     "output_type": "stream",
     "text": [
      "\n",
      "✅ Peak hours analysis chart saved as 'peak_hours_comparison.png'\n"
     ]
    }
   ],
   "source": [
    "# Cell 9: Peak hours detailed analysis\n",
    "\n",
    "print(\"=\" * 70)\n",
    "print(\"🔥 PEAK HOURS ANALYSIS\")\n",
    "print(\"=\" * 70)\n",
    "\n",
    "peak_hours = [8, 12, 17]\n",
    "peak_names = ['Morning Rush (8 AM)', 'Lunch Peak (12 PM)', 'Evening Rush (5 PM)']\n",
    "\n",
    "for hour, name in zip(peak_hours, peak_names):\n",
    "    hour_data = df[df['hour'] == hour]\n",
    "    \n",
    "    print(f\"\\n📊 {name}\")\n",
    "    print(f\"   Total records: {len(hour_data):,}\")\n",
    "    print(f\"   Total pedestrians: {hour_data['pedestrian_count'].sum():,}\")\n",
    "    print(f\"   Average per sensor: {hour_data['pedestrian_count'].mean():.2f}\")\n",
    "    print(f\"   Peak sensor count: {hour_data['pedestrian_count'].max()}\")\n",
    "    \n",
    "    # Top 3 busiest locations during this hour\n",
    "    top3 = hour_data.groupby('sensor_name')['pedestrian_count'].mean().sort_values(ascending=False).head(3)\n",
    "    print(f\"   Top 3 locations:\")\n",
    "    for loc, count in top3.items():\n",
    "        print(f\"      • {loc}: {count:.1f} avg\")\n",
    "\n",
    "# Visualize peak hours comparison\n",
    "peak_data = df[df['hour'].isin(peak_hours)].copy()\n",
    "peak_data['hour_label'] = peak_data['hour'].map({8: '8 AM\\n(Morning)', \n",
    "                                                   12: '12 PM\\n(Lunch)', \n",
    "                                                   17: '5 PM\\n(Evening)'})\n",
    "\n",
    "plt.figure(figsize=(12, 6))\n",
    "sns.boxplot(data=peak_data, x='hour_label', y='pedestrian_count', palette='Set2')\n",
    "sns.stripplot(data=peak_data, x='hour_label', y='pedestrian_count', \n",
    "              color='black', alpha=0.3, size=2)\n",
    "\n",
    "plt.title('Pedestrian Count Distribution During Peak Hours', \n",
    "          fontsize=14, fontweight='bold')\n",
    "plt.xlabel('Peak Hour', fontsize=12, fontweight='bold')\n",
    "plt.ylabel('Pedestrian Count', fontsize=12, fontweight='bold')\n",
    "plt.grid(axis='y', alpha=0.3)\n",
    "plt.tight_layout()\n",
    "plt.savefig('peak_hours_comparison.png', dpi=300, bbox_inches='tight')\n",
    "plt.show()\n",
    "\n",
    "print(\"\\n✅ Peak hours analysis chart saved as 'peak_hours_comparison.png'\")"
   ]
  },
  {
   "cell_type": "code",
   "execution_count": 29,
   "id": "c10a08af-01d3-4d79-9c3b-c2727f6e46e8",
   "metadata": {},
   "outputs": [
    {
     "name": "stdout",
     "output_type": "stream",
     "text": [
      "======================================================================\n",
      "🌅 TIME OF DAY SUMMARY\n",
      "======================================================================\n",
      "              Total    Avg  Peak  Sensors  Records\n",
      "time_of_day                                       \n",
      "Morning      320908  11.90   374       99    26959\n",
      "Afternoon    658534  21.30   466       99    30917\n",
      "Evening      362457  11.91   323       99    30437\n",
      "Night         15845   2.38    39       96     6657\n"
     ]
    },
    {
     "data": {
      "image/png": "[encoded data removed]",
      "text/plain": [
       "<Figure size 1400x600 with 2 Axes>"
      ]
     },
     "metadata": {},
     "output_type": "display_data"
    },
    {
     "name": "stdout",
     "output_type": "stream",
     "text": [
      "\n",
      "✅ Time of day analysis saved as 'time_of_day_analysis.png'\n"
     ]
    }
   ],
   "source": [
    "# Cell 10: Time of day patterns\n",
    "\n",
    "time_of_day_summary = df.groupby('time_of_day').agg({\n",
    "    'pedestrian_count': ['sum', 'mean', 'max'],\n",
    "    'location_id': 'nunique',\n",
    "    'melbourne_time': 'count'\n",
    "}).round(2)\n",
    "\n",
    "time_of_day_summary.columns = ['Total', 'Avg', 'Peak', 'Sensors', 'Records']\n",
    "\n",
    "# Order by time of day\n",
    "time_order = ['Morning', 'Afternoon', 'Evening', 'Night']\n",
    "time_of_day_summary = time_of_day_summary.reindex(time_order)\n",
    "\n",
    "print(\"=\" * 70)\n",
    "print(\"🌅 TIME OF DAY SUMMARY\")\n",
    "print(\"=\" * 70)\n",
    "print(time_of_day_summary)\n",
    "\n",
    "# Pie chart\n",
    "fig, (ax1, ax2) = plt.subplots(1, 2, figsize=(14, 6))\n",
    "\n",
    "# Pie chart 1: Total pedestrians by time of day\n",
    "time_totals = df.groupby('time_of_day')['pedestrian_count'].sum()\n",
    "time_totals = time_totals.reindex(time_order)\n",
    "\n",
    "colors = ['#FFD93D', '#FF8C42', '#6C5CE7', '#2D3561']\n",
    "ax1.pie(time_totals, labels=time_order, autopct='%1.1f%%', colors=colors,\n",
    "        startangle=90, textprops={'fontsize': 11, 'fontweight': 'bold'})\n",
    "ax1.set_title('Total Pedestrian Activity by Time of Day', \n",
    "              fontsize=13, fontweight='bold')\n",
    "\n",
    "# Bar chart 2: Average by time of day\n",
    "time_avg = df.groupby('time_of_day')['pedestrian_count'].mean().reindex(time_order)\n",
    "bars = ax2.bar(time_order, time_avg, color=colors, edgecolor='black', linewidth=1.5)\n",
    "ax2.set_ylabel('Average Pedestrian Count', fontsize=11, fontweight='bold')\n",
    "ax2.set_title('Average Activity Level by Time Period', \n",
    "              fontsize=13, fontweight='bold')\n",
    "ax2.grid(axis='y', alpha=0.3)\n",
    "\n",
    "# Add value labels on bars\n",
    "for bar in bars:\n",
    "    height = bar.get_height()\n",
    "    ax2.text(bar.get_x() + bar.get_width()/2., height,\n",
    "             f'{height:.1f}',\n",
    "             ha='center', va='bottom', fontweight='bold')\n",
    "\n",
    "plt.tight_layout()\n",
    "plt.savefig('time_of_day_analysis.png', dpi=300, bbox_inches='tight')\n",
    "plt.show()\n",
    "\n",
    "print(\"\\n✅ Time of day analysis saved as 'time_of_day_analysis.png'\")"
   ]
  },
  {
   "cell_type": "code",
   "execution_count": 30,
   "id": "09d36b06-00f3-4d95-8812-05cf51bd3cff",
   "metadata": {},
   "outputs": [
    {
     "name": "stdout",
     "output_type": "stream",
     "text": [
      "======================================================================\n",
      "🎯 KEY INSIGHTS & FINDINGS\n",
      "======================================================================\n",
      "\n",
      "📊 PEAK ACTIVITY\n",
      "   • Peak hour: 17:00 (26.2 avg pedestrians)\n",
      "\n",
      "🏆 BUSIEST LOCATION\n",
      "   • SouthB_T\n",
      "   • Total: 46,939 pedestrians\n",
      "\n",
      "📅 DAY COMPARISON\n",
      "   • Tuesday  : 426,880 total, 13.8 average\n",
      "   • Wednesday: 930,864 total, 14.5 average\n",
      "\n",
      "⏰ BUSINESS HOURS (9 AM - 5 PM)\n",
      "   • 62.4% of total activity occurs during business hours\n",
      "\n",
      "✅ DATA QUALITY\n",
      "   • Total records: 94,970\n",
      "   • Unique sensors: 99\n",
      "   • Date range: 2025-10-28 00:00:00 to 2025-10-29 00:00:00\n",
      "   • Hours covered: 24 out of 24\n",
      "   • Missing coordinates: 0\n",
      "\n",
      "======================================================================\n",
      "✅ ANALYSIS COMPLETE!\n",
      "======================================================================\n"
     ]
    }
   ],
   "source": [
    "# Cell 11: Key insights and statistics\n",
    "\n",
    "print(\"=\" * 70)\n",
    "print(\"🎯 KEY INSIGHTS & FINDINGS\")\n",
    "print(\"=\" * 70)\n",
    "\n",
    "# 1. Peak hour identification\n",
    "peak_hour = df.groupby('hour')['pedestrian_count'].mean().idxmax()\n",
    "peak_hour_avg = df.groupby('hour')['pedestrian_count'].mean().max()\n",
    "\n",
    "print(f\"\\n📊 PEAK ACTIVITY\")\n",
    "print(f\"   • Peak hour: {int(peak_hour)}:00 ({peak_hour_avg:.1f} avg pedestrians)\")\n",
    "\n",
    "# 2. Busiest sensor\n",
    "busiest_sensor = df.groupby('sensor_name')['pedestrian_count'].sum().idxmax()\n",
    "busiest_count = df.groupby('sensor_name')['pedestrian_count'].sum().max()\n",
    "\n",
    "print(f\"\\n🏆 BUSIEST LOCATION\")\n",
    "print(f\"   • {busiest_sensor}\")\n",
    "print(f\"   • Total: {busiest_count:,} pedestrians\")\n",
    "\n",
    "# 3. Day comparison\n",
    "day_comparison = df.groupby('day_name')['pedestrian_count'].agg(['sum', 'mean'])\n",
    "print(f\"\\n📅 DAY COMPARISON\")\n",
    "for day in day_comparison.index:\n",
    "    print(f\"   • {day}: {int(day_comparison.loc[day, 'sum']):,} total, \" +\n",
    "          f\"{day_comparison.loc[day, 'mean']:.1f} average\")\n",
    "\n",
    "# 4. Business hours vs non-business\n",
    "business_hours_pct = (df[df['is_business_hours']]['pedestrian_count'].sum() / \n",
    "                      df['pedestrian_count'].sum() * 100)\n",
    "print(f\"\\n⏰ BUSINESS HOURS (9 AM - 5 PM)\")\n",
    "print(f\"   • {business_hours_pct:.1f}% of total activity occurs during business hours\")\n",
    "\n",
    "# 5. Data quality\n",
    "print(f\"\\n✅ DATA QUALITY\")\n",
    "print(f\"   • Total records: {len(df):,}\")\n",
    "print(f\"   • Unique sensors: {df['location_id'].nunique()}\")\n",
    "print(f\"   • Date range: {df['date'].min()} to {df['date'].max()}\")\n",
    "print(f\"   • Hours covered: {df['hour'].nunique()} out of 24\")\n",
    "print(f\"   • Missing coordinates: {df['latitude'].isna().sum()}\")\n",
    "\n",
    "print(\"\\n\" + \"=\" * 70)\n",
    "print(\"✅ ANALYSIS COMPLETE!\")\n",
    "print(\"=\" * 70)"
   ]
  },
  {
   "cell_type": "code",
   "execution_count": 31,
   "id": "a02cfd01-2af5-488a-9b9f-4f8775915d87",
   "metadata": {},
   "outputs": [
    {
     "data": {
      "application/vnd.plotly.v1+json": {
       "config": {
        "plotlyServerURL": "https://plot.ly"
       },
       "data": [
        {
         "hovertemplate": "<b>%{hovertext}</b><br><br>hour=0<br>pedestrian_count=%{marker.color}<br>latitude=%{lat}<br>longitude=%{lon}<extra></extra>",
         "hovertext": [
          "Bou292_T",
          "Bou283_T",
          "Swa295_T",
          "Swa123_T",
          "PriNW_T",
          "FliS_T",
          "WebBN_T",
          "Col700_T",
          "BouHbr_T",
          "WatCit_T",
          "NewQ_T",
          "SanBri_T",
          "Col15_T",
          "Col12_T",
          "LtB210_T",
          "LtB170_T",
          "Bourke155_T",
          "Col623_T",
          "Col620_T",
          "MCEC_T",
          "Vic_T",
          "VAC_T",
          "AG_T",
          "Lon189_T",
          "Lyg161_T",
          "SouthB_T",
          "Que85_T",
          "Lyg260_T",
          "AlfPl_T",
          "Spr201_T",
          "Swa31",
          "UM1_T",
          "UM2_T",
          "UM3_T",
          "Swa148_T",
          "Pel147_T",
          "Eli250_T",
          "Eli501_T",
          "Lyg309_T",
          "Fra118_T",
          "Eli263_T",
          "Col254_T",
          "Swa607_T",
          "Lon364_T",
          "Bou688_T",
          "RMIT_T",
          "RMIT14_T",
          "Lat224_T",
          "Bou231_T",
          "QVN_T",
          "FLDegS_T",
          "FLDegN_T",
          "FLDegC_T",
          "Errol20_T",
          "ACMI_T",
          "SprFli_T",
          "KenMac_T",
          "HarEsP_T",
          "HarEsB_T",
          "FliSS_T",
          "ElFi_T",
          "488Mac_T",
          "574Qub_T",
          "Errol23_T",
          "280Will_T",
          "261Will_T",
          "LatWill_T",
          "Fli114F_T",
          "Bou892T",
          "King2_T",
          "King335_T",
          "Spen229_T",
          "Spen201_T",
          "Spen161_T",
          "BouHbr2353_T",
          "474Fl_T",
          "Spencer_T",
          "BirArt1109_T",
          "Eli489_T",
          "Lat526_T",
          "Spen475_T",
          "Spen484_T",
          "Lat526_T",
          "Pow61_T",
          "Eli368_T",
          "King163_T",
          "Eli124_T",
          "Eli197_T"
         ],
         "lat": {
          "bdata": "4za3lSDoQsDk7jnRKuhCwMYt7ljP50LAW2Lh+03oQsCjMs2NzOhCwEqs1tPY6ELA7Ei78lXpQsBVV9Mv8OhCwH+1ckjN6ELAnEQxN2foQsAwSkwnROhCwMJ4m3H56ELAoIXK4CToQsAs8JkVH+hCwPAKbc7750LATsGOvebnQsAP2FGsBehCwGjMZgbY6ELA9Bo3DNHoQsD3QvlpeelCwDD22kMt50LAW311VSDpQsDEaAwp9ehCwIG0/wHW50LA9yBGAJ7mQsD8rfjh++hCwPiAaeaD6ELAWtVxgInmQsD2jiKEKuhCwHf2Mt2t50LA6bGQLYnoQsBr2fc0aeZCwFGsS3Qz5kLACqP2rgPmQsCjy5vDNehCwAiQX0e15kLAw3BDxgLoQsC8UfGgVedCwOb2YIwn5kLAFd/1PnrnQsDoOPG0AOhCwDZZQPRm6ELAfJkoQurmQsBWndUC++dCwGlRn+SO6ELApjDG8nTnQsDgBzHhYedCwHIaYO6s50LAvONWORvoQsBiRfQIwedCwDnhb8WP6ELANCfUeI7oQsDU2ixFj+hCwPAS/yT85kLAwqggFpzoQsDZuPbsVuhCwJ4jE2yz5ULA/r77uj7oQsAFta2gSOhCwDrj4kWy6ELAdKiulbPoQsAlVutprOVCwP3oafrL5kLAIMhJevvmQsCzVTDH/udCwAr10wMP6ELALa+ei+3nQsDwq6xMfOhCwA+HW/QE6ULAOfRQuvjoQsADpKrHBehCwNGaejhc6ELAA1b1j5HoQsDZfLfUnOhCwFKvAEvT6ELAHnvN3fToQsCPGhNiLulCwIPHrwbF6ELAwedmA1nnQsADPj+MEOhCwCAI88ue50LA9PDQPYznQsCq61i+EehCwHwSM1Z26ULAETV2LrHnQsAUgeKue+hCwJOwDP1V6ELAGwvQ1yjoQsA=",
          "dtype": "f8"
         },
         "legendgroup": "",
         "lon": {
          "bdata": "Us8GieIeYkC5KEim4h5iQHCO34DbHmJAEUL2MOoeYkB7eEPY+B5iQNM6YA3mHmJAvcInQk8eYkAiXSLNbh5iQKGzFrBOHmJA+uNJFBIeYkDaFuluLB5iQCObcTvQHmJAxZeivyQfYkBvEyhBIx9iQJjwU27lHmJA0i5L4PseYkCqfoTl+B5iQHe3Nn2LHmJAnszDMoseYkBQxyHqlx5iQFE4kjabHmJAgcRdWgAfYkBYzjnT/x5iQNzhIyDuHmJA1QNJTO4eYkCkDhv64R5iQPkuxjzCHmJAXQF9CfIeYkBfyDTkCR9iQOEKSeIcH2JAEl6r0vAeYkADJpH51x5iQIJMnQ3aHmJAIRHHeNweYkBmHYY96h5iQOZMySjFHmJAsktUb80eYkAEmVO4tB5iQLiWqGLzHmJA8185pbAeYkDAxpo2yB5iQEOqKF7lHmJAPQuEldEeYkAUrxXhxB5iQAvrxruDHmJASdBGS9EeYkDBq4Kk0R5iQJHJsQ7KHmJAe7Wrqe8eYkAPxXC33B5iQEfX2GfmHmJAX9SLLeYeYkAfAwUg5h5iQFcsuP5hHmJAiCgN0v8eYkAJhACNMB9iQMg3Z4bFHWJAV+oX9DceYkB9hFCUOh5iQJ1SmNbqHmJAR2ygjuEeYkDEYg5hwB1iQCPCXN5eHmJAU5O//18eYkCXArHwnh5iQEgYowGeHmJAXXrqR5keYkCW0USvER9iQM8und4eHmJAIToEjqQeYkDB07cOhh5iQFXoDw95HmJAowFhTH8eYkC1N3SKgB5iQKzskqNGHmJAObPAy6oeYkAV6dkHlB5iQMZrwf8UH2JAQXVaVLceYkAOZnaKcx5iQFeeOGdhHmJAWawbzmAeYkBKbgMtcx5iQLcpmt7QHmJAoNz4C8QeYkBv4Eh/kx5iQF3jEsvWHmJA/bXl8c4eYkA=",
          "dtype": "f8"
         },
         "marker": {
          "color": {
           "bdata": "AAAAAAAA/D8cx3Ecx3H8P3h4eHh4eBBA9DzP8zzPA0CrqqqqqqoXQCy+4iu+4gNAVVVVVVVV9T9iJ3ZiJ3byPwAAAAAAAPw/OY7jOI7j+D9VVVVVVVX1PwAAAAAAAPg/zczMzMzM/D8AAAAAAAD4PxvKayivoQhAH4XrUbgeBUAAAAAAAAAZQGZmZmZmZvo/9DzP8zzPA0CMLrrooossQAAAAAAAAAhAZmZmZmZm/j8AAAAAAAD8P0YXXXTRRQtAAAAAAAAA+j9KKaWUUkoBQOQ4juM4jgNAAAAAAAAAAkAAAAAAAADwP+miiy666PI/RhdddNFF/z+rqqqqqqr6P3Icx3EcxwFAmpmZmZmZAUDEw8PDw8MHQAAAAAAAAPw/RhdddNFFBUA7sRM7sRMDQAAAAAAAAPI/27Zt27Zt+z8AAAAAAAD9P2ZmZmZmZvY/KvJZN5gi/z/v7u7u7u7+P3TRRRdddAVAFDuxEzuxJ0BmZmZmZmb+P01ZU9aUNQVAfPDBBx98AEBaN5gin3UDQM3MzMzMzPw/AAAAAAAA8D+rqqqqqqryPwAAAAAAAABAVVVVVVVV9T8AAAAAAADwPwAAAAAAAPA/0UUXXXTRBUAlSZIkSZL0PxX5rBtMkf8/AAAAAAAAIEAAAAAAAADwPwAAAAAAAPA/VVVVVVVV9T8vuuiiiy4KQAAAAAAAQAFAL7rooosuAkAAAAAAAAAQQAAAAAAAAPA/AAAAAAAAEEAAAAAAAAARQLrooosuuhxAsRM7sRM7JUBiJ3ZiJ3YWQAAAAAAAAPA/q6qqqqqqCECrqqqqqiomQAAAAAAAAPA/q6qqqqqqG0AzMzMzMzMLQAAAAAAAAPg/AAAAAAAA9D+rqqqqqqryPwAAAAAAAARASimllFJKEUAAAAAAAAAaQGZmZmZmZhRAVVVVVVVVHkA=",
           "dtype": "f8"
          },
          "coloraxis": "coloraxis",
          "size": {
           "bdata": "AAAAAAAA/D8cx3Ecx3H8P3h4eHh4eBBA9DzP8zzPA0CrqqqqqqoXQCy+4iu+4gNAVVVVVVVV9T9iJ3ZiJ3byPwAAAAAAAPw/OY7jOI7j+D9VVVVVVVX1PwAAAAAAAPg/zczMzMzM/D8AAAAAAAD4PxvKayivoQhAH4XrUbgeBUAAAAAAAAAZQGZmZmZmZvo/9DzP8zzPA0CMLrrooossQAAAAAAAAAhAZmZmZmZm/j8AAAAAAAD8P0YXXXTRRQtAAAAAAAAA+j9KKaWUUkoBQOQ4juM4jgNAAAAAAAAAAkAAAAAAAADwP+miiy666PI/RhdddNFF/z+rqqqqqqr6P3Icx3EcxwFAmpmZmZmZAUDEw8PDw8MHQAAAAAAAAPw/RhdddNFFBUA7sRM7sRMDQAAAAAAAAPI/27Zt27Zt+z8AAAAAAAD9P2ZmZmZmZvY/KvJZN5gi/z/v7u7u7u7+P3TRRRdddAVAFDuxEzuxJ0BmZmZmZmb+P01ZU9aUNQVAfPDBBx98AEBaN5gin3UDQM3MzMzMzPw/AAAAAAAA8D+rqqqqqqryPwAAAAAAAABAVVVVVVVV9T8AAAAAAADwPwAAAAAAAPA/0UUXXXTRBUAlSZIkSZL0PxX5rBtMkf8/AAAAAAAAIEAAAAAAAADwPwAAAAAAAPA/VVVVVVVV9T8vuuiiiy4KQAAAAAAAQAFAL7rooosuAkAAAAAAAAAQQAAAAAAAAPA/AAAAAAAAEEAAAAAAAAARQLrooosuuhxAsRM7sRM7JUBiJ3ZiJ3YWQAAAAAAAAPA/q6qqqqqqCECrqqqqqiomQAAAAAAAAPA/q6qqqqqqG0AzMzMzMzMLQAAAAAAAAPg/AAAAAAAA9D+rqqqqqqryPwAAAAAAAARASimllFJKEUAAAAAAAAAaQGZmZmZmZhRAVVVVVVVVHkA=",
           "dtype": "f8"
          },
          "sizemode": "area",
          "sizeref": 0.32238095238095243
         },
         "mode": "markers",
         "name": "",
         "showlegend": false,
         "subplot": "mapbox",
         "type": "scattermapbox"
        }
       ],
       "frames": [
        {
         "data": [
          {
           "hovertemplate": "<b>%{hovertext}</b><br><br>hour=0<br>pedestrian_count=%{marker.color}<br>latitude=%{lat}<br>longitude=%{lon}<extra></extra>",
           "hovertext": [
            "Bou292_T",
            "Bou283_T",
            "Swa295_T",
            "Swa123_T",
            "PriNW_T",
            "FliS_T",
            "WebBN_T",
            "Col700_T",
            "BouHbr_T",
            "WatCit_T",
            "NewQ_T",
            "SanBri_T",
            "Col15_T",
            "Col12_T",
            "LtB210_T",
            "LtB170_T",
            "Bourke155_T",
            "Col623_T",
            "Col620_T",
            "MCEC_T",
            "Vic_T",
            "VAC_T",
            "AG_T",
            "Lon189_T",
            "Lyg161_T",
            "SouthB_T",
            "Que85_T",
            "Lyg260_T",
            "AlfPl_T",
            "Spr201_T",
            "Swa31",
            "UM1_T",
            "UM2_T",
            "UM3_T",
            "Swa148_T",
            "Pel147_T",
            "Eli250_T",
            "Eli501_T",
            "Lyg309_T",
            "Fra118_T",
            "Eli263_T",
            "Col254_T",
            "Swa607_T",
            "Lon364_T",
            "Bou688_T",
            "RMIT_T",
            "RMIT14_T",
            "Lat224_T",
            "Bou231_T",
            "QVN_T",
            "FLDegS_T",
            "FLDegN_T",
            "FLDegC_T",
            "Errol20_T",
            "ACMI_T",
            "SprFli_T",
            "KenMac_T",
            "HarEsP_T",
            "HarEsB_T",
            "FliSS_T",
            "ElFi_T",
            "488Mac_T",
            "574Qub_T",
            "Errol23_T",
            "280Will_T",
            "261Will_T",
            "LatWill_T",
            "Fli114F_T",
            "Bou892T",
            "King2_T",
            "King335_T",
            "Spen229_T",
            "Spen201_T",
            "Spen161_T",
            "BouHbr2353_T",
            "474Fl_T",
            "Spencer_T",
            "BirArt1109_T",
            "Eli489_T",
            "Lat526_T",
            "Spen475_T",
            "Spen484_T",
            "Lat526_T",
            "Pow61_T",
            "Eli368_T",
            "King163_T",
            "Eli124_T",
            "Eli197_T"
           ],
           "lat": {
            "bdata": "4za3lSDoQsDk7jnRKuhCwMYt7ljP50LAW2Lh+03oQsCjMs2NzOhCwEqs1tPY6ELA7Ei78lXpQsBVV9Mv8OhCwH+1ckjN6ELAnEQxN2foQsAwSkwnROhCwMJ4m3H56ELAoIXK4CToQsAs8JkVH+hCwPAKbc7750LATsGOvebnQsAP2FGsBehCwGjMZgbY6ELA9Bo3DNHoQsD3QvlpeelCwDD22kMt50LAW311VSDpQsDEaAwp9ehCwIG0/wHW50LA9yBGAJ7mQsD8rfjh++hCwPiAaeaD6ELAWtVxgInmQsD2jiKEKuhCwHf2Mt2t50LA6bGQLYnoQsBr2fc0aeZCwFGsS3Qz5kLACqP2rgPmQsCjy5vDNehCwAiQX0e15kLAw3BDxgLoQsC8UfGgVedCwOb2YIwn5kLAFd/1PnrnQsDoOPG0AOhCwDZZQPRm6ELAfJkoQurmQsBWndUC++dCwGlRn+SO6ELApjDG8nTnQsDgBzHhYedCwHIaYO6s50LAvONWORvoQsBiRfQIwedCwDnhb8WP6ELANCfUeI7oQsDU2ixFj+hCwPAS/yT85kLAwqggFpzoQsDZuPbsVuhCwJ4jE2yz5ULA/r77uj7oQsAFta2gSOhCwDrj4kWy6ELAdKiulbPoQsAlVutprOVCwP3oafrL5kLAIMhJevvmQsCzVTDH/udCwAr10wMP6ELALa+ei+3nQsDwq6xMfOhCwA+HW/QE6ULAOfRQuvjoQsADpKrHBehCwNGaejhc6ELAA1b1j5HoQsDZfLfUnOhCwFKvAEvT6ELAHnvN3fToQsCPGhNiLulCwIPHrwbF6ELAwedmA1nnQsADPj+MEOhCwCAI88ue50LA9PDQPYznQsCq61i+EehCwHwSM1Z26ULAETV2LrHnQsAUgeKue+hCwJOwDP1V6ELAGwvQ1yjoQsA=",
            "dtype": "f8"
           },
           "legendgroup": "",
           "lon": {
            "bdata": "Us8GieIeYkC5KEim4h5iQHCO34DbHmJAEUL2MOoeYkB7eEPY+B5iQNM6YA3mHmJAvcInQk8eYkAiXSLNbh5iQKGzFrBOHmJA+uNJFBIeYkDaFuluLB5iQCObcTvQHmJAxZeivyQfYkBvEyhBIx9iQJjwU27lHmJA0i5L4PseYkCqfoTl+B5iQHe3Nn2LHmJAnszDMoseYkBQxyHqlx5iQFE4kjabHmJAgcRdWgAfYkBYzjnT/x5iQNzhIyDuHmJA1QNJTO4eYkCkDhv64R5iQPkuxjzCHmJAXQF9CfIeYkBfyDTkCR9iQOEKSeIcH2JAEl6r0vAeYkADJpH51x5iQIJMnQ3aHmJAIRHHeNweYkBmHYY96h5iQOZMySjFHmJAsktUb80eYkAEmVO4tB5iQLiWqGLzHmJA8185pbAeYkDAxpo2yB5iQEOqKF7lHmJAPQuEldEeYkAUrxXhxB5iQAvrxruDHmJASdBGS9EeYkDBq4Kk0R5iQJHJsQ7KHmJAe7Wrqe8eYkAPxXC33B5iQEfX2GfmHmJAX9SLLeYeYkAfAwUg5h5iQFcsuP5hHmJAiCgN0v8eYkAJhACNMB9iQMg3Z4bFHWJAV+oX9DceYkB9hFCUOh5iQJ1SmNbqHmJAR2ygjuEeYkDEYg5hwB1iQCPCXN5eHmJAU5O//18eYkCXArHwnh5iQEgYowGeHmJAXXrqR5keYkCW0USvER9iQM8und4eHmJAIToEjqQeYkDB07cOhh5iQFXoDw95HmJAowFhTH8eYkC1N3SKgB5iQKzskqNGHmJAObPAy6oeYkAV6dkHlB5iQMZrwf8UH2JAQXVaVLceYkAOZnaKcx5iQFeeOGdhHmJAWawbzmAeYkBKbgMtcx5iQLcpmt7QHmJAoNz4C8QeYkBv4Eh/kx5iQF3jEsvWHmJA/bXl8c4eYkA=",
            "dtype": "f8"
           },
           "marker": {
            "color": {
             "bdata": "AAAAAAAA/D8cx3Ecx3H8P3h4eHh4eBBA9DzP8zzPA0CrqqqqqqoXQCy+4iu+4gNAVVVVVVVV9T9iJ3ZiJ3byPwAAAAAAAPw/OY7jOI7j+D9VVVVVVVX1PwAAAAAAAPg/zczMzMzM/D8AAAAAAAD4PxvKayivoQhAH4XrUbgeBUAAAAAAAAAZQGZmZmZmZvo/9DzP8zzPA0CMLrrooossQAAAAAAAAAhAZmZmZmZm/j8AAAAAAAD8P0YXXXTRRQtAAAAAAAAA+j9KKaWUUkoBQOQ4juM4jgNAAAAAAAAAAkAAAAAAAADwP+miiy666PI/RhdddNFF/z+rqqqqqqr6P3Icx3EcxwFAmpmZmZmZAUDEw8PDw8MHQAAAAAAAAPw/RhdddNFFBUA7sRM7sRMDQAAAAAAAAPI/27Zt27Zt+z8AAAAAAAD9P2ZmZmZmZvY/KvJZN5gi/z/v7u7u7u7+P3TRRRdddAVAFDuxEzuxJ0BmZmZmZmb+P01ZU9aUNQVAfPDBBx98AEBaN5gin3UDQM3MzMzMzPw/AAAAAAAA8D+rqqqqqqryPwAAAAAAAABAVVVVVVVV9T8AAAAAAADwPwAAAAAAAPA/0UUXXXTRBUAlSZIkSZL0PxX5rBtMkf8/AAAAAAAAIEAAAAAAAADwPwAAAAAAAPA/VVVVVVVV9T8vuuiiiy4KQAAAAAAAQAFAL7rooosuAkAAAAAAAAAQQAAAAAAAAPA/AAAAAAAAEEAAAAAAAAARQLrooosuuhxAsRM7sRM7JUBiJ3ZiJ3YWQAAAAAAAAPA/q6qqqqqqCECrqqqqqiomQAAAAAAAAPA/q6qqqqqqG0AzMzMzMzMLQAAAAAAAAPg/AAAAAAAA9D+rqqqqqqryPwAAAAAAAARASimllFJKEUAAAAAAAAAaQGZmZmZmZhRAVVVVVVVVHkA=",
             "dtype": "f8"
            },
            "coloraxis": "coloraxis",
            "size": {
             "bdata": "AAAAAAAA/D8cx3Ecx3H8P3h4eHh4eBBA9DzP8zzPA0CrqqqqqqoXQCy+4iu+4gNAVVVVVVVV9T9iJ3ZiJ3byPwAAAAAAAPw/OY7jOI7j+D9VVVVVVVX1PwAAAAAAAPg/zczMzMzM/D8AAAAAAAD4PxvKayivoQhAH4XrUbgeBUAAAAAAAAAZQGZmZmZmZvo/9DzP8zzPA0CMLrrooossQAAAAAAAAAhAZmZmZmZm/j8AAAAAAAD8P0YXXXTRRQtAAAAAAAAA+j9KKaWUUkoBQOQ4juM4jgNAAAAAAAAAAkAAAAAAAADwP+miiy666PI/RhdddNFF/z+rqqqqqqr6P3Icx3EcxwFAmpmZmZmZAUDEw8PDw8MHQAAAAAAAAPw/RhdddNFFBUA7sRM7sRMDQAAAAAAAAPI/27Zt27Zt+z8AAAAAAAD9P2ZmZmZmZvY/KvJZN5gi/z/v7u7u7u7+P3TRRRdddAVAFDuxEzuxJ0BmZmZmZmb+P01ZU9aUNQVAfPDBBx98AEBaN5gin3UDQM3MzMzMzPw/AAAAAAAA8D+rqqqqqqryPwAAAAAAAABAVVVVVVVV9T8AAAAAAADwPwAAAAAAAPA/0UUXXXTRBUAlSZIkSZL0PxX5rBtMkf8/AAAAAAAAIEAAAAAAAADwPwAAAAAAAPA/VVVVVVVV9T8vuuiiiy4KQAAAAAAAQAFAL7rooosuAkAAAAAAAAAQQAAAAAAAAPA/AAAAAAAAEEAAAAAAAAARQLrooosuuhxAsRM7sRM7JUBiJ3ZiJ3YWQAAAAAAAAPA/q6qqqqqqCECrqqqqqiomQAAAAAAAAPA/q6qqqqqqG0AzMzMzMzMLQAAAAAAAAPg/AAAAAAAA9D+rqqqqqqryPwAAAAAAAARASimllFJKEUAAAAAAAAAaQGZmZmZmZhRAVVVVVVVVHkA=",
             "dtype": "f8"
            },
            "sizemode": "area",
            "sizeref": 0.32238095238095243
           },
           "mode": "markers",
           "name": "",
           "showlegend": false,
           "subplot": "mapbox",
           "type": "scattermapbox"
          }
         ],
         "name": "0"
        },
        {
         "data": [
          {
           "hovertemplate": "<b>%{hovertext}</b><br><br>hour=1<br>pedestrian_count=%{marker.color}<br>latitude=%{lat}<br>longitude=%{lon}<extra></extra>",
           "hovertext": [
            "Bou292_T",
            "Bou283_T",
            "Swa295_T",
            "Swa123_T",
            "PriNW_T",
            "FliS_T",
            "WebBN_T",
            "Col700_T",
            "BouHbr_T",
            "WatCit_T",
            "NewQ_T",
            "SanBri_T",
            "Col15_T",
            "Col12_T",
            "LtB210_T",
            "LtB170_T",
            "Bourke155_T",
            "Col623_T",
            "Col620_T",
            "MCEC_T",
            "Vic_T",
            "VAC_T",
            "AG_T",
            "Lon189_T",
            "Lyg161_T",
            "SouthB_T",
            "Que85_T",
            "Lyg260_T",
            "AlfPl_T",
            "Spr201_T",
            "Swa31",
            "UM1_T",
            "UM2_T",
            "UM3_T",
            "Swa148_T",
            "Eli250_T",
            "Eli501_T",
            "Lyg309_T",
            "Fra118_T",
            "Eli263_T",
            "Col254_T",
            "Swa607_T",
            "Lon364_T",
            "Bou688_T",
            "RMIT_T",
            "RMIT14_T",
            "Lat224_T",
            "Bou231_T",
            "QVN_T",
            "FLDegS_T",
            "FLDegN_T",
            "FLDegC_T",
            "Errol20_T",
            "ACMI_T",
            "HarEsP_T",
            "HarEsB_T",
            "FliSS_T",
            "ElFi_T",
            "Errol23_T",
            "280Will_T",
            "261Will_T",
            "LatWill_T",
            "Fli114F_T",
            "Fli114C_T",
            "King2_T",
            "King335_T",
            "Spen229_T",
            "Spen201_T",
            "Spen161_T",
            "BirFed1120_T",
            "BouHbr2353_T",
            "Signal1647_T",
            "474Fl_T",
            "Spencer_T",
            "BirArt1109_T",
            "Eli489_T",
            "Lat526_T",
            "Spen475_T",
            "Spen484_T",
            "Lat526_T",
            "Pow61_T",
            "Eli368_T",
            "King163_T",
            "Eli124_T",
            "Eli197_T"
           ],
           "lat": {
            "bdata": "4za3lSDoQsDk7jnRKuhCwMYt7ljP50LAW2Lh+03oQsCjMs2NzOhCwEqs1tPY6ELA7Ei78lXpQsBVV9Mv8OhCwH+1ckjN6ELAnEQxN2foQsAwSkwnROhCwMJ4m3H56ELAoIXK4CToQsAs8JkVH+hCwPAKbc7750LATsGOvebnQsAP2FGsBehCwGjMZgbY6ELA9Bo3DNHoQsD3QvlpeelCwDD22kMt50LAW311VSDpQsDEaAwp9ehCwIG0/wHW50LA9yBGAJ7mQsD8rfjh++hCwPiAaeaD6ELAWtVxgInmQsD2jiKEKuhCwHf2Mt2t50LA6bGQLYnoQsBr2fc0aeZCwFGsS3Qz5kLACqP2rgPmQsCjy5vDNehCwMNwQ8YC6ELAvFHxoFXnQsDm9mCMJ+ZCwBXf9T5650LA6DjxtADoQsA2WUD0ZuhCwHyZKELq5kLAVp3VAvvnQsBpUZ/kjuhCwKYwxvJ050LA4Acx4WHnQsByGmDurOdCwLzjVjkb6ELAYkX0CMHnQsA54W/Fj+hCwDQn1HiO6ELA1NosRY/oQsDwEv8k/OZCwMKoIBac6ELA/r77uj7oQsAFta2gSOhCwDrj4kWy6ELAdKiulbPoQsAgyEl6++ZCwLNVMMf+50LACvXTAw/oQsAtr56L7edCwPCrrEx86ELAE1Uqbn3oQsA59FC6+OhCwAOkqscF6ELA0Zp6OFzoQsADVvWPkehCwNl8t9Sc6ELA6goRy8HoQsBSrwBL0+hCwKFWqKDo6ELAHnvN3fToQsCPGhNiLulCwIPHrwbF6ELAwedmA1nnQsADPj+MEOhCwCAI88ue50LA9PDQPYznQsCq61i+EehCwHwSM1Z26ULAETV2LrHnQsAUgeKue+hCwJOwDP1V6ELAGwvQ1yjoQsA=",
            "dtype": "f8"
           },
           "legendgroup": "",
           "lon": {
            "bdata": "Us8GieIeYkC5KEim4h5iQHCO34DbHmJAEUL2MOoeYkB7eEPY+B5iQNM6YA3mHmJAvcInQk8eYkAiXSLNbh5iQKGzFrBOHmJA+uNJFBIeYkDaFuluLB5iQCObcTvQHmJAxZeivyQfYkBvEyhBIx9iQJjwU27lHmJA0i5L4PseYkCqfoTl+B5iQHe3Nn2LHmJAnszDMoseYkBQxyHqlx5iQFE4kjabHmJAgcRdWgAfYkBYzjnT/x5iQNzhIyDuHmJA1QNJTO4eYkCkDhv64R5iQPkuxjzCHmJAXQF9CfIeYkBfyDTkCR9iQOEKSeIcH2JAEl6r0vAeYkADJpH51x5iQIJMnQ3aHmJAIRHHeNweYkBmHYY96h5iQLJLVG/NHmJABJlTuLQeYkC4lqhi8x5iQPNfOaWwHmJAwMaaNsgeYkBDqihe5R5iQD0LhJXRHmJAFK8V4cQeYkAL68a7gx5iQEnQRkvRHmJAwauCpNEeYkCRybEOyh5iQHu1q6nvHmJAD8Vwt9weYkBH19hn5h5iQF/Uiy3mHmJAHwMFIOYeYkBXLLj+YR5iQIgoDdL/HmJAV+oX9DceYkB9hFCUOh5iQJ1SmNbqHmJAR2ygjuEeYkBTk7//Xx5iQJcCsfCeHmJASBijAZ4eYkBdeupHmR5iQJbRRK8RH2JAaD2dpxEfYkAhOgSOpB5iQMHTtw6GHmJAVegPD3keYkCjAWFMfx5iQLU3dIqAHmJAKSp2jycfYkCs7JKjRh5iQCkZSjfTHmJAObPAy6oeYkAV6dkHlB5iQMZrwf8UH2JAQXVaVLceYkAOZnaKcx5iQFeeOGdhHmJAWawbzmAeYkBKbgMtcx5iQLcpmt7QHmJAoNz4C8QeYkBv4Eh/kx5iQF3jEsvWHmJA/bXl8c4eYkA=",
            "dtype": "f8"
           },
           "marker": {
            "color": {
             "bdata": "XXTRRRddAECamZmZmZn5PyVJkiRJkgRAIyz3NMJy/z8AAAAAAAAUQJTXUF5Def0/AAAAAAAA8D8AAAAAAAD4PwAAAAAAAPA/AAAAAAAAAEAAAAAAAAAAQAAAAAAAAABAkiRJkiRJ8j8AAAAAAADwP6+hvIbyGgJA3t3d3d3d/T8AAAAAAAAQQKuqqqqqqvo/mpmZmZmZ/T+3bdu2bdsOQMdxHMdxHPc/ZmZmZmZm9j9VVVVVVVX1PwAAAAAAAABAAAAAAAAA9j9GF1100UX3P0mSJEmSJPk/AAAAAAAA8D8AAAAAAADwPwAAAAAAAP4/JrSX0F5CA0AAAAAAAAAEQKuqqqqqqvo/q6qqqqqq+j+3bdu2bdv+PyxRuxK1KwFAvLu7u7u7A0Crqqqqqqr6Pw3lNZTXUP4/VVVVVVVV/T9VVVVVVVX1Pz744IMPPgBAVVVVVVVV9T+jiy666KL7PwAAAAAAQBxA27Zt27Zt+z+rqqqqqqoCQJjQXkJ7Cf0/Iyz3NMJy/z9VVVVVVVX1PwAAAAAAAPA/AAAAAAAA8D9VVVVVVVX1PwAAAAAAAPA/juM4juM4BkAAAAAAAADwP/YoXI/C9fg/juM4juM4EkAAAAAAAADwP7rooosuugBAoryG8hrK+z+MLrrooov+PxdddNFFFwVAAAAAAAAA8D+O4ziO4zgGQF100UUXXQxAAAAAAAAAEEAndmIndmITQEYXXXTRRQ9AAAAAAAAA8D8AAAAAAADwPwAAAAAAAPA/MzMzMzMzA0AAAAAAAAAVQAAAAAAAAPA/tbS0tLS0FEAAAAAAAAD+PwAAAAAAAPA/AAAAAAAA8D8AAAAAAADwP5IkSZIkSfI/GEt+seQXC0CrqqqqqqoUQOzETuzEThBASZIkSZIkE0A=",
             "dtype": "f8"
            },
            "coloraxis": "coloraxis",
            "size": {
             "bdata": "XXTRRRddAECamZmZmZn5PyVJkiRJkgRAIyz3NMJy/z8AAAAAAAAUQJTXUF5Def0/AAAAAAAA8D8AAAAAAAD4PwAAAAAAAPA/AAAAAAAAAEAAAAAAAAAAQAAAAAAAAABAkiRJkiRJ8j8AAAAAAADwP6+hvIbyGgJA3t3d3d3d/T8AAAAAAAAQQKuqqqqqqvo/mpmZmZmZ/T+3bdu2bdsOQMdxHMdxHPc/ZmZmZmZm9j9VVVVVVVX1PwAAAAAAAABAAAAAAAAA9j9GF1100UX3P0mSJEmSJPk/AAAAAAAA8D8AAAAAAADwPwAAAAAAAP4/JrSX0F5CA0AAAAAAAAAEQKuqqqqqqvo/q6qqqqqq+j+3bdu2bdv+PyxRuxK1KwFAvLu7u7u7A0Crqqqqqqr6Pw3lNZTXUP4/VVVVVVVV/T9VVVVVVVX1Pz744IMPPgBAVVVVVVVV9T+jiy666KL7PwAAAAAAQBxA27Zt27Zt+z+rqqqqqqoCQJjQXkJ7Cf0/Iyz3NMJy/z9VVVVVVVX1PwAAAAAAAPA/AAAAAAAA8D9VVVVVVVX1PwAAAAAAAPA/juM4juM4BkAAAAAAAADwP/YoXI/C9fg/juM4juM4EkAAAAAAAADwP7rooosuugBAoryG8hrK+z+MLrrooov+PxdddNFFFwVAAAAAAAAA8D+O4ziO4zgGQF100UUXXQxAAAAAAAAAEEAndmIndmITQEYXXXTRRQ9AAAAAAAAA8D8AAAAAAADwPwAAAAAAAPA/MzMzMzMzA0AAAAAAAAAVQAAAAAAAAPA/tbS0tLS0FEAAAAAAAAD+PwAAAAAAAPA/AAAAAAAA8D8AAAAAAADwP5IkSZIkSfI/GEt+seQXC0CrqqqqqqoUQOzETuzEThBASZIkSZIkE0A=",
             "dtype": "f8"
            },
            "sizemode": "area",
            "sizeref": 0.32238095238095243
           },
           "mode": "markers",
           "name": "",
           "showlegend": false,
           "subplot": "mapbox",
           "type": "scattermapbox"
          }
         ],
         "name": "1"
        },
        {
         "data": [
          {
           "hovertemplate": "<b>%{hovertext}</b><br><br>hour=2<br>pedestrian_count=%{marker.color}<br>latitude=%{lat}<br>longitude=%{lon}<extra></extra>",
           "hovertext": [
            "Bou292_T",
            "Bou283_T",
            "Swa295_T",
            "Swa123_T",
            "PriNW_T",
            "FliS_T",
            "WebBN_T",
            "Col700_T",
            "BouHbr_T",
            "WatCit_T",
            "NewQ_T",
            "SanBri_T",
            "Col15_T",
            "Col12_T",
            "LtB210_T",
            "LtB170_T",
            "Bourke155_T",
            "Col623_T",
            "Col620_T",
            "MCEC_T",
            "Vic_T",
            "VAC_T",
            "AG_T",
            "Lon189_T",
            "Lyg161_T",
            "SouthB_T",
            "Que85_T",
            "Lyg260_T",
            "AlfPl_T",
            "Spr201_T",
            "Swa31",
            "UM1_T",
            "UM2_T",
            "UM3_T",
            "Swa148_T",
            "Eli250_T",
            "Eli501_T",
            "Lyg309_T",
            "Fra118_T",
            "Eli263_T",
            "Col254_T",
            "Swa607_T",
            "Lon364_T",
            "Bou688_T",
            "RMIT_T",
            "RMIT14_T",
            "Lat224_T",
            "Bou231_T",
            "QVN_T",
            "FLDegS_T",
            "FLDegN_T",
            "Errol20_T",
            "WestWP_T",
            "ACMI_T",
            "SprFli_T",
            "HarEsP_T",
            "HarEsB_T",
            "FliSS_T",
            "ElFi_T",
            "488Mac_T",
            "574Qub_T",
            "Errol23_T",
            "280Will_T",
            "261Will_T",
            "LatWill_T",
            "Fli114F_T",
            "Fli114C_T",
            "King2_T",
            "King335_T",
            "Spen229_T",
            "Spen201_T",
            "Spen161_T",
            "Signal1647_T",
            "474Fl_T",
            "Spencer_T",
            "Eli489_T",
            "Lat526_T",
            "Spen475_T",
            "Lat526_T",
            "Pow61_T",
            "Eli368_T",
            "King163_T",
            "Eli124_T",
            "Eli197_T"
           ],
           "lat": {
            "bdata": "4za3lSDoQsDk7jnRKuhCwMYt7ljP50LAW2Lh+03oQsCjMs2NzOhCwEqs1tPY6ELA7Ei78lXpQsBVV9Mv8OhCwH+1ckjN6ELAnEQxN2foQsAwSkwnROhCwMJ4m3H56ELAoIXK4CToQsAs8JkVH+hCwPAKbc7750LATsGOvebnQsAP2FGsBehCwGjMZgbY6ELA9Bo3DNHoQsD3QvlpeelCwDD22kMt50LAW311VSDpQsDEaAwp9ehCwIG0/wHW50LA9yBGAJ7mQsD8rfjh++hCwPiAaeaD6ELAWtVxgInmQsD2jiKEKuhCwHf2Mt2t50LA6bGQLYnoQsBr2fc0aeZCwFGsS3Qz5kLACqP2rgPmQsCjy5vDNehCwMNwQ8YC6ELAvFHxoFXnQsDm9mCMJ+ZCwBXf9T5650LA6DjxtADoQsA2WUD0ZuhCwHyZKELq5kLAVp3VAvvnQsBpUZ/kjuhCwKYwxvJ050LA4Acx4WHnQsByGmDurOdCwLzjVjkb6ELAYkX0CMHnQsA54W/Fj+hCwDQn1HiO6ELA8BL/JPzmQsB5c7hW++dCwMKoIBac6ELA2bj27FboQsD+vvu6PuhCwAW1raBI6ELAOuPiRbLoQsB0qK6Vs+hCwCVW62ms5ULA/ehp+svmQsAgyEl6++ZCwLNVMMf+50LACvXTAw/oQsAtr56L7edCwPCrrEx86ELAE1Uqbn3oQsA59FC6+OhCwAOkqscF6ELA0Zp6OFzoQsADVvWPkehCwNl8t9Sc6ELAoVaooOjoQsAee83d9OhCwI8aE2Iu6ULAwedmA1nnQsADPj+MEOhCwCAI88ue50LAqutYvhHoQsB8EjNWdulCwBE1di6x50LAFIHirnvoQsCTsAz9VehCwBsL0Nco6ELA",
            "dtype": "f8"
           },
           "legendgroup": "",
           "lon": {
            "bdata": "Us8GieIeYkC5KEim4h5iQHCO34DbHmJAEUL2MOoeYkB7eEPY+B5iQNM6YA3mHmJAvcInQk8eYkAiXSLNbh5iQKGzFrBOHmJA+uNJFBIeYkDaFuluLB5iQCObcTvQHmJAxZeivyQfYkBvEyhBIx9iQJjwU27lHmJA0i5L4PseYkCqfoTl+B5iQHe3Nn2LHmJAnszDMoseYkBQxyHqlx5iQFE4kjabHmJAgcRdWgAfYkBYzjnT/x5iQNzhIyDuHmJA1QNJTO4eYkCkDhv64R5iQPkuxjzCHmJAXQF9CfIeYkBfyDTkCR9iQOEKSeIcH2JAEl6r0vAeYkADJpH51x5iQIJMnQ3aHmJAIRHHeNweYkBmHYY96h5iQLJLVG/NHmJABJlTuLQeYkC4lqhi8x5iQPNfOaWwHmJAwMaaNsgeYkBDqihe5R5iQD0LhJXRHmJAFK8V4cQeYkAL68a7gx5iQEnQRkvRHmJAwauCpNEeYkCRybEOyh5iQHu1q6nvHmJAD8Vwt9weYkBH19hn5h5iQF/Uiy3mHmJAVyy4/mEeYkBLx711FR9iQIgoDdL/HmJACYQAjTAfYkBX6hf0Nx5iQH2EUJQ6HmJAnVKY1uoeYkBHbKCO4R5iQMRiDmHAHWJAI8Jc3l4eYkBTk7//Xx5iQJcCsfCeHmJASBijAZ4eYkBdeupHmR5iQJbRRK8RH2JAaD2dpxEfYkAhOgSOpB5iQMHTtw6GHmJAVegPD3keYkCjAWFMfx5iQLU3dIqAHmJAKRlKN9MeYkA5s8DLqh5iQBXp2QeUHmJAQXVaVLceYkAOZnaKcx5iQFeeOGdhHmJASm4DLXMeYkC3KZre0B5iQKDc+AvEHmJAb+BIf5MeYkBd4xLL1h5iQP215fHOHmJA",
            "dtype": "f8"
           },
           "marker": {
            "color": {
             "bdata": "xU7sxE7s9D8AAAAAAAAIQPJW9jmkJgBAoryG8hrK+z9u27Zt27YFQL3pTW960/s/AAAAAAAA8D8AAAAAAAD8PwAAAAAAAPA/AAAAAAAA8D8AAAAAAADwPwAAAAAAAPA/5DiO4ziO8z8AAAAAAADwPwAAAAAAAABASZIkSZIkAUDNzMzMzMz8P2ZmZmZmZvY/iIeHh4eH9z8zMzMzMzMDQFVVVVVVVfU/IiIiIiIi8j8AAAAAAADwP4qd2Imd2Pk/t23btm3b9j/Kayivobz2PwAAAAAAAPQ/MzMzMzMz8z8AAAAAAADwPwAAAAAAAPA/vYbyGspr+D8AAAAAAADwPwAAAAAAAPA/AAAAAAAA8D8eHh4eHh7+Pylcj8L1KPw/L6G9hPYSAkAAAAAAAADwP6uqqqqqqvo/T+zETuzE/j900UUXXXTxP2ZmZmZmZv4/AAAAAAAA8D+rqqqqqqoCQM3MzMzMzAxAq6qqqqqqAEAvob2E9hL6PwAAAAAAAPw/kYUsZCEL+T8AAAAAAADwPwAAAAAAAPA/VVVVVVVV9T8AAAAAAAAAQAAAAAAAAPA/AAAAAAAAAEAAAAAAAAACQFVVVVVVVfU/t23btm3b9j+KndiJndgJQAAAAAAAAPA/AAAAAAAA8D8AAAAAAADwP6uqqqqqqvo/zczMzMzM9D9ddNFFF10EQAAAAAAAABRAAAAAAAAAHEAAAAAAAAACQJqZmZmZmQFAq6qqqqqqBkDbtm3btm0LQHIcx3EcxwFAAAAAAAAAAECrqqqqqqoCQBQ7sRM7sQtAq6qqqqqqCkAAAAAAAAD8PwAAAAAAAPg/AAAAAAAAAEBVVVVVVVX1P1nIQhaykP0/SZIkSZIkE0CJiIiIiIgIQJqZmZmZmQVA",
             "dtype": "f8"
            },
            "coloraxis": "coloraxis",
            "size": {
             "bdata": "xU7sxE7s9D8AAAAAAAAIQPJW9jmkJgBAoryG8hrK+z9u27Zt27YFQL3pTW960/s/AAAAAAAA8D8AAAAAAAD8PwAAAAAAAPA/AAAAAAAA8D8AAAAAAADwPwAAAAAAAPA/5DiO4ziO8z8AAAAAAADwPwAAAAAAAABASZIkSZIkAUDNzMzMzMz8P2ZmZmZmZvY/iIeHh4eH9z8zMzMzMzMDQFVVVVVVVfU/IiIiIiIi8j8AAAAAAADwP4qd2Imd2Pk/t23btm3b9j/Kayivobz2PwAAAAAAAPQ/MzMzMzMz8z8AAAAAAADwPwAAAAAAAPA/vYbyGspr+D8AAAAAAADwPwAAAAAAAPA/AAAAAAAA8D8eHh4eHh7+Pylcj8L1KPw/L6G9hPYSAkAAAAAAAADwP6uqqqqqqvo/T+zETuzE/j900UUXXXTxP2ZmZmZmZv4/AAAAAAAA8D+rqqqqqqoCQM3MzMzMzAxAq6qqqqqqAEAvob2E9hL6PwAAAAAAAPw/kYUsZCEL+T8AAAAAAADwPwAAAAAAAPA/VVVVVVVV9T8AAAAAAAAAQAAAAAAAAPA/AAAAAAAAAEAAAAAAAAACQFVVVVVVVfU/t23btm3b9j+KndiJndgJQAAAAAAAAPA/AAAAAAAA8D8AAAAAAADwP6uqqqqqqvo/zczMzMzM9D9ddNFFF10EQAAAAAAAABRAAAAAAAAAHEAAAAAAAAACQJqZmZmZmQFAq6qqqqqqBkDbtm3btm0LQHIcx3EcxwFAAAAAAAAAAECrqqqqqqoCQBQ7sRM7sQtAq6qqqqqqCkAAAAAAAAD8PwAAAAAAAPg/AAAAAAAAAEBVVVVVVVX1P1nIQhaykP0/SZIkSZIkE0CJiIiIiIgIQJqZmZmZmQVA",
             "dtype": "f8"
            },
            "sizemode": "area",
            "sizeref": 0.32238095238095243
           },
           "mode": "markers",
           "name": "",
           "showlegend": false,
           "subplot": "mapbox",
           "type": "scattermapbox"
          }
         ],
         "name": "2"
        },
        {
         "data": [
          {
           "hovertemplate": "<b>%{hovertext}</b><br><br>hour=3<br>pedestrian_count=%{marker.color}<br>latitude=%{lat}<br>longitude=%{lon}<extra></extra>",
           "hovertext": [
            "Bou292_T",
            "Bou283_T",
            "Swa295_T",
            "Swa123_T",
            "PriNW_T",
            "FliS_T",
            "Col700_T",
            "BouHbr_T",
            "WatCit_T",
            "NewQ_T",
            "SanBri_T",
            "Col15_T",
            "Col12_T",
            "LtB210_T",
            "LtB170_T",
            "Bourke155_T",
            "Col623_T",
            "Col620_T",
            "MCEC_T",
            "Vic_T",
            "VAC_T",
            "AG_T",
            "Lon189_T",
            "Lyg161_T",
            "SouthB_T",
            "Que85_T",
            "Lyg260_T",
            "Spr201_T",
            "Swa31",
            "UM1_T",
            "Swa148_T",
            "Eli250_T",
            "Eli501_T",
            "Lyg309_T",
            "Fra118_T",
            "Eli263_T",
            "Col254_T",
            "Swa607_T",
            "Bou688_T",
            "RMIT_T",
            "RMIT14_T",
            "Lat224_T",
            "Bou231_T",
            "QVN_T",
            "FLDegS_T",
            "FLDegN_T",
            "FLDegC_T",
            "Errol20_T",
            "WestWP_T",
            "ACMI_T",
            "HarEsP_T",
            "HarEsB_T",
            "FliSS_T",
            "ElFi_T",
            "574Qub_T",
            "280Will_T",
            "261Will_T",
            "LatWill_T",
            "Fli114F_T",
            "Bou892T",
            "King2_T",
            "King335_T",
            "Spen229_T",
            "Spen201_T",
            "Spen161_T",
            "BirFed1120_T",
            "474Fl_T",
            "Spencer_T",
            "BirArt1109_T",
            "Eli489_T",
            "Lat526_T",
            "Lat526_T",
            "Pow61_T",
            "Eli368_T",
            "King163_T",
            "Eli124_T",
            "Eli197_T"
           ],
           "lat": {
            "bdata": "4za3lSDoQsDk7jnRKuhCwMYt7ljP50LAW2Lh+03oQsCjMs2NzOhCwEqs1tPY6ELAVVfTL/DoQsB/tXJIzehCwJxEMTdn6ELAMEpMJ0ToQsDCeJtx+ehCwKCFyuAk6ELALPCZFR/oQsDwCm3O++dCwE7Bjr3m50LAD9hRrAXoQsBozGYG2OhCwPQaNwzR6ELA90L5aXnpQsAw9tpDLedCwFt9dVUg6ULAxGgMKfXoQsCBtP8B1udCwPcgRgCe5kLA/K344fvoQsD4gGnmg+hCwFrVcYCJ5kLAd/Yy3a3nQsDpsZAtiehCwGvZ9zRp5kLAo8ubwzXoQsDDcEPGAuhCwLxR8aBV50LA5vZgjCfmQsAV3/U+eudCwOg48bQA6ELANllA9GboQsB8mShC6uZCwGlRn+SO6ELApjDG8nTnQsDgBzHhYedCwHIaYO6s50LAvONWORvoQsBiRfQIwedCwDnhb8WP6ELANCfUeI7oQsDU2ixFj+hCwPAS/yT85kLAeXO4VvvnQsDCqCAWnOhCwP6++7o+6ELABbWtoEjoQsA64+JFsuhCwHSorpWz6ELA/ehp+svmQsCzVTDH/udCwAr10wMP6ELALa+ei+3nQsDwq6xMfOhCwA+HW/QE6ULAOfRQuvjoQsADpKrHBehCwNGaejhc6ELAA1b1j5HoQsDZfLfUnOhCwOoKEcvB6ELAHnvN3fToQsCPGhNiLulCwIPHrwbF6ELAwedmA1nnQsADPj+MEOhCwKrrWL4R6ELAfBIzVnbpQsARNXYusedCwBSB4q576ELAk7AM/VXoQsAbC9DXKOhCwA==",
            "dtype": "f8"
           },
           "legendgroup": "",
           "lon": {
            "bdata": "Us8GieIeYkC5KEim4h5iQHCO34DbHmJAEUL2MOoeYkB7eEPY+B5iQNM6YA3mHmJAIl0izW4eYkChsxawTh5iQPrjSRQSHmJA2hbpbiweYkAjm3E70B5iQMWXor8kH2JAbxMoQSMfYkCY8FNu5R5iQNIuS+D7HmJAqn6E5fgeYkB3tzZ9ix5iQJ7MwzKLHmJAUMch6pceYkBROJI2mx5iQIHEXVoAH2JAWM450/8eYkDc4SMg7h5iQNUDSUzuHmJApA4b+uEeYkD5LsY8wh5iQF0BfQnyHmJA4QpJ4hwfYkASXqvS8B5iQAMmkfnXHmJAZh2GPeoeYkCyS1RvzR5iQASZU7i0HmJAuJaoYvMeYkDzXzmlsB5iQMDGmjbIHmJAQ6ooXuUeYkA9C4SV0R5iQAvrxruDHmJASdBGS9EeYkDBq4Kk0R5iQJHJsQ7KHmJAe7Wrqe8eYkAPxXC33B5iQEfX2GfmHmJAX9SLLeYeYkAfAwUg5h5iQFcsuP5hHmJAS8e9dRUfYkCIKA3S/x5iQFfqF/Q3HmJAfYRQlDoeYkCdUpjW6h5iQEdsoI7hHmJAI8Jc3l4eYkCXArHwnh5iQEgYowGeHmJAXXrqR5keYkCW0USvER9iQM8und4eHmJAIToEjqQeYkDB07cOhh5iQFXoDw95HmJAowFhTH8eYkC1N3SKgB5iQCkqdo8nH2JAObPAy6oeYkAV6dkHlB5iQMZrwf8UH2JAQXVaVLceYkAOZnaKcx5iQEpuAy1zHmJAtyma3tAeYkCg3PgLxB5iQG/gSH+THmJAXeMSy9YeYkD9teXxzh5iQA==",
            "dtype": "f8"
           },
           "marker": {
            "color": {
             "bdata": "AAAAAAAA/D85juM4juMAQHIcx3EcxwFA5DiO4ziO+z+rqqqqqqoMQNFFF1100fU/AAAAAAAA8D8AAAAAAADwPwAAAAAAAPA/AAAAAAAA8D8AAAAAAAAAQEmSJEmSJPk/AAAAAAAA8D9paWlpaWn5PwAAAAAAAABAAAAAAAAA/D8AAAAAAAD8PyIiIiIiIgJAmpmZmZmZAUBmZmZmZmb2P+Q4juM4jvM/5DiO4ziO8z8AAAAAAAAAQAAAAAAAAPA/kiRJkiRJ8j8AAAAAAAAAQGZmZmZmZvY/AAAAAAAA8D8hC1nIQhYCQAAAAAAAAPA/chzHcRzH+T+rqqqqqqr+PwAAAAAAQAFAAAAAAAAA8D+rqqqqqqr6P9u2bdu2bQNAAAAAAAAA9D8AAAAAAAAAQGIndmIndvI/3t3d3d3d/T8AAAAAAAD4PwAAAAAAAP8/AAAAAAAA/D/RRRdddNEFQFVVVVVVVfU/AAAAAAAA8D8AAAAAAADwPwAAAAAAAPA/AAAAAAAA8D8AAAAAAADwP1VVVVVVVfU/AAAAAAAAAECXlpaWlpb2P47jOI7jOAZAAAAAAAAA8D8AAAAAAADwPwAAAAAAAPg/q6qqqqqq8j8AAAAAAADwPwAAAAAAAPA/q6qqqqqqCkAAAAAAAAD8P7ETO7ETOwFAdNFFF110AUBVVVVVVVUBQAAAAAAAAPA/27Zt27Zt+z9VVVVVVVUHQAAAAAAAAPA/zczMzMzMBEAAAAAAAADwPwAAAAAAAPA/AAAAAAAA+D+rqqqqqqr6PwAAAAAAABhAmpmZmZmZBUCMLrrooosGQA==",
             "dtype": "f8"
            },
            "coloraxis": "coloraxis",
            "size": {
             "bdata": "AAAAAAAA/D85juM4juMAQHIcx3EcxwFA5DiO4ziO+z+rqqqqqqoMQNFFF1100fU/AAAAAAAA8D8AAAAAAADwPwAAAAAAAPA/AAAAAAAA8D8AAAAAAAAAQEmSJEmSJPk/AAAAAAAA8D9paWlpaWn5PwAAAAAAAABAAAAAAAAA/D8AAAAAAAD8PyIiIiIiIgJAmpmZmZmZAUBmZmZmZmb2P+Q4juM4jvM/5DiO4ziO8z8AAAAAAAAAQAAAAAAAAPA/kiRJkiRJ8j8AAAAAAAAAQGZmZmZmZvY/AAAAAAAA8D8hC1nIQhYCQAAAAAAAAPA/chzHcRzH+T+rqqqqqqr+PwAAAAAAQAFAAAAAAAAA8D+rqqqqqqr6P9u2bdu2bQNAAAAAAAAA9D8AAAAAAAAAQGIndmIndvI/3t3d3d3d/T8AAAAAAAD4PwAAAAAAAP8/AAAAAAAA/D/RRRdddNEFQFVVVVVVVfU/AAAAAAAA8D8AAAAAAADwPwAAAAAAAPA/AAAAAAAA8D8AAAAAAADwP1VVVVVVVfU/AAAAAAAAAECXlpaWlpb2P47jOI7jOAZAAAAAAAAA8D8AAAAAAADwPwAAAAAAAPg/q6qqqqqq8j8AAAAAAADwPwAAAAAAAPA/q6qqqqqqCkAAAAAAAAD8P7ETO7ETOwFAdNFFF110AUBVVVVVVVUBQAAAAAAAAPA/27Zt27Zt+z9VVVVVVVUHQAAAAAAAAPA/zczMzMzMBEAAAAAAAADwPwAAAAAAAPA/AAAAAAAA+D+rqqqqqqr6PwAAAAAAABhAmpmZmZmZBUCMLrrooosGQA==",
             "dtype": "f8"
            },
            "sizemode": "area",
            "sizeref": 0.32238095238095243
           },
           "mode": "markers",
           "name": "",
           "showlegend": false,
           "subplot": "mapbox",
           "type": "scattermapbox"
          }
         ],
         "name": "3"
        },
        {
         "data": [
          {
           "hovertemplate": "<b>%{hovertext}</b><br><br>hour=4<br>pedestrian_count=%{marker.color}<br>latitude=%{lat}<br>longitude=%{lon}<extra></extra>",
           "hovertext": [
            "Bou292_T",
            "Bou283_T",
            "Swa295_T",
            "Swa123_T",
            "PriNW_T",
            "FliS_T",
            "WebBN_T",
            "Col700_T",
            "BouHbr_T",
            "WatCit_T",
            "NewQ_T",
            "SanBri_T",
            "Col15_T",
            "Col12_T",
            "LtB210_T",
            "LtB170_T",
            "Bourke155_T",
            "Col623_T",
            "Col620_T",
            "MCEC_T",
            "Vic_T",
            "VAC_T",
            "AG_T",
            "Lon189_T",
            "Lyg161_T",
            "SouthB_T",
            "Que85_T",
            "Lyg260_T",
            "Spr201_T",
            "Swa31",
            "UM1_T",
            "UM2_T",
            "UM3_T",
            "Swa148_T",
            "Eli250_T",
            "Eli501_T",
            "Lyg309_T",
            "Fra118_T",
            "Eli263_T",
            "Col254_T",
            "Swa607_T",
            "Lon364_T",
            "Bou688_T",
            "RMIT_T",
            "RMIT14_T",
            "Lat224_T",
            "Bou231_T",
            "QVN_T",
            "FLDegS_T",
            "FLDegN_T",
            "FLDegC_T",
            "Errol20_T",
            "WestWP_T",
            "ACMI_T",
            "SprFli_T",
            "KenMac_T",
            "HarEsP_T",
            "HarEsB_T",
            "FliSS_T",
            "ElFi_T",
            "488Mac_T",
            "574Qub_T",
            "Errol23_T",
            "280Will_T",
            "261Will_T",
            "LatWill_T",
            "Fli114F_T",
            "King2_T",
            "King335_T",
            "Spen229_T",
            "Spen201_T",
            "Spen161_T",
            "BouHbr2353_T",
            "474Fl_T",
            "Spencer_T",
            "Eli489_T",
            "Lat526_T",
            "Spen475_T",
            "Spen484_T",
            "Lat526_T",
            "Pow61_T",
            "Eli368_T",
            "King163_T",
            "Eli124_T",
            "Eli197_T"
           ],
           "lat": {
            "bdata": "4za3lSDoQsDk7jnRKuhCwMYt7ljP50LAW2Lh+03oQsCjMs2NzOhCwEqs1tPY6ELA7Ei78lXpQsBVV9Mv8OhCwH+1ckjN6ELAnEQxN2foQsAwSkwnROhCwMJ4m3H56ELAoIXK4CToQsAs8JkVH+hCwPAKbc7750LATsGOvebnQsAP2FGsBehCwGjMZgbY6ELA9Bo3DNHoQsD3QvlpeelCwDD22kMt50LAW311VSDpQsDEaAwp9ehCwIG0/wHW50LA9yBGAJ7mQsD8rfjh++hCwPiAaeaD6ELAWtVxgInmQsB39jLdredCwOmxkC2J6ELAa9n3NGnmQsBRrEt0M+ZCwAqj9q4D5kLAo8ubwzXoQsDDcEPGAuhCwLxR8aBV50LA5vZgjCfmQsAV3/U+eudCwOg48bQA6ELANllA9GboQsB8mShC6uZCwFad1QL750LAaVGf5I7oQsCmMMbydOdCwOAHMeFh50LAchpg7qznQsC841Y5G+hCwGJF9AjB50LAOeFvxY/oQsA0J9R4juhCwNTaLEWP6ELA8BL/JPzmQsB5c7hW++dCwMKoIBac6ELA2bj27FboQsCeIxNss+VCwP6++7o+6ELABbWtoEjoQsA64+JFsuhCwHSorpWz6ELAJVbraazlQsD96Gn6y+ZCwCDISXr75kLAs1Uwx/7nQsAK9dMDD+hCwC2vnovt50LA8KusTHzoQsA59FC6+OhCwAOkqscF6ELA0Zp6OFzoQsADVvWPkehCwNl8t9Sc6ELAUq8AS9PoQsAee83d9OhCwI8aE2Iu6ULAwedmA1nnQsADPj+MEOhCwCAI88ue50LA9PDQPYznQsCq61i+EehCwHwSM1Z26ULAETV2LrHnQsAUgeKue+hCwJOwDP1V6ELAGwvQ1yjoQsA=",
            "dtype": "f8"
           },
           "legendgroup": "",
           "lon": {
            "bdata": "Us8GieIeYkC5KEim4h5iQHCO34DbHmJAEUL2MOoeYkB7eEPY+B5iQNM6YA3mHmJAvcInQk8eYkAiXSLNbh5iQKGzFrBOHmJA+uNJFBIeYkDaFuluLB5iQCObcTvQHmJAxZeivyQfYkBvEyhBIx9iQJjwU27lHmJA0i5L4PseYkCqfoTl+B5iQHe3Nn2LHmJAnszDMoseYkBQxyHqlx5iQFE4kjabHmJAgcRdWgAfYkBYzjnT/x5iQNzhIyDuHmJA1QNJTO4eYkCkDhv64R5iQPkuxjzCHmJAXQF9CfIeYkDhCkniHB9iQBJeq9LwHmJAAyaR+dceYkCCTJ0N2h5iQCERx3jcHmJAZh2GPeoeYkCyS1RvzR5iQASZU7i0HmJAuJaoYvMeYkDzXzmlsB5iQMDGmjbIHmJAQ6ooXuUeYkA9C4SV0R5iQBSvFeHEHmJAC+vGu4MeYkBJ0EZL0R5iQMGrgqTRHmJAkcmxDsoeYkB7taup7x5iQA/FcLfcHmJAR9fYZ+YeYkBf1Ist5h5iQB8DBSDmHmJAVyy4/mEeYkBLx711FR9iQIgoDdL/HmJACYQAjTAfYkDIN2eGxR1iQFfqF/Q3HmJAfYRQlDoeYkCdUpjW6h5iQEdsoI7hHmJAxGIOYcAdYkAjwlzeXh5iQFOTv/9fHmJAlwKx8J4eYkBIGKMBnh5iQF166keZHmJAltFErxEfYkAhOgSOpB5iQMHTtw6GHmJAVegPD3keYkCjAWFMfx5iQLU3dIqAHmJArOySo0YeYkA5s8DLqh5iQBXp2QeUHmJAQXVaVLceYkAOZnaKcx5iQFeeOGdhHmJAWawbzmAeYkBKbgMtcx5iQLcpmt7QHmJAoNz4C8QeYkBv4Eh/kx5iQF3jEsvWHmJA/bXl8c4eYkA=",
            "dtype": "f8"
           },
           "marker": {
            "color": {
             "bdata": "q6qqqqqq8j8AAAAAAAD4Py+hvYT2Evo/MzMzMzMz8z9JkiRJkiQRQKOLLrroovs/AAAAAAAA8D8zMzMzMzPzPwAAAAAAAPA/AAAAAAAA8D8AAAAAAADwP1100UUXXfQ/ZmZmZmZm9j9VVVVVVVX1P+miiy666PI/AAAAAAAA8D+3bdu2bdv2P6uqqqqqqvY/9DzP8zzP8z8AAAAAAAD+PwAAAAAAAPA/jC666KKL9j+SJEmSJEnyP2IndmIndgJAq6qqqqqq/j8AAAAAAADwPwAAAAAAAPg/AAAAAAAA8D8AAAAAAAD0P42w3NMIy/0/VVVVVVVV9T9VVVVVVVX1PwAAAAAAAPA/AAAAAAAA+T9I4XoUrkcBQAAAAAAAgANAAAAAAAAACEDkOI7jOI7zPwAAAAAAAPA/JUmSJEmS9D8AAAAAAAD2PwAAAAAAAPA/kiRJkiRJ+j9VVVVVVVUFQM3MzMzMzPQ/juM4juM49j8AAAAAAAD0P15DeQ3lNfQ/AAAAAAAA8D8AAAAAAADwPwAAAAAAAPA/AAAAAAAA8D9VVVVVVVX1PwAAAAAAAPA/AAAAAAAA8D8AAAAAAADwP5qZmZmZmfk/AAAAAAAA+D8iIiIiIiLyPwAAAAAAAABAAAAAAAAA8D8AAAAAAADwPwAAAAAAAPA/AAAAAAAA+D+SJEmSJEnyPwAAAAAAAPA/q6qqqqqqAkDbtm3btm0LQNu2bdu2bfs/t23btm3bEEByHMdxHMcRQM3MzMzMzAhAAAAAAAAA8D92Yid2YicGQAAAAAAAAABAq6qqqqqq+j8AAAAAAAD4PwAAAAAAAPA/AAAAAAAA8D8AAAAAAADwPwAAAAAAAPA/xU7sxE7s/D93d3d3d3cPQAAAAAAAAAZAVVVVVVVVCUA=",
             "dtype": "f8"
            },
            "coloraxis": "coloraxis",
            "size": {
             "bdata": "q6qqqqqq8j8AAAAAAAD4Py+hvYT2Evo/MzMzMzMz8z9JkiRJkiQRQKOLLrroovs/AAAAAAAA8D8zMzMzMzPzPwAAAAAAAPA/AAAAAAAA8D8AAAAAAADwP1100UUXXfQ/ZmZmZmZm9j9VVVVVVVX1P+miiy666PI/AAAAAAAA8D+3bdu2bdv2P6uqqqqqqvY/9DzP8zzP8z8AAAAAAAD+PwAAAAAAAPA/jC666KKL9j+SJEmSJEnyP2IndmIndgJAq6qqqqqq/j8AAAAAAADwPwAAAAAAAPg/AAAAAAAA8D8AAAAAAAD0P42w3NMIy/0/VVVVVVVV9T9VVVVVVVX1PwAAAAAAAPA/AAAAAAAA+T9I4XoUrkcBQAAAAAAAgANAAAAAAAAACEDkOI7jOI7zPwAAAAAAAPA/JUmSJEmS9D8AAAAAAAD2PwAAAAAAAPA/kiRJkiRJ+j9VVVVVVVUFQM3MzMzMzPQ/juM4juM49j8AAAAAAAD0P15DeQ3lNfQ/AAAAAAAA8D8AAAAAAADwPwAAAAAAAPA/AAAAAAAA8D9VVVVVVVX1PwAAAAAAAPA/AAAAAAAA8D8AAAAAAADwP5qZmZmZmfk/AAAAAAAA+D8iIiIiIiLyPwAAAAAAAABAAAAAAAAA8D8AAAAAAADwPwAAAAAAAPA/AAAAAAAA+D+SJEmSJEnyPwAAAAAAAPA/q6qqqqqqAkDbtm3btm0LQNu2bdu2bfs/t23btm3bEEByHMdxHMcRQM3MzMzMzAhAAAAAAAAA8D92Yid2YicGQAAAAAAAAABAq6qqqqqq+j8AAAAAAAD4PwAAAAAAAPA/AAAAAAAA8D8AAAAAAADwPwAAAAAAAPA/xU7sxE7s/D93d3d3d3cPQAAAAAAAAAZAVVVVVVVVCUA=",
             "dtype": "f8"
            },
            "sizemode": "area",
            "sizeref": 0.32238095238095243
           },
           "mode": "markers",
           "name": "",
           "showlegend": false,
           "subplot": "mapbox",
           "type": "scattermapbox"
          }
         ],
         "name": "4"
        },
        {
         "data": [
          {
           "hovertemplate": "<b>%{hovertext}</b><br><br>hour=5<br>pedestrian_count=%{marker.color}<br>latitude=%{lat}<br>longitude=%{lon}<extra></extra>",
           "hovertext": [
            "Bou292_T",
            "Bou283_T",
            "Swa295_T",
            "Swa123_T",
            "PriNW_T",
            "FliS_T",
            "WebBN_T",
            "Col700_T",
            "BouHbr_T",
            "WatCit_T",
            "NewQ_T",
            "SanBri_T",
            "Col15_T",
            "Col12_T",
            "LtB210_T",
            "LtB170_T",
            "Bourke155_T",
            "Col623_T",
            "Col620_T",
            "MCEC_T",
            "Vic_T",
            "VAC_T",
            "AG_T",
            "Lon189_T",
            "Lyg161_T",
            "SouthB_T",
            "Que85_T",
            "Lyg260_T",
            "AlfPl_T",
            "Spr201_T",
            "Swa31",
            "UM1_T",
            "UM2_T",
            "UM3_T",
            "Swa148_T",
            "Pel147_T",
            "Eli250_T",
            "QVMQ_T",
            "Eli501_T",
            "Lyg309_T",
            "Fra118_T",
            "Eli263_T",
            "Col254_T",
            "Swa607_T",
            "Lon364_T",
            "Bou688_T",
            "RMIT_T",
            "RMIT14_T",
            "Lat224_T",
            "Bou231_T",
            "QVN_T",
            "FLDegS_T",
            "FLDegC_T",
            "Errol20_T",
            "WestWP_T",
            "ACMI_T",
            "SprFli_T",
            "KenMac_T",
            "HarEsP_T",
            "HarEsB_T",
            "FliSS_T",
            "ElFi_T",
            "488Mac_T",
            "574Qub_T",
            "Errol23_T",
            "280Will_T",
            "261Will_T",
            "LatWill_T",
            "Fli114F_T",
            "BirBridge_T",
            "Bou892T",
            "King2_T",
            "King335_T",
            "Spen229_T",
            "Spen201_T",
            "Spen161_T",
            "BirFed1120_T",
            "BouHbr2353_T",
            "Signal1647_T",
            "474Fl_T",
            "Hammer1584_T",
            "Spencer_T",
            "BirArt1109_T",
            "Eli489_T",
            "Lat526_T",
            "Spen475_T",
            "Spen484_T",
            "Lat526_T",
            "Pow61_T",
            "Mac330_T",
            "Eli368_T",
            "King163_T",
            "Eli124_T",
            "Eli197_T"
           ],
           "lat": {
            "bdata": "4za3lSDoQsDk7jnRKuhCwMYt7ljP50LAW2Lh+03oQsCjMs2NzOhCwEqs1tPY6ELA7Ei78lXpQsBVV9Mv8OhCwH+1ckjN6ELAnEQxN2foQsAwSkwnROhCwMJ4m3H56ELAoIXK4CToQsAs8JkVH+hCwPAKbc7750LATsGOvebnQsAP2FGsBehCwGjMZgbY6ELA9Bo3DNHoQsD3QvlpeelCwDD22kMt50LAW311VSDpQsDEaAwp9ehCwIG0/wHW50LA9yBGAJ7mQsD8rfjh++hCwPiAaeaD6ELAWtVxgInmQsD2jiKEKuhCwHf2Mt2t50LA6bGQLYnoQsBr2fc0aeZCwFGsS3Qz5kLACqP2rgPmQsCjy5vDNehCwAiQX0e15kLAw3BDxgLoQsBQGUFbNedCwLxR8aBV50LA5vZgjCfmQsAV3/U+eudCwOg48bQA6ELANllA9GboQsB8mShC6uZCwFad1QL750LAaVGf5I7oQsCmMMbydOdCwOAHMeFh50LAchpg7qznQsC841Y5G+hCwGJF9AjB50LAOeFvxY/oQsDU2ixFj+hCwPAS/yT85kLAeXO4VvvnQsDCqCAWnOhCwNm49uxW6ELAniMTbLPlQsD+vvu6PuhCwAW1raBI6ELAOuPiRbLoQsB0qK6Vs+hCwCVW62ms5ULA/ehp+svmQsAgyEl6++ZCwLNVMMf+50LACvXTAw/oQsAtr56L7edCwPCrrEx86ELAcJrbEKXoQsAPh1v0BOlCwDn0ULr46ELAA6SqxwXoQsDRmno4XOhCwANW9Y+R6ELA2Xy31JzoQsDqChHLwehCwFKvAEvT6ELAoVaooOjoQsAee83d9OhCwArrzizs6ELAjxoTYi7pQsCDx68GxehCwMHnZgNZ50LAAz4/jBDoQsAgCPPLnudCwPTw0D2M50LAqutYvhHoQsB8EjNWdulCwHmqppjB5ULAETV2LrHnQsAUgeKue+hCwJOwDP1V6ELAGwvQ1yjoQsA=",
            "dtype": "f8"
           },
           "legendgroup": "",
           "lon": {
            "bdata": "Us8GieIeYkC5KEim4h5iQHCO34DbHmJAEUL2MOoeYkB7eEPY+B5iQNM6YA3mHmJAvcInQk8eYkAiXSLNbh5iQKGzFrBOHmJA+uNJFBIeYkDaFuluLB5iQCObcTvQHmJAxZeivyQfYkBvEyhBIx9iQJjwU27lHmJA0i5L4PseYkCqfoTl+B5iQHe3Nn2LHmJAnszDMoseYkBQxyHqlx5iQFE4kjabHmJAgcRdWgAfYkBYzjnT/x5iQNzhIyDuHmJA1QNJTO4eYkCkDhv64R5iQPkuxjzCHmJAXQF9CfIeYkBfyDTkCR9iQOEKSeIcH2JAEl6r0vAeYkADJpH51x5iQIJMnQ3aHmJAIRHHeNweYkBmHYY96h5iQOZMySjFHmJAsktUb80eYkD5fFpmrR5iQASZU7i0HmJAuJaoYvMeYkDzXzmlsB5iQMDGmjbIHmJAQ6ooXuUeYkA9C4SV0R5iQBSvFeHEHmJAC+vGu4MeYkBJ0EZL0R5iQMGrgqTRHmJAkcmxDsoeYkB7taup7x5iQA/FcLfcHmJAR9fYZ+YeYkAfAwUg5h5iQFcsuP5hHmJAS8e9dRUfYkCIKA3S/x5iQAmEAI0wH2JAyDdnhsUdYkBX6hf0Nx5iQH2EUJQ6HmJAnVKY1uoeYkBHbKCO4R5iQMRiDmHAHWJAI8Jc3l4eYkBTk7//Xx5iQJcCsfCeHmJASBijAZ4eYkBdeupHmR5iQJbRRK8RH2JArpJ2QCUfYkDPLp3eHh5iQCE6BI6kHmJAwdO3DoYeYkBV6A8PeR5iQKMBYUx/HmJAtTd0ioAeYkApKnaPJx9iQKzskqNGHmJAKRlKN9MeYkA5s8DLqh5iQCTnq4H5HmJAFenZB5QeYkDGa8H/FB9iQEF1WlS3HmJADmZ2inMeYkBXnjhnYR5iQFmsG85gHmJASm4DLXMeYkC3KZre0B5iQIVMKgHuHWJAoNz4C8QeYkBv4Eh/kx5iQF3jEsvWHmJA/bXl8c4eYkA=",
            "dtype": "f8"
           },
           "marker": {
            "color": {
             "bdata": "VVVVVVVV8T9iGIZhGIbxPxdswRZswfY/mpmZmZmZ+T8AAAAAAKAgQKalpaWlpQlAMzMzMzMz8z/NzMzMzMwAQKuqqqqqqvI/t23btm3b9j+rqqqqqqryP76E9hLaS/g/OY7jOI7jAEBERERERET0P2ZmZmZmZvY/MzMzMzMz8z9mZmZmZmb2PwAAAAAAAAFAVVVVVVVVCUBpaWlpaWkVQJIkSZIkSfI/zczMzMzMAEDbtm3btm37P6uqqqqqqvo/mpmZmZmZ+T990id90if9P2ZmZmZmZvY/AAAAAAAA8D8AAAAAAADwPwAAAAAAAPw/Y4wxxhhj/D+rqqqqqqryPwAAAAAAAPQ/AAAAAAAA8D8XXXTRRRf9PwAAAAAAAPA/yOB8DM7HAEBVVVVVVVX1PwAAAAAAAPw/AAAAAAAADkAAAAAAAAD+P5qZmZmZmfk/Q3kN5TWU9z9VVVVVVVX1P5qZmZmZmfE/ntiJndiJB0DZiZ3YiZ0IQDmO4ziO4/g/pqWlpaWl9T9VVVVVVVX1PxqkQRqkQfo/VVVVVVVV9T9u27Zt27b9PwAAAAAAAPA/AAAAAAAA8D9mZmZmZmb2P6uqqqqqqvI/AAAAAAAA8D+rqqqqqqoAQHIcx3Ecx/E/6aKLLrro+j9yHMdxHMcbQHTRRRdddPE/AAAAAAAA8D/HcRzHcRz3PzMzMzMzMwNAhfYS2ktoA0CKndiJndgJQG7btm3btgVAAAAAAAAA8D9VVVVVVVX1PzmO4ziO4wBAAAAAAAAA/z8AAAAAAIAvQLdt27Zt2yVAbtu2bdu2EUAAAAAAAAAAQAAAAAAAAPA/AAAAAAAAAEBVVVVVVVUBQAAAAAAAAABAAAAAAAAACEBVVVVVVVX9PzuxEzuxEwtA5DiO4ziO8z8AAAAAAAD4P1VVVVVVVfU/AAAAAAAA9D92Yid2Yif2PwAAAAAAAPA/hfYS2kto/z/x8PDw8PAQQIqd2Imd2BFA2Ymd2ImdEEA=",
             "dtype": "f8"
            },
            "coloraxis": "coloraxis",
            "size": {
             "bdata": "VVVVVVVV8T9iGIZhGIbxPxdswRZswfY/mpmZmZmZ+T8AAAAAAKAgQKalpaWlpQlAMzMzMzMz8z/NzMzMzMwAQKuqqqqqqvI/t23btm3b9j+rqqqqqqryP76E9hLaS/g/OY7jOI7jAEBERERERET0P2ZmZmZmZvY/MzMzMzMz8z9mZmZmZmb2PwAAAAAAAAFAVVVVVVVVCUBpaWlpaWkVQJIkSZIkSfI/zczMzMzMAEDbtm3btm37P6uqqqqqqvo/mpmZmZmZ+T990id90if9P2ZmZmZmZvY/AAAAAAAA8D8AAAAAAADwPwAAAAAAAPw/Y4wxxhhj/D+rqqqqqqryPwAAAAAAAPQ/AAAAAAAA8D8XXXTRRRf9PwAAAAAAAPA/yOB8DM7HAEBVVVVVVVX1PwAAAAAAAPw/AAAAAAAADkAAAAAAAAD+P5qZmZmZmfk/Q3kN5TWU9z9VVVVVVVX1P5qZmZmZmfE/ntiJndiJB0DZiZ3YiZ0IQDmO4ziO4/g/pqWlpaWl9T9VVVVVVVX1PxqkQRqkQfo/VVVVVVVV9T9u27Zt27b9PwAAAAAAAPA/AAAAAAAA8D9mZmZmZmb2P6uqqqqqqvI/AAAAAAAA8D+rqqqqqqoAQHIcx3Ecx/E/6aKLLrro+j9yHMdxHMcbQHTRRRdddPE/AAAAAAAA8D/HcRzHcRz3PzMzMzMzMwNAhfYS2ktoA0CKndiJndgJQG7btm3btgVAAAAAAAAA8D9VVVVVVVX1PzmO4ziO4wBAAAAAAAAA/z8AAAAAAIAvQLdt27Zt2yVAbtu2bdu2EUAAAAAAAAAAQAAAAAAAAPA/AAAAAAAAAEBVVVVVVVUBQAAAAAAAAABAAAAAAAAACEBVVVVVVVX9PzuxEzuxEwtA5DiO4ziO8z8AAAAAAAD4P1VVVVVVVfU/AAAAAAAA9D92Yid2Yif2PwAAAAAAAPA/hfYS2kto/z/x8PDw8PAQQIqd2Imd2BFA2Ymd2ImdEEA=",
             "dtype": "f8"
            },
            "sizemode": "area",
            "sizeref": 0.32238095238095243
           },
           "mode": "markers",
           "name": "",
           "showlegend": false,
           "subplot": "mapbox",
           "type": "scattermapbox"
          }
         ],
         "name": "5"
        },
        {
         "data": [
          {
           "hovertemplate": "<b>%{hovertext}</b><br><br>hour=6<br>pedestrian_count=%{marker.color}<br>latitude=%{lat}<br>longitude=%{lon}<extra></extra>",
           "hovertext": [
            "Bou292_T",
            "Bou283_T",
            "Swa295_T",
            "Swa123_T",
            "PriNW_T",
            "FliS_T",
            "WebBN_T",
            "Col700_T",
            "BouHbr_T",
            "WatCit_T",
            "NewQ_T",
            "SanBri_T",
            "Col15_T",
            "Col12_T",
            "LtB210_T",
            "LtB170_T",
            "Bourke155_T",
            "Col623_T",
            "Col620_T",
            "MCEC_T",
            "Vic_T",
            "VAC_T",
            "AG_T",
            "Lon189_T",
            "Lyg161_T",
            "SouthB_T",
            "Que85_T",
            "Lyg260_T",
            "AlfPl_T",
            "Spr201_T",
            "Swa31",
            "UM1_T",
            "UM2_T",
            "UM3_T",
            "Swa148_T",
            "Pel147_T",
            "Eli250_T",
            "QVMQ_T",
            "Eli501_T",
            "Lyg309_T",
            "Fra118_T",
            "Eli263_T",
            "Col254_T",
            "Swa607_T",
            "Lon364_T",
            "Bou688_T",
            "RMIT_T",
            "RMIT14_T",
            "Lat224_T",
            "Bou231_T",
            "QVN_T",
            "FLDegS_T",
            "FLDegN_T",
            "FLDegC_T",
            "Errol20_T",
            "WestWP_T",
            "ACMI_T",
            "SprFli_T",
            "KenMac_T",
            "HarEsP_T",
            "HarEsB_T",
            "FliSS_T",
            "ElFi_T",
            "488Mac_T",
            "574Qub_T",
            "Errol23_T",
            "280Will_T",
            "261Will_T",
            "LatWill_T",
            "Fli114F_T",
            "Fli114C_T",
            "BirBridge_T",
            "BirBridge_T",
            "Bou892T",
            "King2_T",
            "King335_T",
            "Spen229_T",
            "Spen201_T",
            "Spen161_T",
            "BirFed1120_T",
            "BouHbr2353_T",
            "EntPark1671_T",
            "Signal1647_T",
            "Boyd2837_T",
            "474Fl_T",
            "Hammer1584_T",
            "Spencer_T",
            "BirArt1109_T",
            "Eli489_T",
            "Lat526_T",
            "Spen475_T",
            "Spen484_T",
            "Lat526_T",
            "Pow61_T",
            "Mac330_T",
            "Eli368_T",
            "King163_T",
            "Eli124_T",
            "Eli197_T"
           ],
           "lat": {
            "bdata": "4za3lSDoQsDk7jnRKuhCwMYt7ljP50LAW2Lh+03oQsCjMs2NzOhCwEqs1tPY6ELA7Ei78lXpQsBVV9Mv8OhCwH+1ckjN6ELAnEQxN2foQsAwSkwnROhCwMJ4m3H56ELAoIXK4CToQsAs8JkVH+hCwPAKbc7750LATsGOvebnQsAP2FGsBehCwGjMZgbY6ELA9Bo3DNHoQsD3QvlpeelCwDD22kMt50LAW311VSDpQsDEaAwp9ehCwIG0/wHW50LA9yBGAJ7mQsD8rfjh++hCwPiAaeaD6ELAWtVxgInmQsD2jiKEKuhCwHf2Mt2t50LA6bGQLYnoQsBr2fc0aeZCwFGsS3Qz5kLACqP2rgPmQsCjy5vDNehCwAiQX0e15kLAw3BDxgLoQsBQGUFbNedCwLxR8aBV50LA5vZgjCfmQsAV3/U+eudCwOg48bQA6ELANllA9GboQsB8mShC6uZCwFad1QL750LAaVGf5I7oQsCmMMbydOdCwOAHMeFh50LAchpg7qznQsC841Y5G+hCwGJF9AjB50LAOeFvxY/oQsA0J9R4juhCwNTaLEWP6ELA8BL/JPzmQsB5c7hW++dCwMKoIBac6ELA2bj27FboQsCeIxNss+VCwP6++7o+6ELABbWtoEjoQsA64+JFsuhCwHSorpWz6ELAJVbraazlQsD96Gn6y+ZCwCDISXr75kLAs1Uwx/7nQsAK9dMDD+hCwC2vnovt50LA8KusTHzoQsATVSpufehCwHCa2xCl6ELAmaAjRaboQsAPh1v0BOlCwDn0ULr46ELAA6SqxwXoQsDRmno4XOhCwANW9Y+R6ELA2Xy31JzoQsDqChHLwehCwFKvAEvT6ELAO1OmoPToQsChVqig6OhCwAetC2i36ULAHnvN3fToQsAK684s7OhCwI8aE2Iu6ULAg8evBsXoQsDB52YDWedCwAM+P4wQ6ELAIAjzy57nQsD08NA9jOdCwKrrWL4R6ELAfBIzVnbpQsB5qqaYweVCwBE1di6x50LAFIHirnvoQsCTsAz9VehCwBsL0Nco6ELA",
            "dtype": "f8"
           },
           "legendgroup": "",
           "lon": {
            "bdata": "Us8GieIeYkC5KEim4h5iQHCO34DbHmJAEUL2MOoeYkB7eEPY+B5iQNM6YA3mHmJAvcInQk8eYkAiXSLNbh5iQKGzFrBOHmJA+uNJFBIeYkDaFuluLB5iQCObcTvQHmJAxZeivyQfYkBvEyhBIx9iQJjwU27lHmJA0i5L4PseYkCqfoTl+B5iQHe3Nn2LHmJAnszDMoseYkBQxyHqlx5iQFE4kjabHmJAgcRdWgAfYkBYzjnT/x5iQNzhIyDuHmJA1QNJTO4eYkCkDhv64R5iQPkuxjzCHmJAXQF9CfIeYkBfyDTkCR9iQOEKSeIcH2JAEl6r0vAeYkADJpH51x5iQIJMnQ3aHmJAIRHHeNweYkBmHYY96h5iQOZMySjFHmJAsktUb80eYkD5fFpmrR5iQASZU7i0HmJAuJaoYvMeYkDzXzmlsB5iQMDGmjbIHmJAQ6ooXuUeYkA9C4SV0R5iQBSvFeHEHmJAC+vGu4MeYkBJ0EZL0R5iQMGrgqTRHmJAkcmxDsoeYkB7taup7x5iQA/FcLfcHmJAR9fYZ+YeYkBf1Ist5h5iQB8DBSDmHmJAVyy4/mEeYkBLx711FR9iQIgoDdL/HmJACYQAjTAfYkDIN2eGxR1iQFfqF/Q3HmJAfYRQlDoeYkCdUpjW6h5iQEdsoI7hHmJAxGIOYcAdYkAjwlzeXh5iQFOTv/9fHmJAlwKx8J4eYkBIGKMBnh5iQF166keZHmJAltFErxEfYkBoPZ2nER9iQK6SdkAlH2JAl1CoRCUfYkDPLp3eHh5iQCE6BI6kHmJAwdO3DoYeYkBV6A8PeR5iQKMBYUx/HmJAtTd0ioAeYkApKnaPJx9iQKzskqNGHmJAz3D7zLYeYkApGUo30x5iQKwXCY7HHmJAObPAy6oeYkAk56uB+R5iQBXp2QeUHmJAxmvB/xQfYkBBdVpUtx5iQA5mdopzHmJAV544Z2EeYkBZrBvOYB5iQEpuAy1zHmJAtyma3tAeYkCFTCoB7h1iQKDc+AvEHmJAb+BIf5MeYkBd4xLL1h5iQP215fHOHmJA",
            "dtype": "f8"
           },
           "marker": {
            "color": {
             "bdata": "QnsJ7SW0/z/hehSuR+H6P3IjN3IjNwJA5DiO4ziOCkAAAAAAAABAQHhMDewdUyNAjuM4juM4CECTXyz5xZIXQHaDKfJZN/g/VVVVVVVVAUB7Ce0ltJcAQLgehetRuBRAYCz5xZJfEEDZiZ3YiZ0GQDaU11BeQ/k/dNFFF110+T/btm3btm0LQAAAAAAAYBNAqoG9Y2pgIUDZiZ3YiR1CQOmiiy666AJAgqh0ZM9AGECXlpaWlpYIQJ7YiZ3Yif0/RERERERE9D8lSZIkSRInQPByCl5Owfs/AAAAAAAA/D81wnJPIyz3P6O+s1Hf2QBAuacRlnsaBUCamZmZmZn5PzmO4ziO4wBAF1100UUX/T/suq7ruq4DQAAAAAAAAAFAkiRJkiRJCkC96U1vetP7P9FFF1100QNAbtu2bdu29T+Y0F5CewkBQDI4H4PzMQBAiMb60Fgf+j9JkiRJkiT5P7dt27Zt2/Y/uHzLt3zLE0CH8hrKayghQKkJxlvZ5wBAUPqkT/qk/z8k7og74o4AQIeTui+PrQBAWK9evXr1CkCJiIiIiIgAQO+999577/0/7SW0l9Be8j8AAAAAAADwP1paWlpaWgJAFDuxEzux9z/0PM/zPM/zP5TXUF5DeR1AAAAAAAAA+D8EiVbYHEgEQFVVVVVV1T9AVVVVVVVV+T9eQ3kN5TX0Py+66KKLLvI/SZIkSZIkE0Dbgbl2YK4VQJqZmZmZmSNAiIeHh4eHH0AAAAAAAAAAQLW0tLS0tAxAAAAAAAAA8D8cx3Ecx3EUQDw8PDw8PBBAd3d3d3d3E0DHcRzHcVxHQKuqqqqqqjVAIiIiIiIiKkAAAAAAACAiQJIkSZIkSQpAZmZmZmZm9j9EREREREQMQAAAAAAAQBBAAAAAAADAFECSJEmSJEk+QAAAAAAAAChAPDw8PDw8MEBu27Zt27YiQA8PDw8PDxNAq6qqqqqq+j9GF1100UX3PzuxEzuxEwNA7MRO7MROBEAor6G8hvL6P1ikDDzdmhNAXkN5DeU1HEDe3d3d3d0nQAAAAAAAYCtA",
             "dtype": "f8"
            },
            "coloraxis": "coloraxis",
            "size": {
             "bdata": "QnsJ7SW0/z/hehSuR+H6P3IjN3IjNwJA5DiO4ziOCkAAAAAAAABAQHhMDewdUyNAjuM4juM4CECTXyz5xZIXQHaDKfJZN/g/VVVVVVVVAUB7Ce0ltJcAQLgehetRuBRAYCz5xZJfEEDZiZ3YiZ0GQDaU11BeQ/k/dNFFF110+T/btm3btm0LQAAAAAAAYBNAqoG9Y2pgIUDZiZ3YiR1CQOmiiy666AJAgqh0ZM9AGECXlpaWlpYIQJ7YiZ3Yif0/RERERERE9D8lSZIkSRInQPByCl5Owfs/AAAAAAAA/D81wnJPIyz3P6O+s1Hf2QBAuacRlnsaBUCamZmZmZn5PzmO4ziO4wBAF1100UUX/T/suq7ruq4DQAAAAAAAAAFAkiRJkiRJCkC96U1vetP7P9FFF1100QNAbtu2bdu29T+Y0F5CewkBQDI4H4PzMQBAiMb60Fgf+j9JkiRJkiT5P7dt27Zt2/Y/uHzLt3zLE0CH8hrKayghQKkJxlvZ5wBAUPqkT/qk/z8k7og74o4AQIeTui+PrQBAWK9evXr1CkCJiIiIiIgAQO+999577/0/7SW0l9Be8j8AAAAAAADwP1paWlpaWgJAFDuxEzux9z/0PM/zPM/zP5TXUF5DeR1AAAAAAAAA+D8EiVbYHEgEQFVVVVVV1T9AVVVVVVVV+T9eQ3kN5TX0Py+66KKLLvI/SZIkSZIkE0Dbgbl2YK4VQJqZmZmZmSNAiIeHh4eHH0AAAAAAAAAAQLW0tLS0tAxAAAAAAAAA8D8cx3Ecx3EUQDw8PDw8PBBAd3d3d3d3E0DHcRzHcVxHQKuqqqqqqjVAIiIiIiIiKkAAAAAAACAiQJIkSZIkSQpAZmZmZmZm9j9EREREREQMQAAAAAAAQBBAAAAAAADAFECSJEmSJEk+QAAAAAAAAChAPDw8PDw8MEBu27Zt27YiQA8PDw8PDxNAq6qqqqqq+j9GF1100UX3PzuxEzuxEwNA7MRO7MROBEAor6G8hvL6P1ikDDzdmhNAXkN5DeU1HEDe3d3d3d0nQAAAAAAAYCtA",
             "dtype": "f8"
            },
            "sizemode": "area",
            "sizeref": 0.32238095238095243
           },
           "mode": "markers",
           "name": "",
           "showlegend": false,
           "subplot": "mapbox",
           "type": "scattermapbox"
          }
         ],
         "name": "6"
        },
        {
         "data": [
          {
           "hovertemplate": "<b>%{hovertext}</b><br><br>hour=7<br>pedestrian_count=%{marker.color}<br>latitude=%{lat}<br>longitude=%{lon}<extra></extra>",
           "hovertext": [
            "Bou292_T",
            "Bou283_T",
            "Swa295_T",
            "Swa123_T",
            "PriNW_T",
            "FliS_T",
            "WebBN_T",
            "Col700_T",
            "BouHbr_T",
            "WatCit_T",
            "NewQ_T",
            "SanBri_T",
            "Col15_T",
            "Col12_T",
            "LtB210_T",
            "LtB170_T",
            "Bourke155_T",
            "Col623_T",
            "Col620_T",
            "MCEC_T",
            "Vic_T",
            "VAC_T",
            "AG_T",
            "Lon189_T",
            "Lyg161_T",
            "SouthB_T",
            "Que85_T",
            "Lyg260_T",
            "AlfPl_T",
            "Spr201_T",
            "Swa31",
            "UM1_T",
            "UM2_T",
            "UM3_T",
            "Swa148_T",
            "Pel147_T",
            "Eli250_T",
            "QVMQ_T",
            "Eli501_T",
            "Lyg309_T",
            "Fra118_T",
            "Eli263_T",
            "Col254_T",
            "Swa607_T",
            "Lon364_T",
            "Bou688_T",
            "RMIT_T",
            "RMIT14_T",
            "Lat224_T",
            "Bou231_T",
            "QVN_T",
            "FLDegS_T",
            "FLDegN_T",
            "FLDegC_T",
            "Errol20_T",
            "WestWP_T",
            "ACMI_T",
            "SprFli_T",
            "KenMac_T",
            "HarEsP_T",
            "HarEsB_T",
            "FliSS_T",
            "ElFi_T",
            "488Mac_T",
            "574Qub_T",
            "Errol23_T",
            "280Will_T",
            "261Will_T",
            "LatWill_T",
            "Fli114F_T",
            "Fli114C_T",
            "BirBridge_T",
            "BirBridge_T",
            "Bou892T",
            "King2_T",
            "King335_T",
            "Spen229_T",
            "Spen201_T",
            "Spen161_T",
            "BirFed1120_T",
            "BouHbr2353_T",
            "EntPark1671_T",
            "Signal1647_T",
            "Boyd2837_T",
            "474Fl_T",
            "Hammer1584_T",
            "Spencer_T",
            "BirArt1109_T",
            "Eli489_T",
            "Lat526_T",
            "Spen475_T",
            "Spen484_T",
            "Lat526_T",
            "Pow61_T",
            "Mac330_T",
            "Eli368_T",
            "King163_T",
            "Eli124_T",
            "Eli197_T"
           ],
           "lat": {
            "bdata": "4za3lSDoQsDk7jnRKuhCwMYt7ljP50LAW2Lh+03oQsCjMs2NzOhCwEqs1tPY6ELA7Ei78lXpQsBVV9Mv8OhCwH+1ckjN6ELAnEQxN2foQsAwSkwnROhCwMJ4m3H56ELAoIXK4CToQsAs8JkVH+hCwPAKbc7750LATsGOvebnQsAP2FGsBehCwGjMZgbY6ELA9Bo3DNHoQsD3QvlpeelCwDD22kMt50LAW311VSDpQsDEaAwp9ehCwIG0/wHW50LA9yBGAJ7mQsD8rfjh++hCwPiAaeaD6ELAWtVxgInmQsD2jiKEKuhCwHf2Mt2t50LA6bGQLYnoQsBr2fc0aeZCwFGsS3Qz5kLACqP2rgPmQsCjy5vDNehCwAiQX0e15kLAw3BDxgLoQsBQGUFbNedCwLxR8aBV50LA5vZgjCfmQsAV3/U+eudCwOg48bQA6ELANllA9GboQsB8mShC6uZCwFad1QL750LAaVGf5I7oQsCmMMbydOdCwOAHMeFh50LAchpg7qznQsC841Y5G+hCwGJF9AjB50LAOeFvxY/oQsA0J9R4juhCwNTaLEWP6ELA8BL/JPzmQsB5c7hW++dCwMKoIBac6ELA2bj27FboQsCeIxNss+VCwP6++7o+6ELABbWtoEjoQsA64+JFsuhCwHSorpWz6ELAJVbraazlQsD96Gn6y+ZCwCDISXr75kLAs1Uwx/7nQsAK9dMDD+hCwC2vnovt50LA8KusTHzoQsATVSpufehCwHCa2xCl6ELAmaAjRaboQsAPh1v0BOlCwDn0ULr46ELAA6SqxwXoQsDRmno4XOhCwANW9Y+R6ELA2Xy31JzoQsDqChHLwehCwFKvAEvT6ELAO1OmoPToQsChVqig6OhCwAetC2i36ULAHnvN3fToQsAK684s7OhCwI8aE2Iu6ULAg8evBsXoQsDB52YDWedCwAM+P4wQ6ELAIAjzy57nQsD08NA9jOdCwKrrWL4R6ELAfBIzVnbpQsB5qqaYweVCwBE1di6x50LAFIHirnvoQsCTsAz9VehCwBsL0Nco6ELA",
            "dtype": "f8"
           },
           "legendgroup": "",
           "lon": {
            "bdata": "Us8GieIeYkC5KEim4h5iQHCO34DbHmJAEUL2MOoeYkB7eEPY+B5iQNM6YA3mHmJAvcInQk8eYkAiXSLNbh5iQKGzFrBOHmJA+uNJFBIeYkDaFuluLB5iQCObcTvQHmJAxZeivyQfYkBvEyhBIx9iQJjwU27lHmJA0i5L4PseYkCqfoTl+B5iQHe3Nn2LHmJAnszDMoseYkBQxyHqlx5iQFE4kjabHmJAgcRdWgAfYkBYzjnT/x5iQNzhIyDuHmJA1QNJTO4eYkCkDhv64R5iQPkuxjzCHmJAXQF9CfIeYkBfyDTkCR9iQOEKSeIcH2JAEl6r0vAeYkADJpH51x5iQIJMnQ3aHmJAIRHHeNweYkBmHYY96h5iQOZMySjFHmJAsktUb80eYkD5fFpmrR5iQASZU7i0HmJAuJaoYvMeYkDzXzmlsB5iQMDGmjbIHmJAQ6ooXuUeYkA9C4SV0R5iQBSvFeHEHmJAC+vGu4MeYkBJ0EZL0R5iQMGrgqTRHmJAkcmxDsoeYkB7taup7x5iQA/FcLfcHmJAR9fYZ+YeYkBf1Ist5h5iQB8DBSDmHmJAVyy4/mEeYkBLx711FR9iQIgoDdL/HmJACYQAjTAfYkDIN2eGxR1iQFfqF/Q3HmJAfYRQlDoeYkCdUpjW6h5iQEdsoI7hHmJAxGIOYcAdYkAjwlzeXh5iQFOTv/9fHmJAlwKx8J4eYkBIGKMBnh5iQF166keZHmJAltFErxEfYkBoPZ2nER9iQK6SdkAlH2JAl1CoRCUfYkDPLp3eHh5iQCE6BI6kHmJAwdO3DoYeYkBV6A8PeR5iQKMBYUx/HmJAtTd0ioAeYkApKnaPJx9iQKzskqNGHmJAz3D7zLYeYkApGUo30x5iQKwXCY7HHmJAObPAy6oeYkAk56uB+R5iQBXp2QeUHmJAxmvB/xQfYkBBdVpUtx5iQA5mdopzHmJAV544Z2EeYkBZrBvOYB5iQEpuAy1zHmJAtyma3tAeYkCFTCoB7h1iQKDc+AvEHmJAb+BIf5MeYkBd4xLL1h5iQP215fHOHmJA",
            "dtype": "f8"
           },
           "marker": {
            "color": {
             "bdata": "l2/5lm/5DkDvvffee+8JQClcj8L1KBBAgzRIgzRIG0Bu27Zt27ZNQOMmzO9qcTlAk18s+cWSE0Au3/It3/I2QB4eHh4eHgZAEayjzfsUB0BZ8oslv1gKQLgehetRuCNAAAAAAACAI0CrqqqqqqoeQOHlFLycgvc/3/It3/It/z8AAAAAAAAcQAzDMAzDMDNAaZAGaZAGOEAAAAAAAKhUQKuqqqqqqhlAhmEYhmEYIUCcML+rxU0UQAAAAAAAAABAmpmZmZmZ/z8u3/It33I3QAAAAAAAAAhASZIkSZIkCUBhvJV9DqkBQKqBvWNqYA9A9EIv9EIvDECDmFxBTK4AQAAAAAAAABdAZmZmZmZmDkCmnozfLvUUQAAAAAAAQBJAYCz5xZJfHEBEREREREQEQDMzMzMzMwdAln0OqQnG+z/poosuuuj+P9lkk0022QhAKvJZN5giE0D6pE/6pE/6P+pNb3rTmwpA1K5E7UrULEB3d3d3d3c7QNSuRO1K1BBAk0022WSTAUDQaQOdNtAJQEdT59cechVAVVVVVVXVGEBNmjRp0qQJQNVKrdRKrQxAfX19fX19/T8AAAAAAAD8PyNGjBgxYhRA9zTCck8jAECxEzuxEzv9P27btm3btjBAdNFFF110AUAAAAAAAMAXQGIndmIndlRAb+FXYyI9AEAHaZAGaZD2P3h4eHh4ePg/2FBeQ3kNKUAT3mjq/NotQAAAAAAAgDlAERERERERMEAAAAAAAAAGQIfyGsprKCFAAAAAAAAA8D8XXXTRRRcNQKuqqqqqqiBAAAAAAADgIkAAAAAAABxVQNPS0tLS0khAx3Ecx3HcQ0AAAAAAAKAvQEmSJEmSJC5AmpmZmZmZ+T/kOI7jOI4uQG7btm3btipAvLu7u7u7I0BJkiRJkiRIQE/sxE7sxD9AAAAAAAAAQEAAAAAAACAyQEtLS0tLSyFAtbS0tLS0EEDFTuzETuwMQMVO7MRO7BBA4uHh4eHhEUDfe++9994DQDMzMzMzEyJAAAAAAAAAKEBVVVVVVdU5QCIiIiIiIkFA",
             "dtype": "f8"
            },
            "coloraxis": "coloraxis",
            "size": {
             "bdata": "l2/5lm/5DkDvvffee+8JQClcj8L1KBBAgzRIgzRIG0Bu27Zt27ZNQOMmzO9qcTlAk18s+cWSE0Au3/It3/I2QB4eHh4eHgZAEayjzfsUB0BZ8oslv1gKQLgehetRuCNAAAAAAACAI0CrqqqqqqoeQOHlFLycgvc/3/It3/It/z8AAAAAAAAcQAzDMAzDMDNAaZAGaZAGOEAAAAAAAKhUQKuqqqqqqhlAhmEYhmEYIUCcML+rxU0UQAAAAAAAAABAmpmZmZmZ/z8u3/It33I3QAAAAAAAAAhASZIkSZIkCUBhvJV9DqkBQKqBvWNqYA9A9EIv9EIvDECDmFxBTK4AQAAAAAAAABdAZmZmZmZmDkCmnozfLvUUQAAAAAAAQBJAYCz5xZJfHEBEREREREQEQDMzMzMzMwdAln0OqQnG+z/poosuuuj+P9lkk0022QhAKvJZN5giE0D6pE/6pE/6P+pNb3rTmwpA1K5E7UrULEB3d3d3d3c7QNSuRO1K1BBAk0022WSTAUDQaQOdNtAJQEdT59cechVAVVVVVVXVGEBNmjRp0qQJQNVKrdRKrQxAfX19fX19/T8AAAAAAAD8PyNGjBgxYhRA9zTCck8jAECxEzuxEzv9P27btm3btjBAdNFFF110AUAAAAAAAMAXQGIndmIndlRAb+FXYyI9AEAHaZAGaZD2P3h4eHh4ePg/2FBeQ3kNKUAT3mjq/NotQAAAAAAAgDlAERERERERMEAAAAAAAAAGQIfyGsprKCFAAAAAAAAA8D8XXXTRRRcNQKuqqqqqqiBAAAAAAADgIkAAAAAAABxVQNPS0tLS0khAx3Ecx3HcQ0AAAAAAAKAvQEmSJEmSJC5AmpmZmZmZ+T/kOI7jOI4uQG7btm3btipAvLu7u7u7I0BJkiRJkiRIQE/sxE7sxD9AAAAAAAAAQEAAAAAAACAyQEtLS0tLSyFAtbS0tLS0EEDFTuzETuwMQMVO7MRO7BBA4uHh4eHhEUDfe++9994DQDMzMzMzEyJAAAAAAAAAKEBVVVVVVdU5QCIiIiIiIkFA",
             "dtype": "f8"
            },
            "sizemode": "area",
            "sizeref": 0.32238095238095243
           },
           "mode": "markers",
           "name": "",
           "showlegend": false,
           "subplot": "mapbox",
           "type": "scattermapbox"
          }
         ],
         "name": "7"
        },
        {
         "data": [
          {
           "hovertemplate": "<b>%{hovertext}</b><br><br>hour=8<br>pedestrian_count=%{marker.color}<br>latitude=%{lat}<br>longitude=%{lon}<extra></extra>",
           "hovertext": [
            "Bou292_T",
            "Bou283_T",
            "Swa295_T",
            "Swa123_T",
            "PriNW_T",
            "FliS_T",
            "WebBN_T",
            "Col700_T",
            "BouHbr_T",
            "WatCit_T",
            "NewQ_T",
            "SanBri_T",
            "Col15_T",
            "Col12_T",
            "LtB210_T",
            "LtB170_T",
            "Bourke155_T",
            "Col623_T",
            "Col620_T",
            "MCEC_T",
            "Vic_T",
            "VAC_T",
            "AG_T",
            "Lon189_T",
            "Lyg161_T",
            "SouthB_T",
            "Que85_T",
            "Lyg260_T",
            "AlfPl_T",
            "Spr201_T",
            "Swa31",
            "UM1_T",
            "UM2_T",
            "UM3_T",
            "Swa148_T",
            "Pel147_T",
            "Eli250_T",
            "QVMQ_T",
            "Eli501_T",
            "Lyg309_T",
            "Fra118_T",
            "Eli263_T",
            "Col254_T",
            "Swa607_T",
            "Lon364_T",
            "Bou688_T",
            "RMIT_T",
            "RMIT14_T",
            "Lat224_T",
            "Bou231_T",
            "QVN_T",
            "FLDegS_T",
            "FLDegN_T",
            "FLDegC_T",
            "Errol20_T",
            "WestWP_T",
            "ACMI_T",
            "SprFli_T",
            "KenMac_T",
            "HarEsP_T",
            "HarEsB_T",
            "FliSS_T",
            "ElFi_T",
            "488Mac_T",
            "574Qub_T",
            "Errol23_T",
            "280Will_T",
            "261Will_T",
            "LatWill_T",
            "Fli114F_T",
            "Fli114C_T",
            "BirBridge_T",
            "BirBridge_T",
            "Bou892T",
            "King2_T",
            "King335_T",
            "Spen229_T",
            "Spen201_T",
            "Spen161_T",
            "BirFed1120_T",
            "BouHbr2353_T",
            "EntPark1671_T",
            "Signal1647_T",
            "Boyd2837_T",
            "474Fl_T",
            "Hammer1584_T",
            "Spencer_T",
            "BirArt1109_T",
            "Eli489_T",
            "Lat526_T",
            "Spen475_T",
            "Spen484_T",
            "Lat526_T",
            "Pow61_T",
            "Mac330_T",
            "Eli368_T",
            "King163_T",
            "Eli124_T",
            "Eli197_T"
           ],
           "lat": {
            "bdata": "4za3lSDoQsDk7jnRKuhCwMYt7ljP50LAW2Lh+03oQsCjMs2NzOhCwEqs1tPY6ELA7Ei78lXpQsBVV9Mv8OhCwH+1ckjN6ELAnEQxN2foQsAwSkwnROhCwMJ4m3H56ELAoIXK4CToQsAs8JkVH+hCwPAKbc7750LATsGOvebnQsAP2FGsBehCwGjMZgbY6ELA9Bo3DNHoQsD3QvlpeelCwDD22kMt50LAW311VSDpQsDEaAwp9ehCwIG0/wHW50LA9yBGAJ7mQsD8rfjh++hCwPiAaeaD6ELAWtVxgInmQsD2jiKEKuhCwHf2Mt2t50LA6bGQLYnoQsBr2fc0aeZCwFGsS3Qz5kLACqP2rgPmQsCjy5vDNehCwAiQX0e15kLAw3BDxgLoQsBQGUFbNedCwLxR8aBV50LA5vZgjCfmQsAV3/U+eudCwOg48bQA6ELANllA9GboQsB8mShC6uZCwFad1QL750LAaVGf5I7oQsCmMMbydOdCwOAHMeFh50LAchpg7qznQsC841Y5G+hCwGJF9AjB50LAOeFvxY/oQsA0J9R4juhCwNTaLEWP6ELA8BL/JPzmQsB5c7hW++dCwMKoIBac6ELA2bj27FboQsCeIxNss+VCwP6++7o+6ELABbWtoEjoQsA64+JFsuhCwHSorpWz6ELAJVbraazlQsD96Gn6y+ZCwCDISXr75kLAs1Uwx/7nQsAK9dMDD+hCwC2vnovt50LA8KusTHzoQsATVSpufehCwHCa2xCl6ELAmaAjRaboQsAPh1v0BOlCwDn0ULr46ELAA6SqxwXoQsDRmno4XOhCwANW9Y+R6ELA2Xy31JzoQsDqChHLwehCwFKvAEvT6ELAO1OmoPToQsChVqig6OhCwAetC2i36ULAHnvN3fToQsAK684s7OhCwI8aE2Iu6ULAg8evBsXoQsDB52YDWedCwAM+P4wQ6ELAIAjzy57nQsD08NA9jOdCwKrrWL4R6ELAfBIzVnbpQsB5qqaYweVCwBE1di6x50LAFIHirnvoQsCTsAz9VehCwBsL0Nco6ELA",
            "dtype": "f8"
           },
           "legendgroup": "",
           "lon": {
            "bdata": "Us8GieIeYkC5KEim4h5iQHCO34DbHmJAEUL2MOoeYkB7eEPY+B5iQNM6YA3mHmJAvcInQk8eYkAiXSLNbh5iQKGzFrBOHmJA+uNJFBIeYkDaFuluLB5iQCObcTvQHmJAxZeivyQfYkBvEyhBIx9iQJjwU27lHmJA0i5L4PseYkCqfoTl+B5iQHe3Nn2LHmJAnszDMoseYkBQxyHqlx5iQFE4kjabHmJAgcRdWgAfYkBYzjnT/x5iQNzhIyDuHmJA1QNJTO4eYkCkDhv64R5iQPkuxjzCHmJAXQF9CfIeYkBfyDTkCR9iQOEKSeIcH2JAEl6r0vAeYkADJpH51x5iQIJMnQ3aHmJAIRHHeNweYkBmHYY96h5iQOZMySjFHmJAsktUb80eYkD5fFpmrR5iQASZU7i0HmJAuJaoYvMeYkDzXzmlsB5iQMDGmjbIHmJAQ6ooXuUeYkA9C4SV0R5iQBSvFeHEHmJAC+vGu4MeYkBJ0EZL0R5iQMGrgqTRHmJAkcmxDsoeYkB7taup7x5iQA/FcLfcHmJAR9fYZ+YeYkBf1Ist5h5iQB8DBSDmHmJAVyy4/mEeYkBLx711FR9iQIgoDdL/HmJACYQAjTAfYkDIN2eGxR1iQFfqF/Q3HmJAfYRQlDoeYkCdUpjW6h5iQEdsoI7hHmJAxGIOYcAdYkAjwlzeXh5iQFOTv/9fHmJAlwKx8J4eYkBIGKMBnh5iQF166keZHmJAltFErxEfYkBoPZ2nER9iQK6SdkAlH2JAl1CoRCUfYkDPLp3eHh5iQCE6BI6kHmJAwdO3DoYeYkBV6A8PeR5iQKMBYUx/HmJAtTd0ioAeYkApKnaPJx9iQKzskqNGHmJAz3D7zLYeYkApGUo30x5iQKwXCY7HHmJAObPAy6oeYkAk56uB+R5iQBXp2QeUHmJAxmvB/xQfYkBBdVpUtx5iQA5mdopzHmJAV544Z2EeYkBZrBvOYB5iQEpuAy1zHmJAtyma3tAeYkCFTCoB7h1iQKDc+AvEHmJAb+BIf5MeYkBd4xLL1h5iQP215fHOHmJA",
            "dtype": "f8"
           },
           "marker": {
            "color": {
             "bdata": "wvyuFjdhIECVNWVNWVMaQFIGnm7NDyFAt+aHRcrAK0C9hvIayutYQOeHRcrA00xAA0+35odFIECRy4qBEt5MQOeHRcrA0xFAzczMzMzMCEC35odFysATQAticgUxuTFAN2F+V4ubPUB9y7d8y7c3QHBY+4a1bwhAMsYYY4wxBkB3d3d3d3ctQAAAAAAA0FFAyiabbLKJRUDv7u7u7i5qQLdt27Zt2y1Ay7d8y7d8LUBMkc+6wRQVQEtH9gxEpQtAq6qqqqqqA0Az8HRrflhIQA083ZofFh1AAAAAAABAFkC0bjBFPusOQMqasqasKSVAy0+Is/ITEkBVVVVVVVUNQMTDw8PDwzFAAAAAAABAIUBRoUKFChUqQJ7YiZ3YiSdA8oslv1jyMEAUrkfhehQOQIMp8lk3mBZAZmZmZmZmAkC2Img4qfsCQFzzwyJl4CFALt/yLd/yKUCnDXTaQKcNQBQ7sRM7sRhAUDm7hV+NP0AAAAAAAABVQOZbvuVbviVA5DiO4ziOEEB4eHh4eHgYQJHLioES3ixArRgo4Y2mLECamZmZmRkfQBQ7sRM7sSJANpTXUF5DB0BZyEIWspD1P/oYnI/B+S1ADw8PDw8PCUDHcRzHcRwDQMTDw8PDwzpAXTsw1w7MDUD0PM/zPM8nQLdt27Ztm2VAj+wZiEpHDkAppZRSSin9P++YGtg7pgZAT+zETuzEPEA3mCKfdcNGQA8PDw8Pj0xAbtu2bdv2RkAtLS0tLS0VQGIndmIndiJAAAAAAAAA9D/NzMzMzMwUQFpaWlpaWjVAAAAAAABANECxEzuxEztSQO/u7u7u7kdAAAAAAAAAUUAtLS0tLa1AQOQ4juM4jjpAip3YiZ3YAUAAAAAAANBHQCVJkiRJkjZAAAAAAACAOUCH8hrKayhHQMTDw8PDw1BA3t3d3d3dQUAAAAAAAPA8QAAAAAAAMDFAchzHcRzHHUDx8PDw8PAcQJqZmZmZmRhAbtu2bdu2IUCrqqqqqqoKQLUrUbsStS9AS0tLS0tLOUA8PDw8PLxQQLy7u7u7e1RA",
             "dtype": "f8"
            },
            "coloraxis": "coloraxis",
            "size": {
             "bdata": "wvyuFjdhIECVNWVNWVMaQFIGnm7NDyFAt+aHRcrAK0C9hvIayutYQOeHRcrA00xAA0+35odFIECRy4qBEt5MQOeHRcrA0xFAzczMzMzMCEC35odFysATQAticgUxuTFAN2F+V4ubPUB9y7d8y7c3QHBY+4a1bwhAMsYYY4wxBkB3d3d3d3ctQAAAAAAA0FFAyiabbLKJRUDv7u7u7i5qQLdt27Zt2y1Ay7d8y7d8LUBMkc+6wRQVQEtH9gxEpQtAq6qqqqqqA0Az8HRrflhIQA083ZofFh1AAAAAAABAFkC0bjBFPusOQMqasqasKSVAy0+Is/ITEkBVVVVVVVUNQMTDw8PDwzFAAAAAAABAIUBRoUKFChUqQJ7YiZ3YiSdA8oslv1jyMEAUrkfhehQOQIMp8lk3mBZAZmZmZmZmAkC2Img4qfsCQFzzwyJl4CFALt/yLd/yKUCnDXTaQKcNQBQ7sRM7sRhAUDm7hV+NP0AAAAAAAABVQOZbvuVbviVA5DiO4ziOEEB4eHh4eHgYQJHLioES3ixArRgo4Y2mLECamZmZmRkfQBQ7sRM7sSJANpTXUF5DB0BZyEIWspD1P/oYnI/B+S1ADw8PDw8PCUDHcRzHcRwDQMTDw8PDwzpAXTsw1w7MDUD0PM/zPM8nQLdt27Ztm2VAj+wZiEpHDkAppZRSSin9P++YGtg7pgZAT+zETuzEPEA3mCKfdcNGQA8PDw8Pj0xAbtu2bdv2RkAtLS0tLS0VQGIndmIndiJAAAAAAAAA9D/NzMzMzMwUQFpaWlpaWjVAAAAAAABANECxEzuxEztSQO/u7u7u7kdAAAAAAAAAUUAtLS0tLa1AQOQ4juM4jjpAip3YiZ3YAUAAAAAAANBHQCVJkiRJkjZAAAAAAACAOUCH8hrKayhHQMTDw8PDw1BA3t3d3d3dQUAAAAAAAPA8QAAAAAAAMDFAchzHcRzHHUDx8PDw8PAcQJqZmZmZmRhAbtu2bdu2IUCrqqqqqqoKQLUrUbsStS9AS0tLS0tLOUA8PDw8PLxQQLy7u7u7e1RA",
             "dtype": "f8"
            },
            "sizemode": "area",
            "sizeref": 0.32238095238095243
           },
           "mode": "markers",
           "name": "",
           "showlegend": false,
           "subplot": "mapbox",
           "type": "scattermapbox"
          }
         ],
         "name": "8"
        },
        {
         "data": [
          {
           "hovertemplate": "<b>%{hovertext}</b><br><br>hour=9<br>pedestrian_count=%{marker.color}<br>latitude=%{lat}<br>longitude=%{lon}<extra></extra>",
           "hovertext": [
            "Bou292_T",
            "Bou283_T",
            "Swa295_T",
            "Swa123_T",
            "PriNW_T",
            "FliS_T",
            "WebBN_T",
            "Col700_T",
            "BouHbr_T",
            "WatCit_T",
            "NewQ_T",
            "SanBri_T",
            "Col15_T",
            "Col12_T",
            "LtB210_T",
            "LtB170_T",
            "Bourke155_T",
            "Col623_T",
            "Col620_T",
            "MCEC_T",
            "Vic_T",
            "VAC_T",
            "AG_T",
            "Lon189_T",
            "Lyg161_T",
            "SouthB_T",
            "Que85_T",
            "Lyg260_T",
            "AlfPl_T",
            "Spr201_T",
            "Swa31",
            "UM1_T",
            "UM2_T",
            "UM3_T",
            "Swa148_T",
            "Pel147_T",
            "Eli250_T",
            "QVMQ_T",
            "Eli501_T",
            "Lyg309_T",
            "Fra118_T",
            "Eli263_T",
            "Col254_T",
            "Swa607_T",
            "Lon364_T",
            "Bou688_T",
            "RMIT_T",
            "RMIT14_T",
            "Lat224_T",
            "Bou231_T",
            "QVN_T",
            "FLDegS_T",
            "FLDegN_T",
            "FLDegC_T",
            "Errol20_T",
            "WestWP_T",
            "ACMI_T",
            "SprFli_T",
            "KenMac_T",
            "HarEsP_T",
            "HarEsB_T",
            "FliSS_T",
            "ElFi_T",
            "488Mac_T",
            "574Qub_T",
            "Errol23_T",
            "280Will_T",
            "261Will_T",
            "LatWill_T",
            "Fli114F_T",
            "Fli114C_T",
            "BirBridge_T",
            "BirBridge_T",
            "Bou892T",
            "King2_T",
            "King335_T",
            "Spen229_T",
            "Spen201_T",
            "Spen161_T",
            "BirFed1120_T",
            "BouHbr2353_T",
            "EntPark1671_T",
            "Signal1647_T",
            "Boyd2837_T",
            "474Fl_T",
            "Hammer1584_T",
            "Spencer_T",
            "BirArt1109_T",
            "Eli489_T",
            "Lat526_T",
            "Spen475_T",
            "Spen484_T",
            "Lat526_T",
            "Pow61_T",
            "Mac330_T",
            "Eli368_T",
            "King163_T",
            "Eli124_T",
            "Eli197_T"
           ],
           "lat": {
            "bdata": "4za3lSDoQsDk7jnRKuhCwMYt7ljP50LAW2Lh+03oQsCjMs2NzOhCwEqs1tPY6ELA7Ei78lXpQsBVV9Mv8OhCwH+1ckjN6ELAnEQxN2foQsAwSkwnROhCwMJ4m3H56ELAoIXK4CToQsAs8JkVH+hCwPAKbc7750LATsGOvebnQsAP2FGsBehCwGjMZgbY6ELA9Bo3DNHoQsD3QvlpeelCwDD22kMt50LAW311VSDpQsDEaAwp9ehCwIG0/wHW50LA9yBGAJ7mQsD8rfjh++hCwPiAaeaD6ELAWtVxgInmQsD2jiKEKuhCwHf2Mt2t50LA6bGQLYnoQsBr2fc0aeZCwFGsS3Qz5kLACqP2rgPmQsCjy5vDNehCwAiQX0e15kLAw3BDxgLoQsBQGUFbNedCwLxR8aBV50LA5vZgjCfmQsAV3/U+eudCwOg48bQA6ELANllA9GboQsB8mShC6uZCwFad1QL750LAaVGf5I7oQsCmMMbydOdCwOAHMeFh50LAchpg7qznQsC841Y5G+hCwGJF9AjB50LAOeFvxY/oQsA0J9R4juhCwNTaLEWP6ELA8BL/JPzmQsB5c7hW++dCwMKoIBac6ELA2bj27FboQsCeIxNss+VCwP6++7o+6ELABbWtoEjoQsA64+JFsuhCwHSorpWz6ELAJVbraazlQsD96Gn6y+ZCwCDISXr75kLAs1Uwx/7nQsAK9dMDD+hCwC2vnovt50LA8KusTHzoQsATVSpufehCwHCa2xCl6ELAmaAjRaboQsAPh1v0BOlCwDn0ULr46ELAA6SqxwXoQsDRmno4XOhCwANW9Y+R6ELA2Xy31JzoQsDqChHLwehCwFKvAEvT6ELAO1OmoPToQsChVqig6OhCwAetC2i36ULAHnvN3fToQsAK684s7OhCwI8aE2Iu6ULAg8evBsXoQsDB52YDWedCwAM+P4wQ6ELAIAjzy57nQsD08NA9jOdCwKrrWL4R6ELAfBIzVnbpQsB5qqaYweVCwBE1di6x50LAFIHirnvoQsCTsAz9VehCwBsL0Nco6ELA",
            "dtype": "f8"
           },
           "legendgroup": "",
           "lon": {
            "bdata": "Us8GieIeYkC5KEim4h5iQHCO34DbHmJAEUL2MOoeYkB7eEPY+B5iQNM6YA3mHmJAvcInQk8eYkAiXSLNbh5iQKGzFrBOHmJA+uNJFBIeYkDaFuluLB5iQCObcTvQHmJAxZeivyQfYkBvEyhBIx9iQJjwU27lHmJA0i5L4PseYkCqfoTl+B5iQHe3Nn2LHmJAnszDMoseYkBQxyHqlx5iQFE4kjabHmJAgcRdWgAfYkBYzjnT/x5iQNzhIyDuHmJA1QNJTO4eYkCkDhv64R5iQPkuxjzCHmJAXQF9CfIeYkBfyDTkCR9iQOEKSeIcH2JAEl6r0vAeYkADJpH51x5iQIJMnQ3aHmJAIRHHeNweYkBmHYY96h5iQOZMySjFHmJAsktUb80eYkD5fFpmrR5iQASZU7i0HmJAuJaoYvMeYkDzXzmlsB5iQMDGmjbIHmJAQ6ooXuUeYkA9C4SV0R5iQBSvFeHEHmJAC+vGu4MeYkBJ0EZL0R5iQMGrgqTRHmJAkcmxDsoeYkB7taup7x5iQA/FcLfcHmJAR9fYZ+YeYkBf1Ist5h5iQB8DBSDmHmJAVyy4/mEeYkBLx711FR9iQIgoDdL/HmJACYQAjTAfYkDIN2eGxR1iQFfqF/Q3HmJAfYRQlDoeYkCdUpjW6h5iQEdsoI7hHmJAxGIOYcAdYkAjwlzeXh5iQFOTv/9fHmJAlwKx8J4eYkBIGKMBnh5iQF166keZHmJAltFErxEfYkBoPZ2nER9iQK6SdkAlH2JAl1CoRCUfYkDPLp3eHh5iQCE6BI6kHmJAwdO3DoYeYkBV6A8PeR5iQKMBYUx/HmJAtTd0ioAeYkApKnaPJx9iQKzskqNGHmJAz3D7zLYeYkApGUo30x5iQKwXCY7HHmJAObPAy6oeYkAk56uB+R5iQBXp2QeUHmJAxmvB/xQfYkBBdVpUtx5iQA5mdopzHmJAV544Z2EeYkBZrBvOYB5iQEpuAy1zHmJAtyma3tAeYkCFTCoB7h1iQKDc+AvEHmJAb+BIf5MeYkBd4xLL1h5iQP215fHOHmJA",
            "dtype": "f8"
           },
           "marker": {
            "color": {
             "bdata": "zsfgfAzOJkAu3/It3/IgQESlI3sGoiJABAcOHDhwMkBERERERERVQEEJbzR1fjxAjBgxYsSIGUCkDDzdmp9AQMprKK+hvAhAl5aWlpaWBkBkz0BUOrIPQAAAAAAAgB9AcUfcEXdENECe2Imd2IkqQFivXr169QpAtbS0tLS0CkAeHh4eHh4yQE8jLPc0QkZAntiJndiJPUAREREREdFjQAAAAAAAQClAep7neZ5nKUCSJEmSJEkWQLNly5YtWw5ACnFWfkKcBUBRuxK1K1E8QLdt27Zt2xVAxMPDw8PDE0B605ve9KYPQAAAAAAAQCBAz507d+7cGUBhvJV9DqkRQAAAAAAA8DRAREREREREJEB+QpyVnxArQAAAAAAAIDBAmpmZmZlZKkCamZmZmZkTQCVJkiRJkhtANgcSrbA5CEDHcRzHcRwKQMzvanET5htAxMPDw8PDKUB1UAd1UAcNQKuqqqqq6hxA9AV9QV9QNUCIh4eHh0dWQE1ZU9aUNSZAT+zETuzEDkBVVVVVVVUZQMTDw8PDwy1AmpmZmZn5L0AGnm7ND4sUQDWwd0wN7B1A6tb8sEgZCEDZiZ3YiZ34P0RERERERCJAYzqL6SymA0ApiqIoiqIAQAAAAAAAEDJAi6DhpO7LA0CamZmZmbkkQMprKK+hvF5AchzHcRzHAkBJkiRJkiT/P2QhC1nIQgZAl5aWlpaWPkB7FK5H4Xo5QJeWlpaWFkNAl5aWlpaWO0AAAAAAAAAIQAAAAAAAgBNAMzMzMzMz8z/x8PDw8PAgQAAAAAAAkDJAAAAAAAAgM0AAAAAAAIxQQCIiIiIiok1AeHh4eHh4TkDi4eHh4eEwQB4eHh4eHjJAAAAAAAAABECamZmZmZkwQAAAAAAAQCxAVVVVVVVVM0AzMzMzMzNAQHd3d3d390pAAAAAAAAgNUCO4ziO4/hCQDw8PDw8PDFAzczMzMzMFEBDeQ3lNZQfQGZmZmZmZh5AS0tLS0tLIUAaYbmnEZb7P4M0SIM0SCpAt23btm1bN0AAAAAAALBRQDw8PDw8fFJA",
             "dtype": "f8"
            },
            "coloraxis": "coloraxis",
            "size": {
             "bdata": "zsfgfAzOJkAu3/It3/IgQESlI3sGoiJABAcOHDhwMkBERERERERVQEEJbzR1fjxAjBgxYsSIGUCkDDzdmp9AQMprKK+hvAhAl5aWlpaWBkBkz0BUOrIPQAAAAAAAgB9AcUfcEXdENECe2Imd2IkqQFivXr169QpAtbS0tLS0CkAeHh4eHh4yQE8jLPc0QkZAntiJndiJPUAREREREdFjQAAAAAAAQClAep7neZ5nKUCSJEmSJEkWQLNly5YtWw5ACnFWfkKcBUBRuxK1K1E8QLdt27Zt2xVAxMPDw8PDE0B605ve9KYPQAAAAAAAQCBAz507d+7cGUBhvJV9DqkRQAAAAAAA8DRAREREREREJEB+QpyVnxArQAAAAAAAIDBAmpmZmZlZKkCamZmZmZkTQCVJkiRJkhtANgcSrbA5CEDHcRzHcRwKQMzvanET5htAxMPDw8PDKUB1UAd1UAcNQKuqqqqq6hxA9AV9QV9QNUCIh4eHh0dWQE1ZU9aUNSZAT+zETuzEDkBVVVVVVVUZQMTDw8PDwy1AmpmZmZn5L0AGnm7ND4sUQDWwd0wN7B1A6tb8sEgZCEDZiZ3YiZ34P0RERERERCJAYzqL6SymA0ApiqIoiqIAQAAAAAAAEDJAi6DhpO7LA0CamZmZmbkkQMprKK+hvF5AchzHcRzHAkBJkiRJkiT/P2QhC1nIQgZAl5aWlpaWPkB7FK5H4Xo5QJeWlpaWFkNAl5aWlpaWO0AAAAAAAAAIQAAAAAAAgBNAMzMzMzMz8z/x8PDw8PAgQAAAAAAAkDJAAAAAAAAgM0AAAAAAAIxQQCIiIiIiok1AeHh4eHh4TkDi4eHh4eEwQB4eHh4eHjJAAAAAAAAABECamZmZmZkwQAAAAAAAQCxAVVVVVVVVM0AzMzMzMzNAQHd3d3d390pAAAAAAAAgNUCO4ziO4/hCQDw8PDw8PDFAzczMzMzMFEBDeQ3lNZQfQGZmZmZmZh5AS0tLS0tLIUAaYbmnEZb7P4M0SIM0SCpAt23btm1bN0AAAAAAALBRQDw8PDw8fFJA",
             "dtype": "f8"
            },
            "sizemode": "area",
            "sizeref": 0.32238095238095243
           },
           "mode": "markers",
           "name": "",
           "showlegend": false,
           "subplot": "mapbox",
           "type": "scattermapbox"
          }
         ],
         "name": "9"
        },
        {
         "data": [
          {
           "hovertemplate": "<b>%{hovertext}</b><br><br>hour=10<br>pedestrian_count=%{marker.color}<br>latitude=%{lat}<br>longitude=%{lon}<extra></extra>",
           "hovertext": [
            "Bou292_T",
            "Bou283_T",
            "Swa295_T",
            "Swa123_T",
            "PriNW_T",
            "FliS_T",
            "WebBN_T",
            "Col700_T",
            "BouHbr_T",
            "WatCit_T",
            "NewQ_T",
            "SanBri_T",
            "Col15_T",
            "Col12_T",
            "LtB210_T",
            "LtB170_T",
            "Bourke155_T",
            "Col623_T",
            "Col620_T",
            "MCEC_T",
            "Vic_T",
            "VAC_T",
            "AG_T",
            "Lon189_T",
            "Lyg161_T",
            "SouthB_T",
            "Que85_T",
            "Lyg260_T",
            "AlfPl_T",
            "Spr201_T",
            "Swa31",
            "UM1_T",
            "UM2_T",
            "UM3_T",
            "Swa148_T",
            "Pel147_T",
            "Eli250_T",
            "QVMQ_T",
            "Eli501_T",
            "Lyg309_T",
            "Fra118_T",
            "Eli263_T",
            "Col254_T",
            "Swa607_T",
            "Lon364_T",
            "Bou688_T",
            "RMIT_T",
            "RMIT14_T",
            "Lat224_T",
            "Bou231_T",
            "QVN_T",
            "FLDegS_T",
            "FLDegN_T",
            "FLDegC_T",
            "Errol20_T",
            "WestWP_T",
            "ACMI_T",
            "SprFli_T",
            "KenMac_T",
            "HarEsP_T",
            "HarEsB_T",
            "FliSS_T",
            "ElFi_T",
            "488Mac_T",
            "574Qub_T",
            "Errol23_T",
            "280Will_T",
            "261Will_T",
            "LatWill_T",
            "Fli114F_T",
            "Fli114C_T",
            "BirBridge_T",
            "BirBridge_T",
            "Bou892T",
            "King2_T",
            "King335_T",
            "Spen229_T",
            "Spen201_T",
            "Spen161_T",
            "BirFed1120_T",
            "BouHbr2353_T",
            "EntPark1671_T",
            "Signal1647_T",
            "Boyd2837_T",
            "474Fl_T",
            "Hammer1584_T",
            "Spencer_T",
            "BirArt1109_T",
            "Eli489_T",
            "Lat526_T",
            "Spen475_T",
            "Spen484_T",
            "Lat526_T",
            "Pow61_T",
            "Mac330_T",
            "Eli368_T",
            "King163_T",
            "Eli124_T",
            "Eli197_T"
           ],
           "lat": {
            "bdata": "4za3lSDoQsDk7jnRKuhCwMYt7ljP50LAW2Lh+03oQsCjMs2NzOhCwEqs1tPY6ELA7Ei78lXpQsBVV9Mv8OhCwH+1ckjN6ELAnEQxN2foQsAwSkwnROhCwMJ4m3H56ELAoIXK4CToQsAs8JkVH+hCwPAKbc7750LATsGOvebnQsAP2FGsBehCwGjMZgbY6ELA9Bo3DNHoQsD3QvlpeelCwDD22kMt50LAW311VSDpQsDEaAwp9ehCwIG0/wHW50LA9yBGAJ7mQsD8rfjh++hCwPiAaeaD6ELAWtVxgInmQsD2jiKEKuhCwHf2Mt2t50LA6bGQLYnoQsBr2fc0aeZCwFGsS3Qz5kLACqP2rgPmQsCjy5vDNehCwAiQX0e15kLAw3BDxgLoQsBQGUFbNedCwLxR8aBV50LA5vZgjCfmQsAV3/U+eudCwOg48bQA6ELANllA9GboQsB8mShC6uZCwFad1QL750LAaVGf5I7oQsCmMMbydOdCwOAHMeFh50LAchpg7qznQsC841Y5G+hCwGJF9AjB50LAOeFvxY/oQsA0J9R4juhCwNTaLEWP6ELA8BL/JPzmQsB5c7hW++dCwMKoIBac6ELA2bj27FboQsCeIxNss+VCwP6++7o+6ELABbWtoEjoQsA64+JFsuhCwHSorpWz6ELAJVbraazlQsD96Gn6y+ZCwCDISXr75kLAs1Uwx/7nQsAK9dMDD+hCwC2vnovt50LA8KusTHzoQsATVSpufehCwHCa2xCl6ELAmaAjRaboQsAPh1v0BOlCwDn0ULr46ELAA6SqxwXoQsDRmno4XOhCwANW9Y+R6ELA2Xy31JzoQsDqChHLwehCwFKvAEvT6ELAO1OmoPToQsChVqig6OhCwAetC2i36ULAHnvN3fToQsAK684s7OhCwI8aE2Iu6ULAg8evBsXoQsDB52YDWedCwAM+P4wQ6ELAIAjzy57nQsD08NA9jOdCwKrrWL4R6ELAfBIzVnbpQsB5qqaYweVCwBE1di6x50LAFIHirnvoQsCTsAz9VehCwBsL0Nco6ELA",
            "dtype": "f8"
           },
           "legendgroup": "",
           "lon": {
            "bdata": "Us8GieIeYkC5KEim4h5iQHCO34DbHmJAEUL2MOoeYkB7eEPY+B5iQNM6YA3mHmJAvcInQk8eYkAiXSLNbh5iQKGzFrBOHmJA+uNJFBIeYkDaFuluLB5iQCObcTvQHmJAxZeivyQfYkBvEyhBIx9iQJjwU27lHmJA0i5L4PseYkCqfoTl+B5iQHe3Nn2LHmJAnszDMoseYkBQxyHqlx5iQFE4kjabHmJAgcRdWgAfYkBYzjnT/x5iQNzhIyDuHmJA1QNJTO4eYkCkDhv64R5iQPkuxjzCHmJAXQF9CfIeYkBfyDTkCR9iQOEKSeIcH2JAEl6r0vAeYkADJpH51x5iQIJMnQ3aHmJAIRHHeNweYkBmHYY96h5iQOZMySjFHmJAsktUb80eYkD5fFpmrR5iQASZU7i0HmJAuJaoYvMeYkDzXzmlsB5iQMDGmjbIHmJAQ6ooXuUeYkA9C4SV0R5iQBSvFeHEHmJAC+vGu4MeYkBJ0EZL0R5iQMGrgqTRHmJAkcmxDsoeYkB7taup7x5iQA/FcLfcHmJAR9fYZ+YeYkBf1Ist5h5iQB8DBSDmHmJAVyy4/mEeYkBLx711FR9iQIgoDdL/HmJACYQAjTAfYkDIN2eGxR1iQFfqF/Q3HmJAfYRQlDoeYkCdUpjW6h5iQEdsoI7hHmJAxGIOYcAdYkAjwlzeXh5iQFOTv/9fHmJAlwKx8J4eYkBIGKMBnh5iQF166keZHmJAltFErxEfYkBoPZ2nER9iQK6SdkAlH2JAl1CoRCUfYkDPLp3eHh5iQCE6BI6kHmJAwdO3DoYeYkBV6A8PeR5iQKMBYUx/HmJAtTd0ioAeYkApKnaPJx9iQKzskqNGHmJAz3D7zLYeYkApGUo30x5iQKwXCY7HHmJAObPAy6oeYkAk56uB+R5iQBXp2QeUHmJAxmvB/xQfYkBBdVpUtx5iQA5mdopzHmJAV544Z2EeYkBZrBvOYB5iQEpuAy1zHmJAtyma3tAeYkCFTCoB7h1iQKDc+AvEHmJAb+BIf5MeYkBd4xLL1h5iQP215fHOHmJA",
            "dtype": "f8"
           },
           "marker": {
            "color": {
             "bdata": "3t3d3d3dMEA3YX5Xi5soQNwRd8QdcStAMVDCG02dNkAAAAAAAMBUQLSX0F5Cey9AW4d+s3XoE0Df8i3f8i0qQBFCCCGEEAJAhfYS2ktoB0CogzqogzoQQIM0SIM0SBdAAAAAAABAKkAQi5SBp1sbQGZmZmZmJhRAAAAAAACAD0C8u7u7u7s3QKWUUkoppTlAMzMzMzPTM0A7sRM7sVNkQAAAAAAAAC9A7og74o64JkC9hvIaymsfQJAGaZAGaRJAkiRJkiRJCkAzMzMzM3MyQExoL6G9hBJAAAAAAACAHEA1SIM0SIMMQLrooosuOhtAPc/zPM/zIUCWqF2J2pUUQK+hvIbyGjRAkiRJkiRJI0BRuxK1K1EsQAAAAAAAgCxAr0TtStQuMEAxDMMwDMMXQJBJ8QKZFCNAnN70pje9CUDJjdzIjdwIQEvUrkTtSh5AFK5H4XoULkDsxE7sxE4QQClcj8L1KBhAhmEYhmEYL0CIh4eHhwdTQAAAAAAAACRAUrgehetREEDZMxCVjuwhQAAAAAAAcDBAOY7jOI7jLECamZmZmVkaQDMzMzMzkyNAbdmyZcuWDUC+5Vu+5Vv+P83MzMzMzBtAdmIndmInBEDWh8b60Fj/PwAAAAAAACxAxMPDw8PDA0DlNZTXUN4lQEtLS0tLi1pArdRKrdRKBUDyVvY5pCYAQO3AXDsw1wZAPDw8PDw8MUAAAAAAAEAoQB4eHh4eHjZAJ3ZiJ3ZiNUCKndiJndgBQAAAAAAAAA1AAAAAAAAA+D8iIiIiIiIoQAAAAAAAEDFADw8PDw8PMUBVVVVVVVVPQG7btm3btkhAt23btm1bT0CvobyG8howQAAAAAAAQCBAAAAAAAAABEBLS0tLS0sbQEmSJEmSJClAAAAAAAAANUAAAAAAAChDQHIcx3Ecx0FAWlpaWlpaO0Dx8PDw8PBHQJqZmZmZmSNAvLu7u7u7E0AlSZIkSZIYQO/u7u7u7hZAkiRJkiRJGEA7sRM7sRP7P6uqqqqqqi1Ad3d3d3d3N0AAAAAAAABXQA8PDw8PD1NA",
             "dtype": "f8"
            },
            "coloraxis": "coloraxis",
            "size": {
             "bdata": "3t3d3d3dMEA3YX5Xi5soQNwRd8QdcStAMVDCG02dNkAAAAAAAMBUQLSX0F5Cey9AW4d+s3XoE0Df8i3f8i0qQBFCCCGEEAJAhfYS2ktoB0CogzqogzoQQIM0SIM0SBdAAAAAAABAKkAQi5SBp1sbQGZmZmZmJhRAAAAAAACAD0C8u7u7u7s3QKWUUkoppTlAMzMzMzPTM0A7sRM7sVNkQAAAAAAAAC9A7og74o64JkC9hvIaymsfQJAGaZAGaRJAkiRJkiRJCkAzMzMzM3MyQExoL6G9hBJAAAAAAACAHEA1SIM0SIMMQLrooosuOhtAPc/zPM/zIUCWqF2J2pUUQK+hvIbyGjRAkiRJkiRJI0BRuxK1K1EsQAAAAAAAgCxAr0TtStQuMEAxDMMwDMMXQJBJ8QKZFCNAnN70pje9CUDJjdzIjdwIQEvUrkTtSh5AFK5H4XoULkDsxE7sxE4QQClcj8L1KBhAhmEYhmEYL0CIh4eHhwdTQAAAAAAAACRAUrgehetREEDZMxCVjuwhQAAAAAAAcDBAOY7jOI7jLECamZmZmVkaQDMzMzMzkyNAbdmyZcuWDUC+5Vu+5Vv+P83MzMzMzBtAdmIndmInBEDWh8b60Fj/PwAAAAAAACxAxMPDw8PDA0DlNZTXUN4lQEtLS0tLi1pArdRKrdRKBUDyVvY5pCYAQO3AXDsw1wZAPDw8PDw8MUAAAAAAAEAoQB4eHh4eHjZAJ3ZiJ3ZiNUCKndiJndgBQAAAAAAAAA1AAAAAAAAA+D8iIiIiIiIoQAAAAAAAEDFADw8PDw8PMUBVVVVVVVVPQG7btm3btkhAt23btm1bT0CvobyG8howQAAAAAAAQCBAAAAAAAAABEBLS0tLS0sbQEmSJEmSJClAAAAAAAAANUAAAAAAAChDQHIcx3Ecx0FAWlpaWlpaO0Dx8PDw8PBHQJqZmZmZmSNAvLu7u7u7E0AlSZIkSZIYQO/u7u7u7hZAkiRJkiRJGEA7sRM7sRP7P6uqqqqqqi1Ad3d3d3d3N0AAAAAAAABXQA8PDw8PD1NA",
             "dtype": "f8"
            },
            "sizemode": "area",
            "sizeref": 0.32238095238095243
           },
           "mode": "markers",
           "name": "",
           "showlegend": false,
           "subplot": "mapbox",
           "type": "scattermapbox"
          }
         ],
         "name": "10"
        },
        {
         "data": [
          {
           "hovertemplate": "<b>%{hovertext}</b><br><br>hour=11<br>pedestrian_count=%{marker.color}<br>latitude=%{lat}<br>longitude=%{lon}<extra></extra>",
           "hovertext": [
            "Bou292_T",
            "Bou283_T",
            "Swa295_T",
            "Swa123_T",
            "PriNW_T",
            "FliS_T",
            "WebBN_T",
            "Col700_T",
            "BouHbr_T",
            "WatCit_T",
            "NewQ_T",
            "SanBri_T",
            "Col15_T",
            "Col12_T",
            "LtB210_T",
            "LtB170_T",
            "Bourke155_T",
            "Col623_T",
            "Col620_T",
            "MCEC_T",
            "Vic_T",
            "VAC_T",
            "AG_T",
            "Lon189_T",
            "Lyg161_T",
            "SouthB_T",
            "Que85_T",
            "Lyg260_T",
            "AlfPl_T",
            "Spr201_T",
            "Swa31",
            "UM1_T",
            "UM2_T",
            "UM3_T",
            "Swa148_T",
            "Pel147_T",
            "Eli250_T",
            "QVMQ_T",
            "Eli501_T",
            "Lyg309_T",
            "Fra118_T",
            "Eli263_T",
            "Col254_T",
            "Swa607_T",
            "Lon364_T",
            "Bou688_T",
            "RMIT_T",
            "RMIT14_T",
            "Lat224_T",
            "Bou231_T",
            "QVN_T",
            "FLDegS_T",
            "FLDegN_T",
            "FLDegC_T",
            "Errol20_T",
            "WestWP_T",
            "ACMI_T",
            "SprFli_T",
            "KenMac_T",
            "HarEsP_T",
            "HarEsB_T",
            "FliSS_T",
            "ElFi_T",
            "488Mac_T",
            "574Qub_T",
            "Errol23_T",
            "280Will_T",
            "261Will_T",
            "LatWill_T",
            "Fli114F_T",
            "Fli114C_T",
            "BirBridge_T",
            "BirBridge_T",
            "Bou892T",
            "King2_T",
            "King335_T",
            "Spen229_T",
            "Spen201_T",
            "Spen161_T",
            "BirFed1120_T",
            "BouHbr2353_T",
            "EntPark1671_T",
            "Signal1647_T",
            "Boyd2837_T",
            "474Fl_T",
            "Hammer1584_T",
            "Spencer_T",
            "BirArt1109_T",
            "Eli489_T",
            "Lat526_T",
            "Spen475_T",
            "Spen484_T",
            "Lat526_T",
            "Pow61_T",
            "Mac330_T",
            "Eli368_T",
            "King163_T",
            "Eli124_T",
            "Eli197_T"
           ],
           "lat": {
            "bdata": "4za3lSDoQsDk7jnRKuhCwMYt7ljP50LAW2Lh+03oQsCjMs2NzOhCwEqs1tPY6ELA7Ei78lXpQsBVV9Mv8OhCwH+1ckjN6ELAnEQxN2foQsAwSkwnROhCwMJ4m3H56ELAoIXK4CToQsAs8JkVH+hCwPAKbc7750LATsGOvebnQsAP2FGsBehCwGjMZgbY6ELA9Bo3DNHoQsD3QvlpeelCwDD22kMt50LAW311VSDpQsDEaAwp9ehCwIG0/wHW50LA9yBGAJ7mQsD8rfjh++hCwPiAaeaD6ELAWtVxgInmQsD2jiKEKuhCwHf2Mt2t50LA6bGQLYnoQsBr2fc0aeZCwFGsS3Qz5kLACqP2rgPmQsCjy5vDNehCwAiQX0e15kLAw3BDxgLoQsBQGUFbNedCwLxR8aBV50LA5vZgjCfmQsAV3/U+eudCwOg48bQA6ELANllA9GboQsB8mShC6uZCwFad1QL750LAaVGf5I7oQsCmMMbydOdCwOAHMeFh50LAchpg7qznQsC841Y5G+hCwGJF9AjB50LAOeFvxY/oQsA0J9R4juhCwNTaLEWP6ELA8BL/JPzmQsB5c7hW++dCwMKoIBac6ELA2bj27FboQsCeIxNss+VCwP6++7o+6ELABbWtoEjoQsA64+JFsuhCwHSorpWz6ELAJVbraazlQsD96Gn6y+ZCwCDISXr75kLAs1Uwx/7nQsAK9dMDD+hCwC2vnovt50LA8KusTHzoQsATVSpufehCwHCa2xCl6ELAmaAjRaboQsAPh1v0BOlCwDn0ULr46ELAA6SqxwXoQsDRmno4XOhCwANW9Y+R6ELA2Xy31JzoQsDqChHLwehCwFKvAEvT6ELAO1OmoPToQsChVqig6OhCwAetC2i36ULAHnvN3fToQsAK684s7OhCwI8aE2Iu6ULAg8evBsXoQsDB52YDWedCwAM+P4wQ6ELAIAjzy57nQsD08NA9jOdCwKrrWL4R6ELAfBIzVnbpQsB5qqaYweVCwBE1di6x50LAFIHirnvoQsCTsAz9VehCwBsL0Nco6ELA",
            "dtype": "f8"
           },
           "legendgroup": "",
           "lon": {
            "bdata": "Us8GieIeYkC5KEim4h5iQHCO34DbHmJAEUL2MOoeYkB7eEPY+B5iQNM6YA3mHmJAvcInQk8eYkAiXSLNbh5iQKGzFrBOHmJA+uNJFBIeYkDaFuluLB5iQCObcTvQHmJAxZeivyQfYkBvEyhBIx9iQJjwU27lHmJA0i5L4PseYkCqfoTl+B5iQHe3Nn2LHmJAnszDMoseYkBQxyHqlx5iQFE4kjabHmJAgcRdWgAfYkBYzjnT/x5iQNzhIyDuHmJA1QNJTO4eYkCkDhv64R5iQPkuxjzCHmJAXQF9CfIeYkBfyDTkCR9iQOEKSeIcH2JAEl6r0vAeYkADJpH51x5iQIJMnQ3aHmJAIRHHeNweYkBmHYY96h5iQOZMySjFHmJAsktUb80eYkD5fFpmrR5iQASZU7i0HmJAuJaoYvMeYkDzXzmlsB5iQMDGmjbIHmJAQ6ooXuUeYkA9C4SV0R5iQBSvFeHEHmJAC+vGu4MeYkBJ0EZL0R5iQMGrgqTRHmJAkcmxDsoeYkB7taup7x5iQA/FcLfcHmJAR9fYZ+YeYkBf1Ist5h5iQB8DBSDmHmJAVyy4/mEeYkBLx711FR9iQIgoDdL/HmJACYQAjTAfYkDIN2eGxR1iQFfqF/Q3HmJAfYRQlDoeYkCdUpjW6h5iQEdsoI7hHmJAxGIOYcAdYkAjwlzeXh5iQFOTv/9fHmJAlwKx8J4eYkBIGKMBnh5iQF166keZHmJAltFErxEfYkBoPZ2nER9iQK6SdkAlH2JAl1CoRCUfYkDPLp3eHh5iQCE6BI6kHmJAwdO3DoYeYkBV6A8PeR5iQKMBYUx/HmJAtTd0ioAeYkApKnaPJx9iQKzskqNGHmJAz3D7zLYeYkApGUo30x5iQKwXCY7HHmJAObPAy6oeYkAk56uB+R5iQBXp2QeUHmJAxmvB/xQfYkBBdVpUtx5iQA5mdopzHmJAV544Z2EeYkBZrBvOYB5iQEpuAy1zHmJAtyma3tAeYkCFTCoB7h1iQKDc+AvEHmJAb+BIf5MeYkBd4xLL1h5iQP215fHOHmJA",
            "dtype": "f8"
           },
           "marker": {
            "color": {
             "bdata": "VVVVVVVVOUAzMzMzM5M0QO5phOWeRjVAZmZmZmZ2QUAAAAAAALBZQLfmh0XKwDNAZmZmZmZmGkD9sEgZeLolQAAAAAAAoAhASZIkSZIkDEDzLd/yLd8QQMVO7MRO7B9ANpTXUF7DKEAZMWLEiBEbQBQ7sRM7sSJAA1HpyJ6BGEDZiZ3YiR1DQCivobyG8jdA8fDw8PDwMUAREREREbFiQAAAAAAAMDFAAAAAAAAgKkAAAAAAAIAhQHIcx3EcRxxA1ZPx26WeEEBrcRPmd7U3QML5GJyPwRdA7+7u7u7uKEDD9Shcj8INQNYNpshn3RhAE+Z3tbgJK0AOqQnGW9kXQC0tLS0tLTZAHMdxHMdxJUD0PM/zPI8zQAAAAAAAQDBAzczMzMzMNEC7ErUrUbsYQAAAAAAAQChAxUAJbzR1EkBVVVVVVVUGQMRZ+QlxViRApgb2jqmBM0Di4eHh4eESQJDB+RicjyFA2ktoL6G9LkAAAAAAANxbQGt+WKQMPCtA7UrUrkTtFEDwdGt+WKQoQAaebs0PizdAy7d8y7d8MUDlNZTXUF4bQGoDnTbQaR9A54dFysDTEUBo3WCKfNb9P5ka2DumBh5AxMPDw8PDA0AAAAAAAIADQE/sxE7sxDFAW2uttdZaA0BrflikDDwlQEmSJEmSFGBAZHA+BudjBECChpO6L4/9P8ln3WCKfApADw8PDw8PNUCO4ziO4zgoQHIcx3EcxzZAchzHcRxHNECSJEmSJEn6P4iHh4eHhxtAMzMzMzMzA0AAAAAAAAAnQIqd2Imd2DNAAAAAAADQMkBLS0tLS0tQQAAAAAAAKEZAzczMzMyMUEC3bdu2bdsvQHh4eHh4eCRAq6qqqqqq8j+SJEmSJEkjQEtLS0tLSydAq6qqqqrqM0BLS0tLS0tKQO/u7u7u7j9Abtu2bds2MkAeHh4eHh5MQKuqqqqqqipASZIkSZIkFUCXlpaWlpYaQHZiJ3ZiJxpAJUmSJEmSGkAPDw8PDw//P6QMPN2aHzBAREREREREPEC1tLS0tDRdQNu2bdu2bVhA",
             "dtype": "f8"
            },
            "coloraxis": "coloraxis",
            "size": {
             "bdata": "VVVVVVVVOUAzMzMzM5M0QO5phOWeRjVAZmZmZmZ2QUAAAAAAALBZQLfmh0XKwDNAZmZmZmZmGkD9sEgZeLolQAAAAAAAoAhASZIkSZIkDEDzLd/yLd8QQMVO7MRO7B9ANpTXUF7DKEAZMWLEiBEbQBQ7sRM7sSJAA1HpyJ6BGEDZiZ3YiR1DQCivobyG8jdA8fDw8PDwMUAREREREbFiQAAAAAAAMDFAAAAAAAAgKkAAAAAAAIAhQHIcx3EcRxxA1ZPx26WeEEBrcRPmd7U3QML5GJyPwRdA7+7u7u7uKEDD9Shcj8INQNYNpshn3RhAE+Z3tbgJK0AOqQnGW9kXQC0tLS0tLTZAHMdxHMdxJUD0PM/zPI8zQAAAAAAAQDBAzczMzMzMNEC7ErUrUbsYQAAAAAAAQChAxUAJbzR1EkBVVVVVVVUGQMRZ+QlxViRApgb2jqmBM0Di4eHh4eESQJDB+RicjyFA2ktoL6G9LkAAAAAAANxbQGt+WKQMPCtA7UrUrkTtFEDwdGt+WKQoQAaebs0PizdAy7d8y7d8MUDlNZTXUF4bQGoDnTbQaR9A54dFysDTEUBo3WCKfNb9P5ka2DumBh5AxMPDw8PDA0AAAAAAAIADQE/sxE7sxDFAW2uttdZaA0BrflikDDwlQEmSJEmSFGBAZHA+BudjBECChpO6L4/9P8ln3WCKfApADw8PDw8PNUCO4ziO4zgoQHIcx3EcxzZAchzHcRxHNECSJEmSJEn6P4iHh4eHhxtAMzMzMzMzA0AAAAAAAAAnQIqd2Imd2DNAAAAAAADQMkBLS0tLS0tQQAAAAAAAKEZAzczMzMyMUEC3bdu2bdsvQHh4eHh4eCRAq6qqqqqq8j+SJEmSJEkjQEtLS0tLSydAq6qqqqrqM0BLS0tLS0tKQO/u7u7u7j9Abtu2bds2MkAeHh4eHh5MQKuqqqqqqipASZIkSZIkFUCXlpaWlpYaQHZiJ3ZiJxpAJUmSJEmSGkAPDw8PDw//P6QMPN2aHzBAREREREREPEC1tLS0tDRdQNu2bdu2bVhA",
             "dtype": "f8"
            },
            "sizemode": "area",
            "sizeref": 0.32238095238095243
           },
           "mode": "markers",
           "name": "",
           "showlegend": false,
           "subplot": "mapbox",
           "type": "scattermapbox"
          }
         ],
         "name": "11"
        },
        {
         "data": [
          {
           "hovertemplate": "<b>%{hovertext}</b><br><br>hour=12<br>pedestrian_count=%{marker.color}<br>latitude=%{lat}<br>longitude=%{lon}<extra></extra>",
           "hovertext": [
            "Bou292_T",
            "Bou283_T",
            "Swa295_T",
            "Swa123_T",
            "PriNW_T",
            "FliS_T",
            "WebBN_T",
            "Col700_T",
            "BouHbr_T",
            "WatCit_T",
            "NewQ_T",
            "SanBri_T",
            "Col15_T",
            "Col12_T",
            "LtB210_T",
            "LtB170_T",
            "Bourke155_T",
            "Col623_T",
            "Col620_T",
            "MCEC_T",
            "Vic_T",
            "VAC_T",
            "AG_T",
            "Lon189_T",
            "Lyg161_T",
            "SouthB_T",
            "Que85_T",
            "Lyg260_T",
            "AlfPl_T",
            "Spr201_T",
            "Swa31",
            "UM1_T",
            "UM2_T",
            "UM3_T",
            "Swa148_T",
            "Pel147_T",
            "Eli250_T",
            "QVMQ_T",
            "Eli501_T",
            "Lyg309_T",
            "Fra118_T",
            "Eli263_T",
            "Col254_T",
            "Swa607_T",
            "Lon364_T",
            "Bou688_T",
            "RMIT_T",
            "RMIT14_T",
            "Lat224_T",
            "Bou231_T",
            "QVN_T",
            "FLDegS_T",
            "FLDegN_T",
            "FLDegC_T",
            "Errol20_T",
            "WestWP_T",
            "ACMI_T",
            "SprFli_T",
            "KenMac_T",
            "HarEsP_T",
            "HarEsB_T",
            "FliSS_T",
            "ElFi_T",
            "488Mac_T",
            "574Qub_T",
            "Errol23_T",
            "280Will_T",
            "261Will_T",
            "LatWill_T",
            "Fli114F_T",
            "Fli114C_T",
            "BirBridge_T",
            "BirBridge_T",
            "Bou892T",
            "King2_T",
            "King335_T",
            "Spen229_T",
            "Spen201_T",
            "Spen161_T",
            "BirFed1120_T",
            "BouHbr2353_T",
            "EntPark1671_T",
            "Signal1647_T",
            "Boyd2837_T",
            "474Fl_T",
            "Hammer1584_T",
            "Spencer_T",
            "BirArt1109_T",
            "Eli489_T",
            "Lat526_T",
            "Spen475_T",
            "Spen484_T",
            "Lat526_T",
            "Pow61_T",
            "Mac330_T",
            "Eli368_T",
            "King163_T",
            "Eli124_T",
            "Eli197_T"
           ],
           "lat": {
            "bdata": "4za3lSDoQsDk7jnRKuhCwMYt7ljP50LAW2Lh+03oQsCjMs2NzOhCwEqs1tPY6ELA7Ei78lXpQsBVV9Mv8OhCwH+1ckjN6ELAnEQxN2foQsAwSkwnROhCwMJ4m3H56ELAoIXK4CToQsAs8JkVH+hCwPAKbc7750LATsGOvebnQsAP2FGsBehCwGjMZgbY6ELA9Bo3DNHoQsD3QvlpeelCwDD22kMt50LAW311VSDpQsDEaAwp9ehCwIG0/wHW50LA9yBGAJ7mQsD8rfjh++hCwPiAaeaD6ELAWtVxgInmQsD2jiKEKuhCwHf2Mt2t50LA6bGQLYnoQsBr2fc0aeZCwFGsS3Qz5kLACqP2rgPmQsCjy5vDNehCwAiQX0e15kLAw3BDxgLoQsBQGUFbNedCwLxR8aBV50LA5vZgjCfmQsAV3/U+eudCwOg48bQA6ELANllA9GboQsB8mShC6uZCwFad1QL750LAaVGf5I7oQsCmMMbydOdCwOAHMeFh50LAchpg7qznQsC841Y5G+hCwGJF9AjB50LAOeFvxY/oQsA0J9R4juhCwNTaLEWP6ELA8BL/JPzmQsB5c7hW++dCwMKoIBac6ELA2bj27FboQsCeIxNss+VCwP6++7o+6ELABbWtoEjoQsA64+JFsuhCwHSorpWz6ELAJVbraazlQsD96Gn6y+ZCwCDISXr75kLAs1Uwx/7nQsAK9dMDD+hCwC2vnovt50LA8KusTHzoQsATVSpufehCwHCa2xCl6ELAmaAjRaboQsAPh1v0BOlCwDn0ULr46ELAA6SqxwXoQsDRmno4XOhCwANW9Y+R6ELA2Xy31JzoQsDqChHLwehCwFKvAEvT6ELAO1OmoPToQsChVqig6OhCwAetC2i36ULAHnvN3fToQsAK684s7OhCwI8aE2Iu6ULAg8evBsXoQsDB52YDWedCwAM+P4wQ6ELAIAjzy57nQsD08NA9jOdCwKrrWL4R6ELAfBIzVnbpQsB5qqaYweVCwBE1di6x50LAFIHirnvoQsCTsAz9VehCwBsL0Nco6ELA",
            "dtype": "f8"
           },
           "legendgroup": "",
           "lon": {
            "bdata": "Us8GieIeYkC5KEim4h5iQHCO34DbHmJAEUL2MOoeYkB7eEPY+B5iQNM6YA3mHmJAvcInQk8eYkAiXSLNbh5iQKGzFrBOHmJA+uNJFBIeYkDaFuluLB5iQCObcTvQHmJAxZeivyQfYkBvEyhBIx9iQJjwU27lHmJA0i5L4PseYkCqfoTl+B5iQHe3Nn2LHmJAnszDMoseYkBQxyHqlx5iQFE4kjabHmJAgcRdWgAfYkBYzjnT/x5iQNzhIyDuHmJA1QNJTO4eYkCkDhv64R5iQPkuxjzCHmJAXQF9CfIeYkBfyDTkCR9iQOEKSeIcH2JAEl6r0vAeYkADJpH51x5iQIJMnQ3aHmJAIRHHeNweYkBmHYY96h5iQOZMySjFHmJAsktUb80eYkD5fFpmrR5iQASZU7i0HmJAuJaoYvMeYkDzXzmlsB5iQMDGmjbIHmJAQ6ooXuUeYkA9C4SV0R5iQBSvFeHEHmJAC+vGu4MeYkBJ0EZL0R5iQMGrgqTRHmJAkcmxDsoeYkB7taup7x5iQA/FcLfcHmJAR9fYZ+YeYkBf1Ist5h5iQB8DBSDmHmJAVyy4/mEeYkBLx711FR9iQIgoDdL/HmJACYQAjTAfYkDIN2eGxR1iQFfqF/Q3HmJAfYRQlDoeYkCdUpjW6h5iQEdsoI7hHmJAxGIOYcAdYkAjwlzeXh5iQFOTv/9fHmJAlwKx8J4eYkBIGKMBnh5iQF166keZHmJAltFErxEfYkBoPZ2nER9iQK6SdkAlH2JAl1CoRCUfYkDPLp3eHh5iQCE6BI6kHmJAwdO3DoYeYkBV6A8PeR5iQKMBYUx/HmJAtTd0ioAeYkApKnaPJx9iQKzskqNGHmJAz3D7zLYeYkApGUo30x5iQKwXCY7HHmJAObPAy6oeYkAk56uB+R5iQBXp2QeUHmJAxmvB/xQfYkBBdVpUtx5iQA5mdopzHmJAV544Z2EeYkBZrBvOYB5iQEpuAy1zHmJAtyma3tAeYkCFTCoB7h1iQKDc+AvEHmJAb+BIf5MeYkBd4xLL1h5iQP215fHOHmJA",
            "dtype": "f8"
           },
           "marker": {
            "color": {
             "bdata": "QnsJ7SW0REDnY3A+BmdBQAAAAAAAAEJA0tT5tYfcSEAAAAAAAERgQG7btm3btjxAL7rooosuKkBmZmZmZsYzQIfyGsprKBhAhA8++OCDFUAcOHDgwIEfQGIndmIn9iRA3IT5XS1uOkBhinzWDaYkQO0ltJfQXi5A0UUXXXSRJkAAAAAAADhUQFVVVVVV1U5AxCJl4OnWOEAAAAAAAHxnQMdxHMdxHDZAoJ+fn5+fMUBc88MiZeAnQKuqqqqqqipAKOGNps6vFUD9hDgrP6FGQNyE+V0tbihAJUmSJEkSN0C/9pDLioEgQOmiiy666C5APQrXo3A9OEB00UUXXfQgQAAAAAAAmEBAAAAAAACwMEDhjabOrz0/QJIkSZIkyThA3IT5XS1uPkBmZmZmZkYgQI6mzq895C5ADMMwDMMwGUDsUbgehesRQNuVqF2J2i9Az/M8z/N8OkAqa8qasqYWQD801ofG+jBAsHdMDewdNkBVVVVVVXViQLFIGXi6NTFAAAAAAADAHUAYS36x5Bc3QFy+5Vu+pUJAMzMzMzOTOUA2lNdQXsMtQNIgDdIgDStAZmZmZmbmFUAK16NwPQr/P47jOI7jOCRAS0tLS0tLD0DBD/zAD/wIQHh4eHh4+EBACIIgCIIgAEAAAAAAAAArQAAAAAAA4mZAz507d+7cCUC4Sz0Zv10KQFvchPldLRpAbtu2bdv2QUD0PM/zPA8zQAAAAAAAkEBA7MRO7MROPkAeHh4eHh7+P97d3d3d3TJAAAAAAAAA9j8AAAAAAAAyQAAAAAAAAD9ASZIkSZKkPUAAAAAAADhXQCivobyGMlBAVVVVVVWVVEC3bdu2bds9QMTDw8PDwzVAntiJndiJBUAAAAAAABAxQDMzMzMzMytASZIkSZIkP0CIh4eHh4dbQKalpaWlpURA2Ymd2IkdRkC3bdu2bbtVQCVJkiRJki1AIiIiIiIiHkAiIiIiIiIoQB4eHh4eHhJAjuM4juM4IkAvuuiiiy4CQBYpA0+35jdAAAAAAACATUAAAAAAAERoQCIiIiIiImBA",
             "dtype": "f8"
            },
            "coloraxis": "coloraxis",
            "size": {
             "bdata": "QnsJ7SW0REDnY3A+BmdBQAAAAAAAAEJA0tT5tYfcSEAAAAAAAERgQG7btm3btjxAL7rooosuKkBmZmZmZsYzQIfyGsprKBhAhA8++OCDFUAcOHDgwIEfQGIndmIn9iRA3IT5XS1uOkBhinzWDaYkQO0ltJfQXi5A0UUXXXSRJkAAAAAAADhUQFVVVVVV1U5AxCJl4OnWOEAAAAAAAHxnQMdxHMdxHDZAoJ+fn5+fMUBc88MiZeAnQKuqqqqqqipAKOGNps6vFUD9hDgrP6FGQNyE+V0tbihAJUmSJEkSN0C/9pDLioEgQOmiiy666C5APQrXo3A9OEB00UUXXfQgQAAAAAAAmEBAAAAAAACwMEDhjabOrz0/QJIkSZIkyThA3IT5XS1uPkBmZmZmZkYgQI6mzq895C5ADMMwDMMwGUDsUbgehesRQNuVqF2J2i9Az/M8z/N8OkAqa8qasqYWQD801ofG+jBAsHdMDewdNkBVVVVVVXViQLFIGXi6NTFAAAAAAADAHUAYS36x5Bc3QFy+5Vu+pUJAMzMzMzOTOUA2lNdQXsMtQNIgDdIgDStAZmZmZmbmFUAK16NwPQr/P47jOI7jOCRAS0tLS0tLD0DBD/zAD/wIQHh4eHh4+EBACIIgCIIgAEAAAAAAAAArQAAAAAAA4mZAz507d+7cCUC4Sz0Zv10KQFvchPldLRpAbtu2bdv2QUD0PM/zPA8zQAAAAAAAkEBA7MRO7MROPkAeHh4eHh7+P97d3d3d3TJAAAAAAAAA9j8AAAAAAAAyQAAAAAAAAD9ASZIkSZKkPUAAAAAAADhXQCivobyGMlBAVVVVVVWVVEC3bdu2bds9QMTDw8PDwzVAntiJndiJBUAAAAAAABAxQDMzMzMzMytASZIkSZIkP0CIh4eHh4dbQKalpaWlpURA2Ymd2IkdRkC3bdu2bbtVQCVJkiRJki1AIiIiIiIiHkAiIiIiIiIoQB4eHh4eHhJAjuM4juM4IkAvuuiiiy4CQBYpA0+35jdAAAAAAACATUAAAAAAAERoQCIiIiIiImBA",
             "dtype": "f8"
            },
            "sizemode": "area",
            "sizeref": 0.32238095238095243
           },
           "mode": "markers",
           "name": "",
           "showlegend": false,
           "subplot": "mapbox",
           "type": "scattermapbox"
          }
         ],
         "name": "12"
        },
        {
         "data": [
          {
           "hovertemplate": "<b>%{hovertext}</b><br><br>hour=13<br>pedestrian_count=%{marker.color}<br>latitude=%{lat}<br>longitude=%{lon}<extra></extra>",
           "hovertext": [
            "Bou292_T",
            "Bou283_T",
            "Swa295_T",
            "Swa123_T",
            "PriNW_T",
            "FliS_T",
            "WebBN_T",
            "Col700_T",
            "BouHbr_T",
            "WatCit_T",
            "NewQ_T",
            "SanBri_T",
            "Col15_T",
            "Col12_T",
            "LtB210_T",
            "LtB170_T",
            "Bourke155_T",
            "Col623_T",
            "Col620_T",
            "MCEC_T",
            "Vic_T",
            "VAC_T",
            "AG_T",
            "Lon189_T",
            "Lyg161_T",
            "SouthB_T",
            "Que85_T",
            "Lyg260_T",
            "AlfPl_T",
            "Spr201_T",
            "Swa31",
            "UM1_T",
            "UM2_T",
            "UM3_T",
            "Swa148_T",
            "Pel147_T",
            "Eli250_T",
            "QVMQ_T",
            "Eli501_T",
            "Lyg309_T",
            "Fra118_T",
            "Eli263_T",
            "Col254_T",
            "Swa607_T",
            "Lon364_T",
            "Bou688_T",
            "RMIT_T",
            "RMIT14_T",
            "Lat224_T",
            "Bou231_T",
            "QVN_T",
            "FLDegS_T",
            "FLDegN_T",
            "FLDegC_T",
            "Errol20_T",
            "WestWP_T",
            "ACMI_T",
            "SprFli_T",
            "KenMac_T",
            "HarEsP_T",
            "HarEsB_T",
            "FliSS_T",
            "ElFi_T",
            "488Mac_T",
            "574Qub_T",
            "Errol23_T",
            "280Will_T",
            "261Will_T",
            "LatWill_T",
            "Fli114F_T",
            "Fli114C_T",
            "BirBridge_T",
            "BirBridge_T",
            "Bou892T",
            "King2_T",
            "King335_T",
            "Spen229_T",
            "Spen201_T",
            "Spen161_T",
            "BirFed1120_T",
            "BouHbr2353_T",
            "EntPark1671_T",
            "Signal1647_T",
            "Boyd2837_T",
            "474Fl_T",
            "Hammer1584_T",
            "Spencer_T",
            "BirArt1109_T",
            "Eli489_T",
            "Lat526_T",
            "Spen475_T",
            "Spen484_T",
            "Lat526_T",
            "Pow61_T",
            "Mac330_T",
            "Eli368_T",
            "King163_T",
            "Eli124_T",
            "Eli197_T"
           ],
           "lat": {
            "bdata": "4za3lSDoQsDk7jnRKuhCwMYt7ljP50LAW2Lh+03oQsCjMs2NzOhCwEqs1tPY6ELA7Ei78lXpQsBVV9Mv8OhCwH+1ckjN6ELAnEQxN2foQsAwSkwnROhCwMJ4m3H56ELAoIXK4CToQsAs8JkVH+hCwPAKbc7750LATsGOvebnQsAP2FGsBehCwGjMZgbY6ELA9Bo3DNHoQsD3QvlpeelCwDD22kMt50LAW311VSDpQsDEaAwp9ehCwIG0/wHW50LA9yBGAJ7mQsD8rfjh++hCwPiAaeaD6ELAWtVxgInmQsD2jiKEKuhCwHf2Mt2t50LA6bGQLYnoQsBr2fc0aeZCwFGsS3Qz5kLACqP2rgPmQsCjy5vDNehCwAiQX0e15kLAw3BDxgLoQsBQGUFbNedCwLxR8aBV50LA5vZgjCfmQsAV3/U+eudCwOg48bQA6ELANllA9GboQsB8mShC6uZCwFad1QL750LAaVGf5I7oQsCmMMbydOdCwOAHMeFh50LAchpg7qznQsC841Y5G+hCwGJF9AjB50LAOeFvxY/oQsA0J9R4juhCwNTaLEWP6ELA8BL/JPzmQsB5c7hW++dCwMKoIBac6ELA2bj27FboQsCeIxNss+VCwP6++7o+6ELABbWtoEjoQsA64+JFsuhCwHSorpWz6ELAJVbraazlQsD96Gn6y+ZCwCDISXr75kLAs1Uwx/7nQsAK9dMDD+hCwC2vnovt50LA8KusTHzoQsATVSpufehCwHCa2xCl6ELAmaAjRaboQsAPh1v0BOlCwDn0ULr46ELAA6SqxwXoQsDRmno4XOhCwANW9Y+R6ELA2Xy31JzoQsDqChHLwehCwFKvAEvT6ELAO1OmoPToQsChVqig6OhCwAetC2i36ULAHnvN3fToQsAK684s7OhCwI8aE2Iu6ULAg8evBsXoQsDB52YDWedCwAM+P4wQ6ELAIAjzy57nQsD08NA9jOdCwKrrWL4R6ELAfBIzVnbpQsB5qqaYweVCwBE1di6x50LAFIHirnvoQsCTsAz9VehCwBsL0Nco6ELA",
            "dtype": "f8"
           },
           "legendgroup": "",
           "lon": {
            "bdata": "Us8GieIeYkC5KEim4h5iQHCO34DbHmJAEUL2MOoeYkB7eEPY+B5iQNM6YA3mHmJAvcInQk8eYkAiXSLNbh5iQKGzFrBOHmJA+uNJFBIeYkDaFuluLB5iQCObcTvQHmJAxZeivyQfYkBvEyhBIx9iQJjwU27lHmJA0i5L4PseYkCqfoTl+B5iQHe3Nn2LHmJAnszDMoseYkBQxyHqlx5iQFE4kjabHmJAgcRdWgAfYkBYzjnT/x5iQNzhIyDuHmJA1QNJTO4eYkCkDhv64R5iQPkuxjzCHmJAXQF9CfIeYkBfyDTkCR9iQOEKSeIcH2JAEl6r0vAeYkADJpH51x5iQIJMnQ3aHmJAIRHHeNweYkBmHYY96h5iQOZMySjFHmJAsktUb80eYkD5fFpmrR5iQASZU7i0HmJAuJaoYvMeYkDzXzmlsB5iQMDGmjbIHmJAQ6ooXuUeYkA9C4SV0R5iQBSvFeHEHmJAC+vGu4MeYkBJ0EZL0R5iQMGrgqTRHmJAkcmxDsoeYkB7taup7x5iQA/FcLfcHmJAR9fYZ+YeYkBf1Ist5h5iQB8DBSDmHmJAVyy4/mEeYkBLx711FR9iQIgoDdL/HmJACYQAjTAfYkDIN2eGxR1iQFfqF/Q3HmJAfYRQlDoeYkCdUpjW6h5iQEdsoI7hHmJAxGIOYcAdYkAjwlzeXh5iQFOTv/9fHmJAlwKx8J4eYkBIGKMBnh5iQF166keZHmJAltFErxEfYkBoPZ2nER9iQK6SdkAlH2JAl1CoRCUfYkDPLp3eHh5iQCE6BI6kHmJAwdO3DoYeYkBV6A8PeR5iQKMBYUx/HmJAtTd0ioAeYkApKnaPJx9iQKzskqNGHmJAz3D7zLYeYkApGUo30x5iQKwXCY7HHmJAObPAy6oeYkAk56uB+R5iQBXp2QeUHmJAxmvB/xQfYkBBdVpUtx5iQA5mdopzHmJAV544Z2EeYkBZrBvOYB5iQEpuAy1zHmJAtyma3tAeYkCFTCoB7h1iQKDc+AvEHmJAb+BIf5MeYkBd4xLL1h5iQP215fHOHmJA",
            "dtype": "f8"
           },
           "marker": {
            "color": {
             "bdata": "7og74o54RUA+5LJioIRDQKpNbWpTG0FAqFvzwyJlSUBmZmZmZkZhQDe1qU1taj1Ai4ES3mjqJkCkH/3oRz8xQAc6baDTBhJAy7d8y7d8E0CU8EZT59ceQNpLaC+hvSFAOrJnICodOkBUVFRUVFQiQNaUNWVNWS1AU9aUNWVNIkA5juM4jqNRQJqZmZmZSURA9DzP8zwPO0DNzMzMzAxrQAAAAAAAsDZAOJo6v/aQMUAON9xwww0lQKLfbB36zSpA9JutQ7/ZFkCVgadb80NFQKCfn5+fnydAzczMzMzMMUBT5LNuMEUWQLSX0F5CeylAHE2dX3vIM0A7sRM7sRMiQERERERExEFAAAAAAACwMEBUOrJnICo/QMdxHMdxnDtAQV/QF/SFQEBKeKOp82sfQIuKioqKii5AAAAAAAAAG0A8PDw8PDwQQAzDMAzDMC5AT+zETuzEPEBNWVPWlDUZQGZmZmZmZjBAx8bGxsbGNUBaWlpaWnpgQG7btm3b9jFAGxsbGxsbIUAIh3AIh3A3QLkj7og7IkNAd8QdcUdcN0CrqqqqqqosQHIcx3EcByVAyz2NsNzTFEB4eHh4eHj4P9nY2NjY2CRAFjYHEq2wCUC3bdu2bdsCQEtLS0tLSzlACB988MEHA0AkJCQkJCQuQAAAAAAA8mZA1K5E7UrUBkAV+awbTJEHQGB7yGXFQBFAAAAAAACARUC3bdu2bds2QFVVVVVVlUBA7+7u7u7uQUAlSZIkSZIMQDmO4ziOYzFAq6qqqqqq+j9mZmZmZmYxQPHw8PDwcENALS0tLS0tP0AAAAAAAMBVQHIcx3Ecx01AAAAAAAD4V0AzMzMzMzMxQK+hvIbyGixAKK+hvIbyAkAeHh4eHh4sQAAAAAAAACpAAAAAAACQQEAREREREZFXQA8PDw8Pj0hAVVVVVVVVQ0AAAAAAAHBWQO/u7u7u7jBAchzHcRzHHUCmpaWlpaUjQFVVVVVVVQFAlNdQXkN5IUAAAAAAAAAAQMHAwMDAwDlAbtu2bdu2S0BpaWlpaYlqQAAAAAAA4GJA",
             "dtype": "f8"
            },
            "coloraxis": "coloraxis",
            "size": {
             "bdata": "7og74o54RUA+5LJioIRDQKpNbWpTG0FAqFvzwyJlSUBmZmZmZkZhQDe1qU1taj1Ai4ES3mjqJkCkH/3oRz8xQAc6baDTBhJAy7d8y7d8E0CU8EZT59ceQNpLaC+hvSFAOrJnICodOkBUVFRUVFQiQNaUNWVNWS1AU9aUNWVNIkA5juM4jqNRQJqZmZmZSURA9DzP8zwPO0DNzMzMzAxrQAAAAAAAsDZAOJo6v/aQMUAON9xwww0lQKLfbB36zSpA9JutQ7/ZFkCVgadb80NFQKCfn5+fnydAzczMzMzMMUBT5LNuMEUWQLSX0F5CeylAHE2dX3vIM0A7sRM7sRMiQERERERExEFAAAAAAACwMEBUOrJnICo/QMdxHMdxnDtAQV/QF/SFQEBKeKOp82sfQIuKioqKii5AAAAAAAAAG0A8PDw8PDwQQAzDMAzDMC5AT+zETuzEPEBNWVPWlDUZQGZmZmZmZjBAx8bGxsbGNUBaWlpaWnpgQG7btm3b9jFAGxsbGxsbIUAIh3AIh3A3QLkj7og7IkNAd8QdcUdcN0CrqqqqqqosQHIcx3EcByVAyz2NsNzTFEB4eHh4eHj4P9nY2NjY2CRAFjYHEq2wCUC3bdu2bdsCQEtLS0tLSzlACB988MEHA0AkJCQkJCQuQAAAAAAA8mZA1K5E7UrUBkAV+awbTJEHQGB7yGXFQBFAAAAAAACARUC3bdu2bds2QFVVVVVVlUBA7+7u7u7uQUAlSZIkSZIMQDmO4ziOYzFAq6qqqqqq+j9mZmZmZmYxQPHw8PDwcENALS0tLS0tP0AAAAAAAMBVQHIcx3Ecx01AAAAAAAD4V0AzMzMzMzMxQK+hvIbyGixAKK+hvIbyAkAeHh4eHh4sQAAAAAAAACpAAAAAAACQQEAREREREZFXQA8PDw8Pj0hAVVVVVVVVQ0AAAAAAAHBWQO/u7u7u7jBAchzHcRzHHUCmpaWlpaUjQFVVVVVVVQFAlNdQXkN5IUAAAAAAAAAAQMHAwMDAwDlAbtu2bdu2S0BpaWlpaYlqQAAAAAAA4GJA",
             "dtype": "f8"
            },
            "sizemode": "area",
            "sizeref": 0.32238095238095243
           },
           "mode": "markers",
           "name": "",
           "showlegend": false,
           "subplot": "mapbox",
           "type": "scattermapbox"
          }
         ],
         "name": "13"
        },
        {
         "data": [
          {
           "hovertemplate": "<b>%{hovertext}</b><br><br>hour=14<br>pedestrian_count=%{marker.color}<br>latitude=%{lat}<br>longitude=%{lon}<extra></extra>",
           "hovertext": [
            "Bou292_T",
            "Bou283_T",
            "Swa295_T",
            "Swa123_T",
            "PriNW_T",
            "FliS_T",
            "WebBN_T",
            "Col700_T",
            "BouHbr_T",
            "WatCit_T",
            "NewQ_T",
            "SanBri_T",
            "Col15_T",
            "Col12_T",
            "LtB210_T",
            "LtB170_T",
            "Bourke155_T",
            "Col623_T",
            "Col620_T",
            "MCEC_T",
            "Vic_T",
            "VAC_T",
            "AG_T",
            "Lon189_T",
            "Lyg161_T",
            "SouthB_T",
            "Que85_T",
            "AlfPl_T",
            "Spr201_T",
            "Swa31",
            "UM1_T",
            "UM2_T",
            "UM3_T",
            "Swa148_T",
            "Pel147_T",
            "Eli250_T",
            "QVMQ_T",
            "Eli501_T",
            "Lyg309_T",
            "Fra118_T",
            "Eli263_T",
            "Col254_T",
            "Swa607_T",
            "Lon364_T",
            "Bou688_T",
            "RMIT_T",
            "RMIT14_T",
            "Lat224_T",
            "Bou231_T",
            "QVN_T",
            "FLDegS_T",
            "FLDegN_T",
            "FLDegC_T",
            "Errol20_T",
            "WestWP_T",
            "ACMI_T",
            "SprFli_T",
            "KenMac_T",
            "HarEsP_T",
            "HarEsB_T",
            "FliSS_T",
            "ElFi_T",
            "488Mac_T",
            "574Qub_T",
            "Errol23_T",
            "280Will_T",
            "261Will_T",
            "LatWill_T",
            "Fli114F_T",
            "Fli114C_T",
            "BirBridge_T",
            "BirBridge_T",
            "Bou892T",
            "King2_T",
            "King335_T",
            "Spen229_T",
            "Spen201_T",
            "Spen161_T",
            "BirFed1120_T",
            "BouHbr2353_T",
            "EntPark1671_T",
            "Signal1647_T",
            "Boyd2837_T",
            "474Fl_T",
            "Hammer1584_T",
            "Spencer_T",
            "BirArt1109_T",
            "Eli489_T",
            "Lat526_T",
            "Spen475_T",
            "Spen484_T",
            "Lat526_T",
            "Pow61_T",
            "Mac330_T",
            "Eli368_T",
            "King163_T",
            "Eli124_T",
            "Eli197_T"
           ],
           "lat": {
            "bdata": "4za3lSDoQsDk7jnRKuhCwMYt7ljP50LAW2Lh+03oQsCjMs2NzOhCwEqs1tPY6ELA7Ei78lXpQsBVV9Mv8OhCwH+1ckjN6ELAnEQxN2foQsAwSkwnROhCwMJ4m3H56ELAoIXK4CToQsAs8JkVH+hCwPAKbc7750LATsGOvebnQsAP2FGsBehCwGjMZgbY6ELA9Bo3DNHoQsD3QvlpeelCwDD22kMt50LAW311VSDpQsDEaAwp9ehCwIG0/wHW50LA9yBGAJ7mQsD8rfjh++hCwPiAaeaD6ELA9o4ihCroQsB39jLdredCwOmxkC2J6ELAa9n3NGnmQsBRrEt0M+ZCwAqj9q4D5kLAo8ubwzXoQsAIkF9HteZCwMNwQ8YC6ELAUBlBWzXnQsC8UfGgVedCwOb2YIwn5kLAFd/1PnrnQsDoOPG0AOhCwDZZQPRm6ELAfJkoQurmQsBWndUC++dCwGlRn+SO6ELApjDG8nTnQsDgBzHhYedCwHIaYO6s50LAvONWORvoQsBiRfQIwedCwDnhb8WP6ELANCfUeI7oQsDU2ixFj+hCwPAS/yT85kLAeXO4VvvnQsDCqCAWnOhCwNm49uxW6ELAniMTbLPlQsD+vvu6PuhCwAW1raBI6ELAOuPiRbLoQsB0qK6Vs+hCwCVW62ms5ULA/ehp+svmQsAgyEl6++ZCwLNVMMf+50LACvXTAw/oQsAtr56L7edCwPCrrEx86ELAE1Uqbn3oQsBwmtsQpehCwJmgI0Wm6ELAD4db9ATpQsA59FC6+OhCwAOkqscF6ELA0Zp6OFzoQsADVvWPkehCwNl8t9Sc6ELA6goRy8HoQsBSrwBL0+hCwDtTpqD06ELAoVaooOjoQsAHrQtot+lCwB57zd306ELACuvOLOzoQsCPGhNiLulCwIPHrwbF6ELAwedmA1nnQsADPj+MEOhCwCAI88ue50LA9PDQPYznQsCq61i+EehCwHwSM1Z26ULAeaqmmMHlQsARNXYusedCwBSB4q576ELAk7AM/VXoQsAbC9DXKOhCwA==",
            "dtype": "f8"
           },
           "legendgroup": "",
           "lon": {
            "bdata": "Us8GieIeYkC5KEim4h5iQHCO34DbHmJAEUL2MOoeYkB7eEPY+B5iQNM6YA3mHmJAvcInQk8eYkAiXSLNbh5iQKGzFrBOHmJA+uNJFBIeYkDaFuluLB5iQCObcTvQHmJAxZeivyQfYkBvEyhBIx9iQJjwU27lHmJA0i5L4PseYkCqfoTl+B5iQHe3Nn2LHmJAnszDMoseYkBQxyHqlx5iQFE4kjabHmJAgcRdWgAfYkBYzjnT/x5iQNzhIyDuHmJA1QNJTO4eYkCkDhv64R5iQPkuxjzCHmJAX8g05AkfYkDhCkniHB9iQBJeq9LwHmJAAyaR+dceYkCCTJ0N2h5iQCERx3jcHmJAZh2GPeoeYkDmTMkoxR5iQLJLVG/NHmJA+XxaZq0eYkAEmVO4tB5iQLiWqGLzHmJA8185pbAeYkDAxpo2yB5iQEOqKF7lHmJAPQuEldEeYkAUrxXhxB5iQAvrxruDHmJASdBGS9EeYkDBq4Kk0R5iQJHJsQ7KHmJAe7Wrqe8eYkAPxXC33B5iQEfX2GfmHmJAX9SLLeYeYkAfAwUg5h5iQFcsuP5hHmJAS8e9dRUfYkCIKA3S/x5iQAmEAI0wH2JAyDdnhsUdYkBX6hf0Nx5iQH2EUJQ6HmJAnVKY1uoeYkBHbKCO4R5iQMRiDmHAHWJAI8Jc3l4eYkBTk7//Xx5iQJcCsfCeHmJASBijAZ4eYkBdeupHmR5iQJbRRK8RH2JAaD2dpxEfYkCuknZAJR9iQJdQqEQlH2JAzy6d3h4eYkAhOgSOpB5iQMHTtw6GHmJAVegPD3keYkCjAWFMfx5iQLU3dIqAHmJAKSp2jycfYkCs7JKjRh5iQM9w+8y2HmJAKRlKN9MeYkCsFwmOxx5iQDmzwMuqHmJAJOergfkeYkAV6dkHlB5iQMZrwf8UH2JAQXVaVLceYkAOZnaKcx5iQFeeOGdhHmJAWawbzmAeYkBKbgMtcx5iQLcpmt7QHmJAhUwqAe4dYkCg3PgLxB5iQG/gSH+THmJAXeMSy9YeYkD9teXxzh5iQA==",
            "dtype": "f8"
           },
           "marker": {
            "color": {
             "bdata": "7MRO7MROQUAqKioqKio7QBJ3xB1xRz1ALisGSngjRkDkOI7jOK5eQAAAAAAAwDhAxCJl4OnWHEAMwzAMw7AoQJtssskmmwhAep7neZ7nCUDHcRzHcZwUQAAAAAAA4CBAymsor6G8LEBIgzRIgzQcQMQiZeDp1ixAPyHOyk+IF0AUO7ETO7FHQAAAAAAA8DtAB2mQBmmQNkAAAAAAABBpQCIiIiIiIjFAymsor6E8L0BQiLPyE+IiQDZlTVlT1iFA7MRO7MROFEB9DM7H4Pw+QOdjcD4G5x1A8xPirPyEEEAxDMMwDMMdQJqZmZmZmS9AqIM6qIM6GEDe3d3d3d05QAAAAAAAQChAYGBgYGBgOkDNzMzMzAw0QPQ8z/M8zzxA0iAN0iANGEAor6G8hvImQJaoXYnalRZAxCJl4OnWEEBYpAw83ZopQNejcD0K1zZAzczMzMzMFUB1UAd1UAcqQMQdcUfcETBAvYbyGsprXkDzGsprKG8xQMuojMqojB5A7og74o64LkAxv6vFTZhDQNFFF1100TJAq6qqqqqqJEAlSZIkSRIiQK75YZEy8BBAIiIiIiIi8j+WqF2J2pUlQAAAAAAAIAZAqQnGW9nnAEC8u7u7u7s4QDMzMzMzMwNAcRPmd7W4LUCxEzuxE3tkQDw8PDw8PARAkiRJkiRJAkB02kCnDXQKQN7d3d3d3T9Afn5+fn5+KkAlSZIkSRI6QFVVVVVVlT5AVVVVVVVVFUBJkiRJkiQZQAAAAAAAAPg/AAAAAADgKEAAAAAAAAA2QCIiIiIiIjRA4uHh4eGhUkDZiZ3YiZ1KQAAAAAAAcFBAAAAAAADQMkAAAAAAACApQEmSJEmSJPk/09LS0tLSIkBmZmZmZmYqQJIkSZIkyThASZIkSZLkTUAAAAAAADBCQLW0tLS0tDlAAAAAAADgUEDe3d3d3d0vQCVJkiRJkhpAAAAAAAAAIUC3bdu2bdv2PwAAAAAAgB1A05ve9KY3/T/QF/QFfcE2QGIndmIn9kJA7+7u7u7uY0APDw8PD89bQA==",
             "dtype": "f8"
            },
            "coloraxis": "coloraxis",
            "size": {
             "bdata": "7MRO7MROQUAqKioqKio7QBJ3xB1xRz1ALisGSngjRkDkOI7jOK5eQAAAAAAAwDhAxCJl4OnWHEAMwzAMw7AoQJtssskmmwhAep7neZ7nCUDHcRzHcZwUQAAAAAAA4CBAymsor6G8LEBIgzRIgzQcQMQiZeDp1ixAPyHOyk+IF0AUO7ETO7FHQAAAAAAA8DtAB2mQBmmQNkAAAAAAABBpQCIiIiIiIjFAymsor6E8L0BQiLPyE+IiQDZlTVlT1iFA7MRO7MROFEB9DM7H4Pw+QOdjcD4G5x1A8xPirPyEEEAxDMMwDMMdQJqZmZmZmS9AqIM6qIM6GEDe3d3d3d05QAAAAAAAQChAYGBgYGBgOkDNzMzMzAw0QPQ8z/M8zzxA0iAN0iANGEAor6G8hvImQJaoXYnalRZAxCJl4OnWEEBYpAw83ZopQNejcD0K1zZAzczMzMzMFUB1UAd1UAcqQMQdcUfcETBAvYbyGsprXkDzGsprKG8xQMuojMqojB5A7og74o64LkAxv6vFTZhDQNFFF1100TJAq6qqqqqqJEAlSZIkSRIiQK75YZEy8BBAIiIiIiIi8j+WqF2J2pUlQAAAAAAAIAZAqQnGW9nnAEC8u7u7u7s4QDMzMzMzMwNAcRPmd7W4LUCxEzuxE3tkQDw8PDw8PARAkiRJkiRJAkB02kCnDXQKQN7d3d3d3T9Afn5+fn5+KkAlSZIkSRI6QFVVVVVVlT5AVVVVVVVVFUBJkiRJkiQZQAAAAAAAAPg/AAAAAADgKEAAAAAAAAA2QCIiIiIiIjRA4uHh4eGhUkDZiZ3YiZ1KQAAAAAAAcFBAAAAAAADQMkAAAAAAACApQEmSJEmSJPk/09LS0tLSIkBmZmZmZmYqQJIkSZIkyThASZIkSZLkTUAAAAAAADBCQLW0tLS0tDlAAAAAAADgUEDe3d3d3d0vQCVJkiRJkhpAAAAAAAAAIUC3bdu2bdv2PwAAAAAAgB1A05ve9KY3/T/QF/QFfcE2QGIndmIn9kJA7+7u7u7uY0APDw8PD89bQA==",
             "dtype": "f8"
            },
            "sizemode": "area",
            "sizeref": 0.32238095238095243
           },
           "mode": "markers",
           "name": "",
           "showlegend": false,
           "subplot": "mapbox",
           "type": "scattermapbox"
          }
         ],
         "name": "14"
        },
        {
         "data": [
          {
           "hovertemplate": "<b>%{hovertext}</b><br><br>hour=15<br>pedestrian_count=%{marker.color}<br>latitude=%{lat}<br>longitude=%{lon}<extra></extra>",
           "hovertext": [
            "Bou292_T",
            "Bou283_T",
            "Swa295_T",
            "Swa123_T",
            "PriNW_T",
            "FliS_T",
            "WebBN_T",
            "Col700_T",
            "BouHbr_T",
            "WatCit_T",
            "NewQ_T",
            "SanBri_T",
            "Col15_T",
            "Col12_T",
            "LtB210_T",
            "LtB170_T",
            "Bourke155_T",
            "Col623_T",
            "Col620_T",
            "MCEC_T",
            "Vic_T",
            "VAC_T",
            "AG_T",
            "Lon189_T",
            "Lyg161_T",
            "SouthB_T",
            "Que85_T",
            "AlfPl_T",
            "Spr201_T",
            "Swa31",
            "UM1_T",
            "UM2_T",
            "UM3_T",
            "Swa148_T",
            "Pel147_T",
            "Eli250_T",
            "QVMQ_T",
            "Eli501_T",
            "Lyg309_T",
            "Fra118_T",
            "Eli263_T",
            "Col254_T",
            "Swa607_T",
            "Lon364_T",
            "Bou688_T",
            "RMIT_T",
            "RMIT14_T",
            "Lat224_T",
            "Bou231_T",
            "QVN_T",
            "FLDegS_T",
            "FLDegN_T",
            "FLDegC_T",
            "Errol20_T",
            "WestWP_T",
            "ACMI_T",
            "SprFli_T",
            "KenMac_T",
            "HarEsP_T",
            "HarEsB_T",
            "FliSS_T",
            "ElFi_T",
            "488Mac_T",
            "574Qub_T",
            "Errol23_T",
            "280Will_T",
            "261Will_T",
            "LatWill_T",
            "Fli114F_T",
            "Fli114C_T",
            "BirBridge_T",
            "BirBridge_T",
            "Bou892T",
            "King2_T",
            "King335_T",
            "Spen229_T",
            "Spen201_T",
            "Spen161_T",
            "BirFed1120_T",
            "BouHbr2353_T",
            "EntPark1671_T",
            "Signal1647_T",
            "Boyd2837_T",
            "474Fl_T",
            "Hammer1584_T",
            "Spencer_T",
            "BirArt1109_T",
            "Eli489_T",
            "Lat526_T",
            "Spen475_T",
            "Spen484_T",
            "Lat526_T",
            "Pow61_T",
            "Mac330_T",
            "Eli368_T",
            "King163_T",
            "Eli124_T",
            "Eli197_T"
           ],
           "lat": {
            "bdata": "4za3lSDoQsDk7jnRKuhCwMYt7ljP50LAW2Lh+03oQsCjMs2NzOhCwEqs1tPY6ELA7Ei78lXpQsBVV9Mv8OhCwH+1ckjN6ELAnEQxN2foQsAwSkwnROhCwMJ4m3H56ELAoIXK4CToQsAs8JkVH+hCwPAKbc7750LATsGOvebnQsAP2FGsBehCwGjMZgbY6ELA9Bo3DNHoQsD3QvlpeelCwDD22kMt50LAW311VSDpQsDEaAwp9ehCwIG0/wHW50LA9yBGAJ7mQsD8rfjh++hCwPiAaeaD6ELA9o4ihCroQsB39jLdredCwOmxkC2J6ELAa9n3NGnmQsBRrEt0M+ZCwAqj9q4D5kLAo8ubwzXoQsAIkF9HteZCwMNwQ8YC6ELAUBlBWzXnQsC8UfGgVedCwOb2YIwn5kLAFd/1PnrnQsDoOPG0AOhCwDZZQPRm6ELAfJkoQurmQsBWndUC++dCwGlRn+SO6ELApjDG8nTnQsDgBzHhYedCwHIaYO6s50LAvONWORvoQsBiRfQIwedCwDnhb8WP6ELANCfUeI7oQsDU2ixFj+hCwPAS/yT85kLAeXO4VvvnQsDCqCAWnOhCwNm49uxW6ELAniMTbLPlQsD+vvu6PuhCwAW1raBI6ELAOuPiRbLoQsB0qK6Vs+hCwCVW62ms5ULA/ehp+svmQsAgyEl6++ZCwLNVMMf+50LACvXTAw/oQsAtr56L7edCwPCrrEx86ELAE1Uqbn3oQsBwmtsQpehCwJmgI0Wm6ELAD4db9ATpQsA59FC6+OhCwAOkqscF6ELA0Zp6OFzoQsADVvWPkehCwNl8t9Sc6ELA6goRy8HoQsBSrwBL0+hCwDtTpqD06ELAoVaooOjoQsAHrQtot+lCwB57zd306ELACuvOLOzoQsCPGhNiLulCwIPHrwbF6ELAwedmA1nnQsADPj+MEOhCwCAI88ue50LA9PDQPYznQsCq61i+EehCwHwSM1Z26ULAeaqmmMHlQsARNXYusedCwBSB4q576ELAk7AM/VXoQsAbC9DXKOhCwA==",
            "dtype": "f8"
           },
           "legendgroup": "",
           "lon": {
            "bdata": "Us8GieIeYkC5KEim4h5iQHCO34DbHmJAEUL2MOoeYkB7eEPY+B5iQNM6YA3mHmJAvcInQk8eYkAiXSLNbh5iQKGzFrBOHmJA+uNJFBIeYkDaFuluLB5iQCObcTvQHmJAxZeivyQfYkBvEyhBIx9iQJjwU27lHmJA0i5L4PseYkCqfoTl+B5iQHe3Nn2LHmJAnszDMoseYkBQxyHqlx5iQFE4kjabHmJAgcRdWgAfYkBYzjnT/x5iQNzhIyDuHmJA1QNJTO4eYkCkDhv64R5iQPkuxjzCHmJAX8g05AkfYkDhCkniHB9iQBJeq9LwHmJAAyaR+dceYkCCTJ0N2h5iQCERx3jcHmJAZh2GPeoeYkDmTMkoxR5iQLJLVG/NHmJA+XxaZq0eYkAEmVO4tB5iQLiWqGLzHmJA8185pbAeYkDAxpo2yB5iQEOqKF7lHmJAPQuEldEeYkAUrxXhxB5iQAvrxruDHmJASdBGS9EeYkDBq4Kk0R5iQJHJsQ7KHmJAe7Wrqe8eYkAPxXC33B5iQEfX2GfmHmJAX9SLLeYeYkAfAwUg5h5iQFcsuP5hHmJAS8e9dRUfYkCIKA3S/x5iQAmEAI0wH2JAyDdnhsUdYkBX6hf0Nx5iQH2EUJQ6HmJAnVKY1uoeYkBHbKCO4R5iQMRiDmHAHWJAI8Jc3l4eYkBTk7//Xx5iQJcCsfCeHmJASBijAZ4eYkBdeupHmR5iQJbRRK8RH2JAaD2dpxEfYkCuknZAJR9iQJdQqEQlH2JAzy6d3h4eYkAhOgSOpB5iQMHTtw6GHmJAVegPD3keYkCjAWFMfx5iQLU3dIqAHmJAKSp2jycfYkCs7JKjRh5iQM9w+8y2HmJAKRlKN9MeYkCsFwmOxx5iQDmzwMuqHmJAJOergfkeYkAV6dkHlB5iQMZrwf8UH2JAQXVaVLceYkAOZnaKcx5iQFeeOGdhHmJAWawbzmAeYkBKbgMtcx5iQLcpmt7QHmJAhUwqAe4dYkCg3PgLxB5iQG/gSH+THmJAXeMSy9YeYkD9teXxzh5iQA==",
            "dtype": "f8"
           },
           "marker": {
            "color": {
             "bdata": "mpmZmZlJQkAlSZIkSZI4QHboN1uHfj9AdWt+WKSMQ0BmZmZmZuZhQNyE+V0tbjxAuuiiiy46H0AAAAAAAHA0QF/ohV7ohQ5AnJubm5ubC0B4tbgJ87sSQOQ4juM4jiZAnvGMZzzjK0BoL6G9hPYgQAAAAAAAgCxAxpJfLPnFGkAAAAAAAKBJQAAAAAAA6D1A25WoXYlaPkDkOI7jOH5qQMdxHMdxHDBAOrJnICodMUAiIiIiIiIiQBX5rBtMkSBAaN1ginzWEUC4fMu3fMtAQCd2Yid2YhdAXL7lW77lC0C6NT8sUgYaQEIapEEaJDBAkc+6wRT5GEBaWlpaWlo9QBERERERESlAuxK1K1G7OEAAAAAAAIAtQEvUrkTtyj9ALL7iK77iE0AhDdIgDdIkQIZhGIZhGBJAzczMzMzMDEDJZ91ginwqQNKkSZMmTTRAn4GodGTPFEBmZmZmZmYoQOMmzO9qcTRAVVVVVVVlYEDNzMzMzKwwQPz48ePHjxtAzO9qcRPmK0DUrflhkbJDQPkJcVZ+QjNAymsor6G8IkDX/LBIGXgeQBvotIFOGxRAMzMzMzMz8z/YUF5DeQ0hQFVVVVVVVQVATuq+PLYiCEByHMdxHMc3QAAAAAAAAARA05E9A1HpKEAAAAAAALxmQOLh4eHh4QtAKaWUUkopAUDnnHPOOecMQIfyGsprKDhAzczMzMzMKEBu27Zt2zY/QCivobyG8jhAmpmZmZmZCUBmZmZmZmYWQFVVVVVVVfU/AAAAAADgJ0DHcRzHcZw0QKalpaWlpTdAHMdxHMcRWEAAAAAAAABSQAAAAAAAgFJAmpmZmZmZKUAAAAAAAGAuQKuqqqqqqgZAt23btm3bJUCXlpaWlpYsQAAAAAAAYDhA09LS0tLSTEAAAAAAAGhFQAAAAAAAgDRAZmZmZmbmTUBsKK+hvIYuQAAAAAAAABtAAAAAAACgI0DNzMzMzMz8P7W0tLS0tCJAbCivobyGAkC2h1xWDJQ6QHh4eHh4+EFA5DiO4zjeYkB3d3d3d7deQA==",
             "dtype": "f8"
            },
            "coloraxis": "coloraxis",
            "size": {
             "bdata": "mpmZmZlJQkAlSZIkSZI4QHboN1uHfj9AdWt+WKSMQ0BmZmZmZuZhQNyE+V0tbjxAuuiiiy46H0AAAAAAAHA0QF/ohV7ohQ5AnJubm5ubC0B4tbgJ87sSQOQ4juM4jiZAnvGMZzzjK0BoL6G9hPYgQAAAAAAAgCxAxpJfLPnFGkAAAAAAAKBJQAAAAAAA6D1A25WoXYlaPkDkOI7jOH5qQMdxHMdxHDBAOrJnICodMUAiIiIiIiIiQBX5rBtMkSBAaN1ginzWEUC4fMu3fMtAQCd2Yid2YhdAXL7lW77lC0C6NT8sUgYaQEIapEEaJDBAkc+6wRT5GEBaWlpaWlo9QBERERERESlAuxK1K1G7OEAAAAAAAIAtQEvUrkTtyj9ALL7iK77iE0AhDdIgDdIkQIZhGIZhGBJAzczMzMzMDEDJZ91ginwqQNKkSZMmTTRAn4GodGTPFEBmZmZmZmYoQOMmzO9qcTRAVVVVVVVlYEDNzMzMzKwwQPz48ePHjxtAzO9qcRPmK0DUrflhkbJDQPkJcVZ+QjNAymsor6G8IkDX/LBIGXgeQBvotIFOGxRAMzMzMzMz8z/YUF5DeQ0hQFVVVVVVVQVATuq+PLYiCEByHMdxHMc3QAAAAAAAAARA05E9A1HpKEAAAAAAALxmQOLh4eHh4QtAKaWUUkopAUDnnHPOOecMQIfyGsprKDhAzczMzMzMKEBu27Zt2zY/QCivobyG8jhAmpmZmZmZCUBmZmZmZmYWQFVVVVVVVfU/AAAAAADgJ0DHcRzHcZw0QKalpaWlpTdAHMdxHMcRWEAAAAAAAABSQAAAAAAAgFJAmpmZmZmZKUAAAAAAAGAuQKuqqqqqqgZAt23btm3bJUCXlpaWlpYsQAAAAAAAYDhA09LS0tLSTEAAAAAAAGhFQAAAAAAAgDRAZmZmZmbmTUBsKK+hvIYuQAAAAAAAABtAAAAAAACgI0DNzMzMzMz8P7W0tLS0tCJAbCivobyGAkC2h1xWDJQ6QHh4eHh4+EFA5DiO4zjeYkB3d3d3d7deQA==",
             "dtype": "f8"
            },
            "sizemode": "area",
            "sizeref": 0.32238095238095243
           },
           "mode": "markers",
           "name": "",
           "showlegend": false,
           "subplot": "mapbox",
           "type": "scattermapbox"
          }
         ],
         "name": "15"
        },
        {
         "data": [
          {
           "hovertemplate": "<b>%{hovertext}</b><br><br>hour=16<br>pedestrian_count=%{marker.color}<br>latitude=%{lat}<br>longitude=%{lon}<extra></extra>",
           "hovertext": [
            "Bou292_T",
            "Bou283_T",
            "Swa295_T",
            "Swa123_T",
            "PriNW_T",
            "FliS_T",
            "WebBN_T",
            "Col700_T",
            "BouHbr_T",
            "WatCit_T",
            "NewQ_T",
            "SanBri_T",
            "Col15_T",
            "Col12_T",
            "LtB210_T",
            "LtB170_T",
            "Bourke155_T",
            "Col623_T",
            "Col620_T",
            "MCEC_T",
            "Vic_T",
            "VAC_T",
            "AG_T",
            "Lon189_T",
            "Lyg161_T",
            "SouthB_T",
            "Que85_T",
            "AlfPl_T",
            "Spr201_T",
            "Swa31",
            "UM1_T",
            "UM2_T",
            "UM3_T",
            "Swa148_T",
            "Pel147_T",
            "Eli250_T",
            "QVMQ_T",
            "Eli501_T",
            "Lyg309_T",
            "Fra118_T",
            "Eli263_T",
            "Col254_T",
            "Swa607_T",
            "Lon364_T",
            "Bou688_T",
            "RMIT_T",
            "RMIT14_T",
            "Lat224_T",
            "Bou231_T",
            "QVN_T",
            "FLDegS_T",
            "FLDegN_T",
            "FLDegC_T",
            "Errol20_T",
            "WestWP_T",
            "ACMI_T",
            "SprFli_T",
            "KenMac_T",
            "HarEsP_T",
            "HarEsB_T",
            "FliSS_T",
            "ElFi_T",
            "488Mac_T",
            "574Qub_T",
            "Errol23_T",
            "280Will_T",
            "261Will_T",
            "LatWill_T",
            "Fli114F_T",
            "Fli114C_T",
            "BirBridge_T",
            "BirBridge_T",
            "Bou892T",
            "King2_T",
            "King335_T",
            "Spen229_T",
            "Spen201_T",
            "Spen161_T",
            "BirFed1120_T",
            "BouHbr2353_T",
            "EntPark1671_T",
            "Signal1647_T",
            "Boyd2837_T",
            "474Fl_T",
            "Hammer1584_T",
            "Spencer_T",
            "BirArt1109_T",
            "Eli489_T",
            "Lat526_T",
            "Spen475_T",
            "Spen484_T",
            "Lat526_T",
            "Pow61_T",
            "Mac330_T",
            "Eli368_T",
            "King163_T",
            "Eli124_T",
            "Eli197_T"
           ],
           "lat": {
            "bdata": "4za3lSDoQsDk7jnRKuhCwMYt7ljP50LAW2Lh+03oQsCjMs2NzOhCwEqs1tPY6ELA7Ei78lXpQsBVV9Mv8OhCwH+1ckjN6ELAnEQxN2foQsAwSkwnROhCwMJ4m3H56ELAoIXK4CToQsAs8JkVH+hCwPAKbc7750LATsGOvebnQsAP2FGsBehCwGjMZgbY6ELA9Bo3DNHoQsD3QvlpeelCwDD22kMt50LAW311VSDpQsDEaAwp9ehCwIG0/wHW50LA9yBGAJ7mQsD8rfjh++hCwPiAaeaD6ELA9o4ihCroQsB39jLdredCwOmxkC2J6ELAa9n3NGnmQsBRrEt0M+ZCwAqj9q4D5kLAo8ubwzXoQsAIkF9HteZCwMNwQ8YC6ELAUBlBWzXnQsC8UfGgVedCwOb2YIwn5kLAFd/1PnrnQsDoOPG0AOhCwDZZQPRm6ELAfJkoQurmQsBWndUC++dCwGlRn+SO6ELApjDG8nTnQsDgBzHhYedCwHIaYO6s50LAvONWORvoQsBiRfQIwedCwDnhb8WP6ELANCfUeI7oQsDU2ixFj+hCwPAS/yT85kLAeXO4VvvnQsDCqCAWnOhCwNm49uxW6ELAniMTbLPlQsD+vvu6PuhCwAW1raBI6ELAOuPiRbLoQsB0qK6Vs+hCwCVW62ms5ULA/ehp+svmQsAgyEl6++ZCwLNVMMf+50LACvXTAw/oQsAtr56L7edCwPCrrEx86ELAE1Uqbn3oQsBwmtsQpehCwJmgI0Wm6ELAD4db9ATpQsA59FC6+OhCwAOkqscF6ELA0Zp6OFzoQsADVvWPkehCwNl8t9Sc6ELA6goRy8HoQsBSrwBL0+hCwDtTpqD06ELAoVaooOjoQsAHrQtot+lCwB57zd306ELACuvOLOzoQsCPGhNiLulCwIPHrwbF6ELAwedmA1nnQsADPj+MEOhCwCAI88ue50LA9PDQPYznQsCq61i+EehCwHwSM1Z26ULAeaqmmMHlQsARNXYusedCwBSB4q576ELAk7AM/VXoQsAbC9DXKOhCwA==",
            "dtype": "f8"
           },
           "legendgroup": "",
           "lon": {
            "bdata": "Us8GieIeYkC5KEim4h5iQHCO34DbHmJAEUL2MOoeYkB7eEPY+B5iQNM6YA3mHmJAvcInQk8eYkAiXSLNbh5iQKGzFrBOHmJA+uNJFBIeYkDaFuluLB5iQCObcTvQHmJAxZeivyQfYkBvEyhBIx9iQJjwU27lHmJA0i5L4PseYkCqfoTl+B5iQHe3Nn2LHmJAnszDMoseYkBQxyHqlx5iQFE4kjabHmJAgcRdWgAfYkBYzjnT/x5iQNzhIyDuHmJA1QNJTO4eYkCkDhv64R5iQPkuxjzCHmJAX8g05AkfYkDhCkniHB9iQBJeq9LwHmJAAyaR+dceYkCCTJ0N2h5iQCERx3jcHmJAZh2GPeoeYkDmTMkoxR5iQLJLVG/NHmJA+XxaZq0eYkAEmVO4tB5iQLiWqGLzHmJA8185pbAeYkDAxpo2yB5iQEOqKF7lHmJAPQuEldEeYkAUrxXhxB5iQAvrxruDHmJASdBGS9EeYkDBq4Kk0R5iQJHJsQ7KHmJAe7Wrqe8eYkAPxXC33B5iQEfX2GfmHmJAX9SLLeYeYkAfAwUg5h5iQFcsuP5hHmJAS8e9dRUfYkCIKA3S/x5iQAmEAI0wH2JAyDdnhsUdYkBX6hf0Nx5iQH2EUJQ6HmJAnVKY1uoeYkBHbKCO4R5iQMRiDmHAHWJAI8Jc3l4eYkBTk7//Xx5iQJcCsfCeHmJASBijAZ4eYkBdeupHmR5iQJbRRK8RH2JAaD2dpxEfYkCuknZAJR9iQJdQqEQlH2JAzy6d3h4eYkAhOgSOpB5iQMHTtw6GHmJAVegPD3keYkCjAWFMfx5iQLU3dIqAHmJAKSp2jycfYkCs7JKjRh5iQM9w+8y2HmJAKRlKN9MeYkCsFwmOxx5iQDmzwMuqHmJAJOergfkeYkAV6dkHlB5iQMZrwf8UH2JAQXVaVLceYkAOZnaKcx5iQFeeOGdhHmJAWawbzmAeYkBKbgMtcx5iQLcpmt7QHmJAhUwqAe4dYkCg3PgLxB5iQG/gSH+THmJAXeMSy9YeYkD9teXxzh5iQA==",
            "dtype": "f8"
           },
           "marker": {
            "color": {
             "bdata": "kc+6wRQ5Q0Dbtm3btq06QMHTrflhkUFAkTLwdGv+REC8u7u7uxtiQGIndmIndkZAmx8WKQNPI0DM72pxE2ZEQOfXHnJZMRBA+CkuGYJ1EEDZiZ3YiZ0YQAAAAAAAkDFAtbgJ87taKEC8u7u7u7soQGRwPgbnYyxAtYFOG+i0HUBP7MRO7ERJQOdjcD4G5z5AGPQFfUGfRkCamZmZmTluQAAAAAAAACpAip3YiZ1YMkBXV1dXV1chQBSuR+F6FCRA9gxEpSN7EkB00UUXXcREQMu3fMu3fB1AU0/Gb5d6CkCfdYMp8lkbQMaSXyz5xSxApHA9CtejFkAAAAAAAHBAQNhQXkN5DS1Auuiiiy66OUBaWlpaWlozQBzHcRzHIUFAiZ9R4meUEEAAAAAAAIAhQLrooosuuhRAaqVWaqVWCkCcj8H5GJwoQNu2bdu2bTNAVVVVVVVVGUDaqO9s1HcqQGgvob2E9j1AAAAAAACQZUDhfAzOx2AwQBxMkc+6wR5ALisGSnijL0CamZmZmRlGQFFeQ3kNpTJAmRrYO6YGIEDNzMzMzAwbQIuv+Iqv+BRA3t3d3d3d9T8AAAAAAAAsQHIcx3EcxwRAfkaJn1HiB0BVVVVVVTVAQBxMkc+6wQxAq6qqqqqqMECO4ziO47hrQNu2bdu2bQdA5p5GWO5pAEAAAAAAAAAJQKuqqqqqaj9AkiRJkiTJN0AAAAAAAIBGQBQ7sRM7sUVAAAAAAAAAFECXlpaWlpYgQKuqqqqqqgJAjuM4juM4JkAAAAAAAIA3QHZiJ3ZiJzxA7+7u7u7uV0C3bdu2bZtUQM3MzMzMTFdAIiIiIiIiPkC1tLS0tLQ6QMdxHMdxHPc/xMPDw8PDMkCrqqqqquozQB4eHh4eHjVAHMdxHMexS0AAAAAAAAhIQO/u7u7u7kJAAAAAAABAS0AlSZIkSZI0QAAAAAAAAB5AkiRJkiRJKUAAAAAAAAAFQAAAAAAAICdACcs9jbDcA0AgKh3ZM5BAQCVJkiRJ0kNAAAAAAADAZEAAAAAAAEBeQA==",
             "dtype": "f8"
            },
            "coloraxis": "coloraxis",
            "size": {
             "bdata": "kc+6wRQ5Q0Dbtm3btq06QMHTrflhkUFAkTLwdGv+REC8u7u7uxtiQGIndmIndkZAmx8WKQNPI0DM72pxE2ZEQOfXHnJZMRBA+CkuGYJ1EEDZiZ3YiZ0YQAAAAAAAkDFAtbgJ87taKEC8u7u7u7soQGRwPgbnYyxAtYFOG+i0HUBP7MRO7ERJQOdjcD4G5z5AGPQFfUGfRkCamZmZmTluQAAAAAAAACpAip3YiZ1YMkBXV1dXV1chQBSuR+F6FCRA9gxEpSN7EkB00UUXXcREQMu3fMu3fB1AU0/Gb5d6CkCfdYMp8lkbQMaSXyz5xSxApHA9CtejFkAAAAAAAHBAQNhQXkN5DS1Auuiiiy66OUBaWlpaWlozQBzHcRzHIUFAiZ9R4meUEEAAAAAAAIAhQLrooosuuhRAaqVWaqVWCkCcj8H5GJwoQNu2bdu2bTNAVVVVVVVVGUDaqO9s1HcqQGgvob2E9j1AAAAAAACQZUDhfAzOx2AwQBxMkc+6wR5ALisGSnijL0CamZmZmRlGQFFeQ3kNpTJAmRrYO6YGIEDNzMzMzAwbQIuv+Iqv+BRA3t3d3d3d9T8AAAAAAAAsQHIcx3EcxwRAfkaJn1HiB0BVVVVVVTVAQBxMkc+6wQxAq6qqqqqqMECO4ziO47hrQNu2bdu2bQdA5p5GWO5pAEAAAAAAAAAJQKuqqqqqaj9AkiRJkiTJN0AAAAAAAIBGQBQ7sRM7sUVAAAAAAAAAFECXlpaWlpYgQKuqqqqqqgJAjuM4juM4JkAAAAAAAIA3QHZiJ3ZiJzxA7+7u7u7uV0C3bdu2bZtUQM3MzMzMTFdAIiIiIiIiPkC1tLS0tLQ6QMdxHMdxHPc/xMPDw8PDMkCrqqqqquozQB4eHh4eHjVAHMdxHMexS0AAAAAAAAhIQO/u7u7u7kJAAAAAAABAS0AlSZIkSZI0QAAAAAAAAB5AkiRJkiRJKUAAAAAAAAAFQAAAAAAAICdACcs9jbDcA0AgKh3ZM5BAQCVJkiRJ0kNAAAAAAADAZEAAAAAAAEBeQA==",
             "dtype": "f8"
            },
            "sizemode": "area",
            "sizeref": 0.32238095238095243
           },
           "mode": "markers",
           "name": "",
           "showlegend": false,
           "subplot": "mapbox",
           "type": "scattermapbox"
          }
         ],
         "name": "16"
        },
        {
         "data": [
          {
           "hovertemplate": "<b>%{hovertext}</b><br><br>hour=17<br>pedestrian_count=%{marker.color}<br>latitude=%{lat}<br>longitude=%{lon}<extra></extra>",
           "hovertext": [
            "Bou292_T",
            "Bou283_T",
            "Swa295_T",
            "Swa123_T",
            "PriNW_T",
            "FliS_T",
            "WebBN_T",
            "Col700_T",
            "BouHbr_T",
            "WatCit_T",
            "NewQ_T",
            "SanBri_T",
            "Col15_T",
            "Col12_T",
            "LtB210_T",
            "LtB170_T",
            "Bourke155_T",
            "Col623_T",
            "Col620_T",
            "MCEC_T",
            "Vic_T",
            "VAC_T",
            "AG_T",
            "Lon189_T",
            "Lyg161_T",
            "SouthB_T",
            "Que85_T",
            "AlfPl_T",
            "Spr201_T",
            "Swa31",
            "UM1_T",
            "UM2_T",
            "UM3_T",
            "Swa148_T",
            "Pel147_T",
            "Eli250_T",
            "QVMQ_T",
            "Eli501_T",
            "Lyg309_T",
            "Fra118_T",
            "Eli263_T",
            "Col254_T",
            "Swa607_T",
            "Lon364_T",
            "Bou688_T",
            "RMIT_T",
            "RMIT14_T",
            "Lat224_T",
            "Bou231_T",
            "QVN_T",
            "FLDegS_T",
            "FLDegN_T",
            "FLDegC_T",
            "Errol20_T",
            "WestWP_T",
            "ACMI_T",
            "SprFli_T",
            "KenMac_T",
            "HarEsP_T",
            "HarEsB_T",
            "FliSS_T",
            "ElFi_T",
            "488Mac_T",
            "574Qub_T",
            "Errol23_T",
            "280Will_T",
            "261Will_T",
            "LatWill_T",
            "Fli114F_T",
            "Fli114C_T",
            "BirBridge_T",
            "BirBridge_T",
            "Bou892T",
            "King2_T",
            "King335_T",
            "Spen229_T",
            "Spen201_T",
            "Spen161_T",
            "BirFed1120_T",
            "BouHbr2353_T",
            "EntPark1671_T",
            "Signal1647_T",
            "Boyd2837_T",
            "474Fl_T",
            "Hammer1584_T",
            "Spencer_T",
            "BirArt1109_T",
            "Eli489_T",
            "Lat526_T",
            "Spen475_T",
            "Spen484_T",
            "Lat526_T",
            "Pow61_T",
            "Mac330_T",
            "Eli368_T",
            "King163_T",
            "Eli124_T",
            "Eli197_T"
           ],
           "lat": {
            "bdata": "4za3lSDoQsDk7jnRKuhCwMYt7ljP50LAW2Lh+03oQsCjMs2NzOhCwEqs1tPY6ELA7Ei78lXpQsBVV9Mv8OhCwH+1ckjN6ELAnEQxN2foQsAwSkwnROhCwMJ4m3H56ELAoIXK4CToQsAs8JkVH+hCwPAKbc7750LATsGOvebnQsAP2FGsBehCwGjMZgbY6ELA9Bo3DNHoQsD3QvlpeelCwDD22kMt50LAW311VSDpQsDEaAwp9ehCwIG0/wHW50LA9yBGAJ7mQsD8rfjh++hCwPiAaeaD6ELA9o4ihCroQsB39jLdredCwOmxkC2J6ELAa9n3NGnmQsBRrEt0M+ZCwAqj9q4D5kLAo8ubwzXoQsAIkF9HteZCwMNwQ8YC6ELAUBlBWzXnQsC8UfGgVedCwOb2YIwn5kLAFd/1PnrnQsDoOPG0AOhCwDZZQPRm6ELAfJkoQurmQsBWndUC++dCwGlRn+SO6ELApjDG8nTnQsDgBzHhYedCwHIaYO6s50LAvONWORvoQsBiRfQIwedCwDnhb8WP6ELANCfUeI7oQsDU2ixFj+hCwPAS/yT85kLAeXO4VvvnQsDCqCAWnOhCwNm49uxW6ELAniMTbLPlQsD+vvu6PuhCwAW1raBI6ELAOuPiRbLoQsB0qK6Vs+hCwCVW62ms5ULA/ehp+svmQsAgyEl6++ZCwLNVMMf+50LACvXTAw/oQsAtr56L7edCwPCrrEx86ELAE1Uqbn3oQsBwmtsQpehCwJmgI0Wm6ELAD4db9ATpQsA59FC6+OhCwAOkqscF6ELA0Zp6OFzoQsADVvWPkehCwNl8t9Sc6ELA6goRy8HoQsBSrwBL0+hCwDtTpqD06ELAoVaooOjoQsAHrQtot+lCwB57zd306ELACuvOLOzoQsCPGhNiLulCwIPHrwbF6ELAwedmA1nnQsADPj+MEOhCwCAI88ue50LA9PDQPYznQsCq61i+EehCwHwSM1Z26ULAeaqmmMHlQsARNXYusedCwBSB4q576ELAk7AM/VXoQsAbC9DXKOhCwA==",
            "dtype": "f8"
           },
           "legendgroup": "",
           "lon": {
            "bdata": "Us8GieIeYkC5KEim4h5iQHCO34DbHmJAEUL2MOoeYkB7eEPY+B5iQNM6YA3mHmJAvcInQk8eYkAiXSLNbh5iQKGzFrBOHmJA+uNJFBIeYkDaFuluLB5iQCObcTvQHmJAxZeivyQfYkBvEyhBIx9iQJjwU27lHmJA0i5L4PseYkCqfoTl+B5iQHe3Nn2LHmJAnszDMoseYkBQxyHqlx5iQFE4kjabHmJAgcRdWgAfYkBYzjnT/x5iQNzhIyDuHmJA1QNJTO4eYkCkDhv64R5iQPkuxjzCHmJAX8g05AkfYkDhCkniHB9iQBJeq9LwHmJAAyaR+dceYkCCTJ0N2h5iQCERx3jcHmJAZh2GPeoeYkDmTMkoxR5iQLJLVG/NHmJA+XxaZq0eYkAEmVO4tB5iQLiWqGLzHmJA8185pbAeYkDAxpo2yB5iQEOqKF7lHmJAPQuEldEeYkAUrxXhxB5iQAvrxruDHmJASdBGS9EeYkDBq4Kk0R5iQJHJsQ7KHmJAe7Wrqe8eYkAPxXC33B5iQEfX2GfmHmJAX9SLLeYeYkAfAwUg5h5iQFcsuP5hHmJAS8e9dRUfYkCIKA3S/x5iQAmEAI0wH2JAyDdnhsUdYkBX6hf0Nx5iQH2EUJQ6HmJAnVKY1uoeYkBHbKCO4R5iQMRiDmHAHWJAI8Jc3l4eYkBTk7//Xx5iQJcCsfCeHmJASBijAZ4eYkBdeupHmR5iQJbRRK8RH2JAaD2dpxEfYkCuknZAJR9iQJdQqEQlH2JAzy6d3h4eYkAhOgSOpB5iQMHTtw6GHmJAVegPD3keYkCjAWFMfx5iQLU3dIqAHmJAKSp2jycfYkCs7JKjRh5iQM9w+8y2HmJAKRlKN9MeYkCsFwmOxx5iQDmzwMuqHmJAJOergfkeYkAV6dkHlB5iQMZrwf8UH2JAQXVaVLceYkAOZnaKcx5iQFeeOGdhHmJAWawbzmAeYkBKbgMtcx5iQLcpmt7QHmJAhUwqAe4dYkCg3PgLxB5iQG/gSH+THmJAXeMSy9YeYkD9teXxzh5iQA==",
            "dtype": "f8"
           },
           "marker": {
            "color": {
             "bdata": "PQrXo3A9RUCrqqqqqno6QDn1e26J00NAkkceeeQRSEBVVVVVVXVpQH9Hr4zt91BAa7RGa7RGJ0DXo3A9CjdIQLPLLrvsshNA+ZZv+ZZvFUBy188WK8MfQM9iOovpLDZAqPUrBWr9MkBFpmG7WZ4yQOzETuzEjjFA0UUXXXTRI0Dbtm3btu1PQJqZmZmZmUdArB90VOALS0AlSZIkSSJyQEN5DeU1lDNAVVVVVVW1N0A5L4v4BFIpQMHLKXg5BSpA5hS8nIKXFUA4velNbzpPQB4eHh4eHiNA1ofG+tBYE0Bl+EYUmHQgQNpiZfhGFCxAVVVVVVVVIEAYhmEYhmFIQAAAAAAAQDVAJTIN283yP0B00UUXXfQ1QAAAAAAAuEJAexSuR+F6FkDqOxv1nY0hQIXrUbgehRxA8fDw8PDwDEAAAAAAAAAsQCd2Yid2AjZAeHh4eHh4IEChvYT2EtotQLgehetROEJA05ve9KY3ZECtXylQ61cyQGr9SoFavyJAVVVVVVX9MEAK1PqVArVIQLCvr6+vLzZADqkJxlvZJEDsxE7sxE4ZQIZhGIZhGBZATwnylCBP+T99Z6O+s9EzQML5GJyPwQ1ApXiBTIoXCEB00UUXXfRFQArXo3A9ChJAvZ0hMW9nNkAAAAAAAMBxQKuqqqqqKgxAbzBFPusGA0BvlieRadgOQDMzMzMzk0JAHuSuny1WQUDzGsprKC9KQAAAAAAAAE9A9aY3velNG0CamZmZmRknQF100UUXXQRAz/M8z/M8KUCrqqqqqio7QIwuuuiiS0NAL7rooouOXkCe53me5/lYQNhQXkN5zVtAYhiGYRiGTUD0PM/zPM85QG7btm3btv0/q6qqqqqqQkCXlpaWlpY1QM3MzMzMTD1AWlpaWlpaVkDKayivobxQQKuqqqqq6lJA09LS0tISUECGYRiGYRg3QDaU11BeQyNAjuM4juM4K0BddNFFF10kQOLh4eHh4StAAAAAAACACEDoqMAXV79CQEmSJEmSJEhAVVVVVVVVZ0DRRRdddAFjQA==",
             "dtype": "f8"
            },
            "coloraxis": "coloraxis",
            "size": {
             "bdata": "PQrXo3A9RUCrqqqqqno6QDn1e26J00NAkkceeeQRSEBVVVVVVXVpQH9Hr4zt91BAa7RGa7RGJ0DXo3A9CjdIQLPLLrvsshNA+ZZv+ZZvFUBy188WK8MfQM9iOovpLDZAqPUrBWr9MkBFpmG7WZ4yQOzETuzEjjFA0UUXXXTRI0Dbtm3btu1PQJqZmZmZmUdArB90VOALS0AlSZIkSSJyQEN5DeU1lDNAVVVVVVW1N0A5L4v4BFIpQMHLKXg5BSpA5hS8nIKXFUA4velNbzpPQB4eHh4eHiNA1ofG+tBYE0Bl+EYUmHQgQNpiZfhGFCxAVVVVVVVVIEAYhmEYhmFIQAAAAAAAQDVAJTIN283yP0B00UUXXfQ1QAAAAAAAuEJAexSuR+F6FkDqOxv1nY0hQIXrUbgehRxA8fDw8PDwDEAAAAAAAAAsQCd2Yid2AjZAeHh4eHh4IEChvYT2EtotQLgehetROEJA05ve9KY3ZECtXylQ61cyQGr9SoFavyJAVVVVVVX9MEAK1PqVArVIQLCvr6+vLzZADqkJxlvZJEDsxE7sxE4ZQIZhGIZhGBZATwnylCBP+T99Z6O+s9EzQML5GJyPwQ1ApXiBTIoXCEB00UUXXfRFQArXo3A9ChJAvZ0hMW9nNkAAAAAAAMBxQKuqqqqqKgxAbzBFPusGA0BvlieRadgOQDMzMzMzk0JAHuSuny1WQUDzGsprKC9KQAAAAAAAAE9A9aY3velNG0CamZmZmRknQF100UUXXQRAz/M8z/M8KUCrqqqqqio7QIwuuuiiS0NAL7rooouOXkCe53me5/lYQNhQXkN5zVtAYhiGYRiGTUD0PM/zPM85QG7btm3btv0/q6qqqqqqQkCXlpaWlpY1QM3MzMzMTD1AWlpaWlpaVkDKayivobxQQKuqqqqq6lJA09LS0tISUECGYRiGYRg3QDaU11BeQyNAjuM4juM4K0BddNFFF10kQOLh4eHh4StAAAAAAACACEDoqMAXV79CQEmSJEmSJEhAVVVVVVVVZ0DRRRdddAFjQA==",
             "dtype": "f8"
            },
            "sizemode": "area",
            "sizeref": 0.32238095238095243
           },
           "mode": "markers",
           "name": "",
           "showlegend": false,
           "subplot": "mapbox",
           "type": "scattermapbox"
          }
         ],
         "name": "17"
        },
        {
         "data": [
          {
           "hovertemplate": "<b>%{hovertext}</b><br><br>hour=18<br>pedestrian_count=%{marker.color}<br>latitude=%{lat}<br>longitude=%{lon}<extra></extra>",
           "hovertext": [
            "Bou292_T",
            "Bou283_T",
            "Swa295_T",
            "Swa123_T",
            "PriNW_T",
            "FliS_T",
            "WebBN_T",
            "Col700_T",
            "BouHbr_T",
            "WatCit_T",
            "NewQ_T",
            "SanBri_T",
            "Col15_T",
            "Col12_T",
            "LtB210_T",
            "LtB170_T",
            "Bourke155_T",
            "Col623_T",
            "Col620_T",
            "MCEC_T",
            "Vic_T",
            "VAC_T",
            "AG_T",
            "Lon189_T",
            "Lyg161_T",
            "SouthB_T",
            "Que85_T",
            "AlfPl_T",
            "Spr201_T",
            "Swa31",
            "UM1_T",
            "UM2_T",
            "UM3_T",
            "Swa148_T",
            "Pel147_T",
            "Eli250_T",
            "QVMQ_T",
            "Eli501_T",
            "Lyg309_T",
            "Fra118_T",
            "Eli263_T",
            "Col254_T",
            "Swa607_T",
            "Lon364_T",
            "Bou688_T",
            "RMIT_T",
            "RMIT14_T",
            "Lat224_T",
            "Bou231_T",
            "QVN_T",
            "FLDegS_T",
            "FLDegN_T",
            "FLDegC_T",
            "Errol20_T",
            "WestWP_T",
            "ACMI_T",
            "SprFli_T",
            "KenMac_T",
            "HarEsP_T",
            "HarEsB_T",
            "FliSS_T",
            "ElFi_T",
            "488Mac_T",
            "574Qub_T",
            "Errol23_T",
            "280Will_T",
            "261Will_T",
            "LatWill_T",
            "Fli114F_T",
            "Fli114C_T",
            "BirBridge_T",
            "BirBridge_T",
            "Bou892T",
            "King2_T",
            "King335_T",
            "Spen229_T",
            "Spen201_T",
            "Spen161_T",
            "BirFed1120_T",
            "BouHbr2353_T",
            "EntPark1671_T",
            "Signal1647_T",
            "Boyd2837_T",
            "474Fl_T",
            "Hammer1584_T",
            "Spencer_T",
            "BirArt1109_T",
            "Eli489_T",
            "Lat526_T",
            "Spen475_T",
            "Spen484_T",
            "Lat526_T",
            "Pow61_T",
            "Mac330_T",
            "Eli368_T",
            "King163_T",
            "Eli124_T",
            "Eli197_T"
           ],
           "lat": {
            "bdata": "4za3lSDoQsDk7jnRKuhCwMYt7ljP50LAW2Lh+03oQsCjMs2NzOhCwEqs1tPY6ELA7Ei78lXpQsBVV9Mv8OhCwH+1ckjN6ELAnEQxN2foQsAwSkwnROhCwMJ4m3H56ELAoIXK4CToQsAs8JkVH+hCwPAKbc7750LATsGOvebnQsAP2FGsBehCwGjMZgbY6ELA9Bo3DNHoQsD3QvlpeelCwDD22kMt50LAW311VSDpQsDEaAwp9ehCwIG0/wHW50LA9yBGAJ7mQsD8rfjh++hCwPiAaeaD6ELA9o4ihCroQsB39jLdredCwOmxkC2J6ELAa9n3NGnmQsBRrEt0M+ZCwAqj9q4D5kLAo8ubwzXoQsAIkF9HteZCwMNwQ8YC6ELAUBlBWzXnQsC8UfGgVedCwOb2YIwn5kLAFd/1PnrnQsDoOPG0AOhCwDZZQPRm6ELAfJkoQurmQsBWndUC++dCwGlRn+SO6ELApjDG8nTnQsDgBzHhYedCwHIaYO6s50LAvONWORvoQsBiRfQIwedCwDnhb8WP6ELANCfUeI7oQsDU2ixFj+hCwPAS/yT85kLAeXO4VvvnQsDCqCAWnOhCwNm49uxW6ELAniMTbLPlQsD+vvu6PuhCwAW1raBI6ELAOuPiRbLoQsB0qK6Vs+hCwCVW62ms5ULA/ehp+svmQsAgyEl6++ZCwLNVMMf+50LACvXTAw/oQsAtr56L7edCwPCrrEx86ELAE1Uqbn3oQsBwmtsQpehCwJmgI0Wm6ELAD4db9ATpQsA59FC6+OhCwAOkqscF6ELA0Zp6OFzoQsADVvWPkehCwNl8t9Sc6ELA6goRy8HoQsBSrwBL0+hCwDtTpqD06ELAoVaooOjoQsAHrQtot+lCwB57zd306ELACuvOLOzoQsCPGhNiLulCwIPHrwbF6ELAwedmA1nnQsADPj+MEOhCwCAI88ue50LA9PDQPYznQsCq61i+EehCwHwSM1Z26ULAeaqmmMHlQsARNXYusedCwBSB4q576ELAk7AM/VXoQsAbC9DXKOhCwA==",
            "dtype": "f8"
           },
           "legendgroup": "",
           "lon": {
            "bdata": "Us8GieIeYkC5KEim4h5iQHCO34DbHmJAEUL2MOoeYkB7eEPY+B5iQNM6YA3mHmJAvcInQk8eYkAiXSLNbh5iQKGzFrBOHmJA+uNJFBIeYkDaFuluLB5iQCObcTvQHmJAxZeivyQfYkBvEyhBIx9iQJjwU27lHmJA0i5L4PseYkCqfoTl+B5iQHe3Nn2LHmJAnszDMoseYkBQxyHqlx5iQFE4kjabHmJAgcRdWgAfYkBYzjnT/x5iQNzhIyDuHmJA1QNJTO4eYkCkDhv64R5iQPkuxjzCHmJAX8g05AkfYkDhCkniHB9iQBJeq9LwHmJAAyaR+dceYkCCTJ0N2h5iQCERx3jcHmJAZh2GPeoeYkDmTMkoxR5iQLJLVG/NHmJA+XxaZq0eYkAEmVO4tB5iQLiWqGLzHmJA8185pbAeYkDAxpo2yB5iQEOqKF7lHmJAPQuEldEeYkAUrxXhxB5iQAvrxruDHmJASdBGS9EeYkDBq4Kk0R5iQJHJsQ7KHmJAe7Wrqe8eYkAPxXC33B5iQEfX2GfmHmJAX9SLLeYeYkAfAwUg5h5iQFcsuP5hHmJAS8e9dRUfYkCIKA3S/x5iQAmEAI0wH2JAyDdnhsUdYkBX6hf0Nx5iQH2EUJQ6HmJAnVKY1uoeYkBHbKCO4R5iQMRiDmHAHWJAI8Jc3l4eYkBTk7//Xx5iQJcCsfCeHmJASBijAZ4eYkBdeupHmR5iQJbRRK8RH2JAaD2dpxEfYkCuknZAJR9iQJdQqEQlH2JAzy6d3h4eYkAhOgSOpB5iQMHTtw6GHmJAVegPD3keYkCjAWFMfx5iQLU3dIqAHmJAKSp2jycfYkCs7JKjRh5iQM9w+8y2HmJAKRlKN9MeYkCsFwmOxx5iQDmzwMuqHmJAJOergfkeYkAV6dkHlB5iQMZrwf8UH2JAQXVaVLceYkAOZnaKcx5iQFeeOGdhHmJAWawbzmAeYkBKbgMtcx5iQLcpmt7QHmJAhUwqAe4dYkCg3PgLxB5iQG/gSH+THmJAXeMSy9YeYkD9teXxzh5iQA==",
            "dtype": "f8"
           },
           "marker": {
            "color": {
             "bdata": "btu2bds2QUB00UUXXXQ1QE1ZU9aUtUJAr0TtStTuQ0AAAAAAAHJmQJIkSZIkSUNAX9AX9AV9H0BmZmZmZmYwQEUrbA4kWglAv6vFTZjfEUAGLnCBC1wiQPqCvqAv6CVAzczMzMzsJUAvkEnxApkgQKzFTZjf1TNAnud5nuf5J0Acx3EcxxFRQAAAAAAAgDhAfO+99957O0CmpaWlpaVsQPHw8PDw8DRAvNHU+bWHNEBmZmZmZmYoQCa0l9BeQitAiTvijrgjGED6gr6gL+hIQAghhBBCCB1A+awbTJHPCkDPrz3ksmIUQC0tLS0tLR1AchzHcRzHHEBpaWlpaelAQDmO4ziOYzBAVL/nljj1OkAAAAAAALAyQEIIIYQQQj5AOSs/Ic7KF0CdX3vIZcUkQD7e4z3e4x1Aip3YiZ3YCUDr0G+2Dv0qQCVJkiRJEihAfN3rXve6G0DRRRdddBEwQKesKWvKGjNAaWlpaWkpXkC66KKLLvotQAwMDAwMDCRAz/M8z/M8LUCBC1zgApdEQPECmRQvkC1Ae8hlxUAJIUDyjGc84xkPQNFFF1100RlAtFv41ZhIE0D0m61Dv9kmQNXA3jE1sAdAYI2J9EDlBECmpaWlpSVFQJqZmZmZmQZACW80dX7tL0A5juM4jkNqQBmcj8H5GAxAsMZEeqByBkDpgcrZLfwSQNPS0tLS0jtAdNFFF120LEAzMzMzMzM8QAAAAAAAAEZAiIeHh4eHE0AAAAAAACAjQAAAAAAAAARADeU1lNdQIkAAAAAAAMA1QGlpaWlpaUBAAAAAAABIX0APDw8PD09TQI7jOI7jmFFAlNdQXkN5S0CmpaWlpaUjQGZmZmZmZvY/AAAAAABAMkB3d3d3d3czQAAAAAAAgDhAiIeHh4eHV0CO4ziO43hHQJIkSZIkCVFAS0tLS0uLUEBmZmZmZmYxQFFeQ3kN5R1A3t3d3d3dK0B3d3d3d3cpQM3MzMzMTChAAAAAAABAA0Cjiy666EJBQLdt27ZtG0dAS0tLS0trYUCrqqqqqupbQA==",
             "dtype": "f8"
            },
            "coloraxis": "coloraxis",
            "size": {
             "bdata": "btu2bds2QUB00UUXXXQ1QE1ZU9aUtUJAr0TtStTuQ0AAAAAAAHJmQJIkSZIkSUNAX9AX9AV9H0BmZmZmZmYwQEUrbA4kWglAv6vFTZjfEUAGLnCBC1wiQPqCvqAv6CVAzczMzMzsJUAvkEnxApkgQKzFTZjf1TNAnud5nuf5J0Acx3EcxxFRQAAAAAAAgDhAfO+99957O0CmpaWlpaVsQPHw8PDw8DRAvNHU+bWHNEBmZmZmZmYoQCa0l9BeQitAiTvijrgjGED6gr6gL+hIQAghhBBCCB1A+awbTJHPCkDPrz3ksmIUQC0tLS0tLR1AchzHcRzHHEBpaWlpaelAQDmO4ziOYzBAVL/nljj1OkAAAAAAALAyQEIIIYQQQj5AOSs/Ic7KF0CdX3vIZcUkQD7e4z3e4x1Aip3YiZ3YCUDr0G+2Dv0qQCVJkiRJEihAfN3rXve6G0DRRRdddBEwQKesKWvKGjNAaWlpaWkpXkC66KKLLvotQAwMDAwMDCRAz/M8z/M8LUCBC1zgApdEQPECmRQvkC1Ae8hlxUAJIUDyjGc84xkPQNFFF1100RlAtFv41ZhIE0D0m61Dv9kmQNXA3jE1sAdAYI2J9EDlBECmpaWlpSVFQJqZmZmZmQZACW80dX7tL0A5juM4jkNqQBmcj8H5GAxAsMZEeqByBkDpgcrZLfwSQNPS0tLS0jtAdNFFF120LEAzMzMzMzM8QAAAAAAAAEZAiIeHh4eHE0AAAAAAACAjQAAAAAAAAARADeU1lNdQIkAAAAAAAMA1QGlpaWlpaUBAAAAAAABIX0APDw8PD09TQI7jOI7jmFFAlNdQXkN5S0CmpaWlpaUjQGZmZmZmZvY/AAAAAABAMkB3d3d3d3czQAAAAAAAgDhAiIeHh4eHV0CO4ziO43hHQJIkSZIkCVFAS0tLS0uLUEBmZmZmZmYxQFFeQ3kN5R1A3t3d3d3dK0B3d3d3d3cpQM3MzMzMTChAAAAAAABAA0Cjiy666EJBQLdt27ZtG0dAS0tLS0trYUCrqqqqqupbQA==",
             "dtype": "f8"
            },
            "sizemode": "area",
            "sizeref": 0.32238095238095243
           },
           "mode": "markers",
           "name": "",
           "showlegend": false,
           "subplot": "mapbox",
           "type": "scattermapbox"
          }
         ],
         "name": "18"
        },
        {
         "data": [
          {
           "hovertemplate": "<b>%{hovertext}</b><br><br>hour=19<br>pedestrian_count=%{marker.color}<br>latitude=%{lat}<br>longitude=%{lon}<extra></extra>",
           "hovertext": [
            "Bou292_T",
            "Bou283_T",
            "Swa295_T",
            "Swa123_T",
            "PriNW_T",
            "FliS_T",
            "WebBN_T",
            "Col700_T",
            "BouHbr_T",
            "WatCit_T",
            "NewQ_T",
            "SanBri_T",
            "Col15_T",
            "Col12_T",
            "LtB210_T",
            "LtB170_T",
            "Bourke155_T",
            "Col623_T",
            "Col620_T",
            "MCEC_T",
            "Vic_T",
            "VAC_T",
            "AG_T",
            "Lon189_T",
            "Lyg161_T",
            "SouthB_T",
            "Que85_T",
            "AlfPl_T",
            "Spr201_T",
            "Swa31",
            "UM1_T",
            "UM2_T",
            "UM3_T",
            "Swa148_T",
            "Pel147_T",
            "Eli250_T",
            "QVMQ_T",
            "Eli501_T",
            "Lyg309_T",
            "Fra118_T",
            "Eli263_T",
            "Col254_T",
            "Swa607_T",
            "Lon364_T",
            "Bou688_T",
            "RMIT_T",
            "RMIT14_T",
            "Lat224_T",
            "Bou231_T",
            "QVN_T",
            "FLDegS_T",
            "FLDegN_T",
            "FLDegC_T",
            "Errol20_T",
            "WestWP_T",
            "ACMI_T",
            "SprFli_T",
            "KenMac_T",
            "HarEsP_T",
            "HarEsB_T",
            "FliSS_T",
            "ElFi_T",
            "488Mac_T",
            "574Qub_T",
            "Errol23_T",
            "280Will_T",
            "261Will_T",
            "LatWill_T",
            "Fli114F_T",
            "Fli114C_T",
            "BirBridge_T",
            "BirBridge_T",
            "Bou892T",
            "King2_T",
            "King335_T",
            "Spen229_T",
            "Spen201_T",
            "Spen161_T",
            "BirFed1120_T",
            "BouHbr2353_T",
            "EntPark1671_T",
            "Signal1647_T",
            "Boyd2837_T",
            "474Fl_T",
            "Hammer1584_T",
            "Spencer_T",
            "BirArt1109_T",
            "Eli489_T",
            "Lat526_T",
            "Spen475_T",
            "Spen484_T",
            "Lat526_T",
            "Pow61_T",
            "Mac330_T",
            "Eli368_T",
            "King163_T",
            "Eli124_T",
            "Eli197_T"
           ],
           "lat": {
            "bdata": "4za3lSDoQsDk7jnRKuhCwMYt7ljP50LAW2Lh+03oQsCjMs2NzOhCwEqs1tPY6ELA7Ei78lXpQsBVV9Mv8OhCwH+1ckjN6ELAnEQxN2foQsAwSkwnROhCwMJ4m3H56ELAoIXK4CToQsAs8JkVH+hCwPAKbc7750LATsGOvebnQsAP2FGsBehCwGjMZgbY6ELA9Bo3DNHoQsD3QvlpeelCwDD22kMt50LAW311VSDpQsDEaAwp9ehCwIG0/wHW50LA9yBGAJ7mQsD8rfjh++hCwPiAaeaD6ELA9o4ihCroQsB39jLdredCwOmxkC2J6ELAa9n3NGnmQsBRrEt0M+ZCwAqj9q4D5kLAo8ubwzXoQsAIkF9HteZCwMNwQ8YC6ELAUBlBWzXnQsC8UfGgVedCwOb2YIwn5kLAFd/1PnrnQsDoOPG0AOhCwDZZQPRm6ELAfJkoQurmQsBWndUC++dCwGlRn+SO6ELApjDG8nTnQsDgBzHhYedCwHIaYO6s50LAvONWORvoQsBiRfQIwedCwDnhb8WP6ELANCfUeI7oQsDU2ixFj+hCwPAS/yT85kLAeXO4VvvnQsDCqCAWnOhCwNm49uxW6ELAniMTbLPlQsD+vvu6PuhCwAW1raBI6ELAOuPiRbLoQsB0qK6Vs+hCwCVW62ms5ULA/ehp+svmQsAgyEl6++ZCwLNVMMf+50LACvXTAw/oQsAtr56L7edCwPCrrEx86ELAE1Uqbn3oQsBwmtsQpehCwJmgI0Wm6ELAD4db9ATpQsA59FC6+OhCwAOkqscF6ELA0Zp6OFzoQsADVvWPkehCwNl8t9Sc6ELA6goRy8HoQsBSrwBL0+hCwDtTpqD06ELAoVaooOjoQsAHrQtot+lCwB57zd306ELACuvOLOzoQsCPGhNiLulCwIPHrwbF6ELAwedmA1nnQsADPj+MEOhCwCAI88ue50LA9PDQPYznQsCq61i+EehCwHwSM1Z26ULAeaqmmMHlQsARNXYusedCwBSB4q576ELAk7AM/VXoQsAbC9DXKOhCwA==",
            "dtype": "f8"
           },
           "legendgroup": "",
           "lon": {
            "bdata": "Us8GieIeYkC5KEim4h5iQHCO34DbHmJAEUL2MOoeYkB7eEPY+B5iQNM6YA3mHmJAvcInQk8eYkAiXSLNbh5iQKGzFrBOHmJA+uNJFBIeYkDaFuluLB5iQCObcTvQHmJAxZeivyQfYkBvEyhBIx9iQJjwU27lHmJA0i5L4PseYkCqfoTl+B5iQHe3Nn2LHmJAnszDMoseYkBQxyHqlx5iQFE4kjabHmJAgcRdWgAfYkBYzjnT/x5iQNzhIyDuHmJA1QNJTO4eYkCkDhv64R5iQPkuxjzCHmJAX8g05AkfYkDhCkniHB9iQBJeq9LwHmJAAyaR+dceYkCCTJ0N2h5iQCERx3jcHmJAZh2GPeoeYkDmTMkoxR5iQLJLVG/NHmJA+XxaZq0eYkAEmVO4tB5iQLiWqGLzHmJA8185pbAeYkDAxpo2yB5iQEOqKF7lHmJAPQuEldEeYkAUrxXhxB5iQAvrxruDHmJASdBGS9EeYkDBq4Kk0R5iQJHJsQ7KHmJAe7Wrqe8eYkAPxXC33B5iQEfX2GfmHmJAX9SLLeYeYkAfAwUg5h5iQFcsuP5hHmJAS8e9dRUfYkCIKA3S/x5iQAmEAI0wH2JAyDdnhsUdYkBX6hf0Nx5iQH2EUJQ6HmJAnVKY1uoeYkBHbKCO4R5iQMRiDmHAHWJAI8Jc3l4eYkBTk7//Xx5iQJcCsfCeHmJASBijAZ4eYkBdeupHmR5iQJbRRK8RH2JAaD2dpxEfYkCuknZAJR9iQJdQqEQlH2JAzy6d3h4eYkAhOgSOpB5iQMHTtw6GHmJAVegPD3keYkCjAWFMfx5iQLU3dIqAHmJAKSp2jycfYkCs7JKjRh5iQM9w+8y2HmJAKRlKN9MeYkCsFwmOxx5iQDmzwMuqHmJAJOergfkeYkAV6dkHlB5iQMZrwf8UH2JAQXVaVLceYkAOZnaKcx5iQFeeOGdhHmJAWawbzmAeYkBKbgMtcx5iQLcpmt7QHmJAhUwqAe4dYkCg3PgLxB5iQG/gSH+THmJAXeMSy9YeYkD9teXxzh5iQA==",
            "dtype": "f8"
           },
           "marker": {
            "color": {
             "bdata": "d8QdcUdcNEB+fn5+fn4mQM3MzMzMpEBAkZCQkJCQOkBVVVVVVRVdQHZiJ3ZiJzhANj8sUgaeDkD2DESlI3sWQCd2Yid2YgdAR/YMRKUjF0Bkz0BUOrIfQGRwPgbnYxhAnud5nud5FEAfqJzdwq8GQNu2bdu2bTJAAAAAAADAKECO4ziO4/hNQERERERExDJA25WoXYlaMEAAAAAAAMBdQAAAAAAAAC5AcUfcEXfEKECykpWsZCUhQBjIpHiBTChAwzAMwzAMHEAAAAAAAEBCQLsStStRuxJAb3rTm970AkDe3d3d3d0NQHv16tWrVxNAoS/oC/qCEkAAAAAAALA3QJIkSZIkSSxAq6qqqqpqNECrqqqqqqowQD4DUenInjZAtJfQXkJ7EUAzMzMzM3MhQPQFfUFf0BtAFDuxEzuxC0C3bdu2bdsjQKuqqqqqqhpAlYGnW/PDFkC66KKLLjoqQAAAAAAAACdAAAAAAAC4WECdX3vIZcUqQGpTm9rUpiJAoQhFKEIRLEAXuMAFLnBAQBiGYRiG4SZAdNFFF110GEBzTyMs9zQGQGZmZmZmZhpAAAAAAAAABkBXonYlalcYQH1no76zUf8/sRM7sRM7AUDe3d3d3d1EQLdt27Zt2wJAkiRJkiTJI0BpaWlpacliQN/3fd/3fQdAwzAMwzAMB0C/q8VNmN8RQCivobyG8jNA7og74o64HUAAAAAAADAyQOQ4juM4jjtAt23btm3bBkAAAAAAAIAZQAAAAAAAAPA/LS0tLS0tHUBLS0tLS0sxQJIkSZIkSTtAjuM4juN4WkA5juM4jsNQQGZmZmZmBklAq6qqqqoqOEBRXkN5DeUZQAAAAAAAAAJApqWlpaWlHUAN5TWU11AxQAAAAAAAwDRAAAAAAADgUEDKayivobxBQA8PDw8PD0JAS0tLS0tLTECamZmZmZkvQAAAAAAAABRAh/IaymsoKUA8PDw8PDwmQAAAAAAAACxAkYUsZCELAUDEHOYwhzk+QAAAAAAAyENAAAAAAABAV0AAAAAAAKBUQA==",
             "dtype": "f8"
            },
            "coloraxis": "coloraxis",
            "size": {
             "bdata": "d8QdcUdcNEB+fn5+fn4mQM3MzMzMpEBAkZCQkJCQOkBVVVVVVRVdQHZiJ3ZiJzhANj8sUgaeDkD2DESlI3sWQCd2Yid2YgdAR/YMRKUjF0Bkz0BUOrIfQGRwPgbnYxhAnud5nud5FEAfqJzdwq8GQNu2bdu2bTJAAAAAAADAKECO4ziO4/hNQERERERExDJA25WoXYlaMEAAAAAAAMBdQAAAAAAAAC5AcUfcEXfEKECykpWsZCUhQBjIpHiBTChAwzAMwzAMHEAAAAAAAEBCQLsStStRuxJAb3rTm970AkDe3d3d3d0NQHv16tWrVxNAoS/oC/qCEkAAAAAAALA3QJIkSZIkSSxAq6qqqqpqNECrqqqqqqowQD4DUenInjZAtJfQXkJ7EUAzMzMzM3MhQPQFfUFf0BtAFDuxEzuxC0C3bdu2bdsjQKuqqqqqqhpAlYGnW/PDFkC66KKLLjoqQAAAAAAAACdAAAAAAAC4WECdX3vIZcUqQGpTm9rUpiJAoQhFKEIRLEAXuMAFLnBAQBiGYRiG4SZAdNFFF110GEBzTyMs9zQGQGZmZmZmZhpAAAAAAAAABkBXonYlalcYQH1no76zUf8/sRM7sRM7AUDe3d3d3d1EQLdt27Zt2wJAkiRJkiTJI0BpaWlpacliQN/3fd/3fQdAwzAMwzAMB0C/q8VNmN8RQCivobyG8jNA7og74o64HUAAAAAAADAyQOQ4juM4jjtAt23btm3bBkAAAAAAAIAZQAAAAAAAAPA/LS0tLS0tHUBLS0tLS0sxQJIkSZIkSTtAjuM4juN4WkA5juM4jsNQQGZmZmZmBklAq6qqqqoqOEBRXkN5DeUZQAAAAAAAAAJApqWlpaWlHUAN5TWU11AxQAAAAAAAwDRAAAAAAADgUEDKayivobxBQA8PDw8PD0JAS0tLS0tLTECamZmZmZkvQAAAAAAAABRAh/IaymsoKUA8PDw8PDwmQAAAAAAAACxAkYUsZCELAUDEHOYwhzk+QAAAAAAAyENAAAAAAABAV0AAAAAAAKBUQA==",
             "dtype": "f8"
            },
            "sizemode": "area",
            "sizeref": 0.32238095238095243
           },
           "mode": "markers",
           "name": "",
           "showlegend": false,
           "subplot": "mapbox",
           "type": "scattermapbox"
          }
         ],
         "name": "19"
        },
        {
         "data": [
          {
           "hovertemplate": "<b>%{hovertext}</b><br><br>hour=20<br>pedestrian_count=%{marker.color}<br>latitude=%{lat}<br>longitude=%{lon}<extra></extra>",
           "hovertext": [
            "Bou292_T",
            "Bou283_T",
            "Swa295_T",
            "Swa123_T",
            "PriNW_T",
            "FliS_T",
            "WebBN_T",
            "Col700_T",
            "BouHbr_T",
            "WatCit_T",
            "NewQ_T",
            "SanBri_T",
            "Col15_T",
            "Col12_T",
            "LtB210_T",
            "LtB170_T",
            "Bourke155_T",
            "Col623_T",
            "Col620_T",
            "MCEC_T",
            "Vic_T",
            "VAC_T",
            "AG_T",
            "Lon189_T",
            "Lyg161_T",
            "SouthB_T",
            "Que85_T",
            "AlfPl_T",
            "Spr201_T",
            "Swa31",
            "UM1_T",
            "UM2_T",
            "UM3_T",
            "Swa148_T",
            "Pel147_T",
            "Eli250_T",
            "QVMQ_T",
            "Eli501_T",
            "Lyg309_T",
            "Fra118_T",
            "Eli263_T",
            "Col254_T",
            "Swa607_T",
            "Lon364_T",
            "Bou688_T",
            "RMIT_T",
            "RMIT14_T",
            "Lat224_T",
            "Bou231_T",
            "QVN_T",
            "FLDegS_T",
            "FLDegN_T",
            "FLDegC_T",
            "Errol20_T",
            "WestWP_T",
            "ACMI_T",
            "SprFli_T",
            "KenMac_T",
            "HarEsP_T",
            "HarEsB_T",
            "FliSS_T",
            "ElFi_T",
            "488Mac_T",
            "574Qub_T",
            "Errol23_T",
            "280Will_T",
            "261Will_T",
            "LatWill_T",
            "Fli114F_T",
            "Fli114C_T",
            "BirBridge_T",
            "Bou892T",
            "King2_T",
            "King335_T",
            "Spen229_T",
            "Spen201_T",
            "Spen161_T",
            "BirFed1120_T",
            "BouHbr2353_T",
            "EntPark1671_T",
            "Signal1647_T",
            "Boyd2837_T",
            "474Fl_T",
            "Hammer1584_T",
            "Spencer_T",
            "BirArt1109_T",
            "Eli489_T",
            "Lat526_T",
            "Spen475_T",
            "Spen484_T",
            "Lat526_T",
            "Pow61_T",
            "Mac330_T",
            "Eli368_T",
            "King163_T",
            "Eli124_T",
            "Eli197_T"
           ],
           "lat": {
            "bdata": "4za3lSDoQsDk7jnRKuhCwMYt7ljP50LAW2Lh+03oQsCjMs2NzOhCwEqs1tPY6ELA7Ei78lXpQsBVV9Mv8OhCwH+1ckjN6ELAnEQxN2foQsAwSkwnROhCwMJ4m3H56ELAoIXK4CToQsAs8JkVH+hCwPAKbc7750LATsGOvebnQsAP2FGsBehCwGjMZgbY6ELA9Bo3DNHoQsD3QvlpeelCwDD22kMt50LAW311VSDpQsDEaAwp9ehCwIG0/wHW50LA9yBGAJ7mQsD8rfjh++hCwPiAaeaD6ELA9o4ihCroQsB39jLdredCwOmxkC2J6ELAa9n3NGnmQsBRrEt0M+ZCwAqj9q4D5kLAo8ubwzXoQsAIkF9HteZCwMNwQ8YC6ELAUBlBWzXnQsC8UfGgVedCwOb2YIwn5kLAFd/1PnrnQsDoOPG0AOhCwDZZQPRm6ELAfJkoQurmQsBWndUC++dCwGlRn+SO6ELApjDG8nTnQsDgBzHhYedCwHIaYO6s50LAvONWORvoQsBiRfQIwedCwDnhb8WP6ELANCfUeI7oQsDU2ixFj+hCwPAS/yT85kLAeXO4VvvnQsDCqCAWnOhCwNm49uxW6ELAniMTbLPlQsD+vvu6PuhCwAW1raBI6ELAOuPiRbLoQsB0qK6Vs+hCwCVW62ms5ULA/ehp+svmQsAgyEl6++ZCwLNVMMf+50LACvXTAw/oQsAtr56L7edCwPCrrEx86ELAE1Uqbn3oQsBwmtsQpehCwA+HW/QE6ULAOfRQuvjoQsADpKrHBehCwNGaejhc6ELAA1b1j5HoQsDZfLfUnOhCwOoKEcvB6ELAUq8AS9PoQsA7U6ag9OhCwKFWqKDo6ELAB60LaLfpQsAee83d9OhCwArrzizs6ELAjxoTYi7pQsCDx68GxehCwMHnZgNZ50LAAz4/jBDoQsAgCPPLnudCwPTw0D2M50LAqutYvhHoQsB8EjNWdulCwHmqppjB5ULAETV2LrHnQsAUgeKue+hCwJOwDP1V6ELAGwvQ1yjoQsA=",
            "dtype": "f8"
           },
           "legendgroup": "",
           "lon": {
            "bdata": "Us8GieIeYkC5KEim4h5iQHCO34DbHmJAEUL2MOoeYkB7eEPY+B5iQNM6YA3mHmJAvcInQk8eYkAiXSLNbh5iQKGzFrBOHmJA+uNJFBIeYkDaFuluLB5iQCObcTvQHmJAxZeivyQfYkBvEyhBIx9iQJjwU27lHmJA0i5L4PseYkCqfoTl+B5iQHe3Nn2LHmJAnszDMoseYkBQxyHqlx5iQFE4kjabHmJAgcRdWgAfYkBYzjnT/x5iQNzhIyDuHmJA1QNJTO4eYkCkDhv64R5iQPkuxjzCHmJAX8g05AkfYkDhCkniHB9iQBJeq9LwHmJAAyaR+dceYkCCTJ0N2h5iQCERx3jcHmJAZh2GPeoeYkDmTMkoxR5iQLJLVG/NHmJA+XxaZq0eYkAEmVO4tB5iQLiWqGLzHmJA8185pbAeYkDAxpo2yB5iQEOqKF7lHmJAPQuEldEeYkAUrxXhxB5iQAvrxruDHmJASdBGS9EeYkDBq4Kk0R5iQJHJsQ7KHmJAe7Wrqe8eYkAPxXC33B5iQEfX2GfmHmJAX9SLLeYeYkAfAwUg5h5iQFcsuP5hHmJAS8e9dRUfYkCIKA3S/x5iQAmEAI0wH2JAyDdnhsUdYkBX6hf0Nx5iQH2EUJQ6HmJAnVKY1uoeYkBHbKCO4R5iQMRiDmHAHWJAI8Jc3l4eYkBTk7//Xx5iQJcCsfCeHmJASBijAZ4eYkBdeupHmR5iQJbRRK8RH2JAaD2dpxEfYkCuknZAJR9iQM8und4eHmJAIToEjqQeYkDB07cOhh5iQFXoDw95HmJAowFhTH8eYkC1N3SKgB5iQCkqdo8nH2JArOySo0YeYkDPcPvMth5iQCkZSjfTHmJArBcJjsceYkA5s8DLqh5iQCTnq4H5HmJAFenZB5QeYkDGa8H/FB9iQEF1WlS3HmJADmZ2inMeYkBXnjhnYR5iQFmsG85gHmJASm4DLXMeYkC3KZre0B5iQIVMKgHuHWJAoNz4C8QeYkBv4Eh/kx5iQF3jEsvWHmJA/bXl8c4eYkA=",
            "dtype": "f8"
           },
           "marker": {
            "color": {
             "bdata": "AAAAAACAJkDbN6x9w9odQPXUwkpPLT1As0GTLxs0NEAAAAAAAIBWQAAAAAAAcDRAAAAAAAAABEAzMzMzMzMLQNFFF1100QFAREREREREEkAffPDBBx8MQERERERERBRArs5IxdzqEEBicgUxuYL4P5zrGMW5ji1AbzBFPusGI0CGLGQhC1lFQHlsRdBwUiNA9dTCSk8tKEAvuuiii45VQL3pTW960ytAxnQW01lMHUBln0NqgvEQQHTRRRdddCRAOqQmGG9lG0Bo3WCKfNYzQFTzIHf9bBFAL7rooosu8j+7urq6uroKQAAAAAAAIBBAmCKfdYMpCkAAAAAAAAAmQLKQhSxkIR9A2FBeQ3mNMUCrqqqqqqoOQITlnkZYbi9Am2yyySabEEA6AkVbDZ4XQJ7YiZ3YCRZAAAAAAAAABECWsf2OXhkfQFITjLeyzxNAV2ekYm51FkC/s1Hf2aglQE8J8pQgTyFAXXTRRRfdUkBpq8FzBIokQCVJkiRJEhxAEnj7IYG3I0AwRT7rBlM9QITlnkZYbiJAlUu5lEu5EEBLR/YMRKUDQBCN9aGxPhBAFDuxEzux8z8Fwkg7ViAQQJ6N+s5Gffc/nI/B+Ric/z/btm3btm07QFVVVVVVVfU/JLiP4D6CIEC3bdu2bRteQAAAAAAAAABA1w7MtQNz/T+SJEmSJEkKQEMWspCFLC5A27Zt27atGUBVVVVVVVUrQNFFF1100TBAkiRJkiRJ+j+rqqqqqqr6P4wuuuiiixBAXXTRRRfdMUAAAAAAAIA0QOmiiy66yFNAjC666KJLSkCrqqqqqgo7QIqd2Imd2AlAPDw8PDw8BEAAAAAAAAD4PwzDMAzDMBhAAAAAAAAAHEDIQhaykIUyQDMzMzMzMzBAAAAAAAAAO0AXXXTRRRcVQJ7neZ7n+URAkiRJkiRJIkBu27Zt27YRQDMzMzMzMw1AhmEYhmEYEkAAAAAAAAAiQAAAAAAAAABAS08trPTUOEAAAAAAAABDQAAAAAAAwFFAWchCFrIQUkA=",
             "dtype": "f8"
            },
            "coloraxis": "coloraxis",
            "size": {
             "bdata": "AAAAAACAJkDbN6x9w9odQPXUwkpPLT1As0GTLxs0NEAAAAAAAIBWQAAAAAAAcDRAAAAAAAAABEAzMzMzMzMLQNFFF1100QFAREREREREEkAffPDBBx8MQERERERERBRArs5IxdzqEEBicgUxuYL4P5zrGMW5ji1AbzBFPusGI0CGLGQhC1lFQHlsRdBwUiNA9dTCSk8tKEAvuuiii45VQL3pTW960ytAxnQW01lMHUBln0NqgvEQQHTRRRdddCRAOqQmGG9lG0Bo3WCKfNYzQFTzIHf9bBFAL7rooosu8j+7urq6uroKQAAAAAAAIBBAmCKfdYMpCkAAAAAAAAAmQLKQhSxkIR9A2FBeQ3mNMUCrqqqqqqoOQITlnkZYbi9Am2yyySabEEA6AkVbDZ4XQJ7YiZ3YCRZAAAAAAAAABECWsf2OXhkfQFITjLeyzxNAV2ekYm51FkC/s1Hf2aglQE8J8pQgTyFAXXTRRRfdUkBpq8FzBIokQCVJkiRJEhxAEnj7IYG3I0AwRT7rBlM9QITlnkZYbiJAlUu5lEu5EEBLR/YMRKUDQBCN9aGxPhBAFDuxEzux8z8Fwkg7ViAQQJ6N+s5Gffc/nI/B+Ric/z/btm3btm07QFVVVVVVVfU/JLiP4D6CIEC3bdu2bRteQAAAAAAAAABA1w7MtQNz/T+SJEmSJEkKQEMWspCFLC5A27Zt27atGUBVVVVVVVUrQNFFF1100TBAkiRJkiRJ+j+rqqqqqqr6P4wuuuiiixBAXXTRRRfdMUAAAAAAAIA0QOmiiy66yFNAjC666KJLSkCrqqqqqgo7QIqd2Imd2AlAPDw8PDw8BEAAAAAAAAD4PwzDMAzDMBhAAAAAAAAAHEDIQhaykIUyQDMzMzMzMzBAAAAAAAAAO0AXXXTRRRcVQJ7neZ7n+URAkiRJkiRJIkBu27Zt27YRQDMzMzMzMw1AhmEYhmEYEkAAAAAAAAAiQAAAAAAAAABAS08trPTUOEAAAAAAAABDQAAAAAAAwFFAWchCFrIQUkA=",
             "dtype": "f8"
            },
            "sizemode": "area",
            "sizeref": 0.32238095238095243
           },
           "mode": "markers",
           "name": "",
           "showlegend": false,
           "subplot": "mapbox",
           "type": "scattermapbox"
          }
         ],
         "name": "20"
        },
        {
         "data": [
          {
           "hovertemplate": "<b>%{hovertext}</b><br><br>hour=21<br>pedestrian_count=%{marker.color}<br>latitude=%{lat}<br>longitude=%{lon}<extra></extra>",
           "hovertext": [
            "Bou292_T",
            "Bou283_T",
            "Swa295_T",
            "Swa123_T",
            "PriNW_T",
            "FliS_T",
            "WebBN_T",
            "Col700_T",
            "BouHbr_T",
            "WatCit_T",
            "NewQ_T",
            "SanBri_T",
            "Col15_T",
            "Col12_T",
            "LtB210_T",
            "LtB170_T",
            "Bourke155_T",
            "Col623_T",
            "Col620_T",
            "MCEC_T",
            "Vic_T",
            "VAC_T",
            "AG_T",
            "Lon189_T",
            "Lyg161_T",
            "SouthB_T",
            "Que85_T",
            "AlfPl_T",
            "Spr201_T",
            "Swa31",
            "UM1_T",
            "UM2_T",
            "UM3_T",
            "Swa148_T",
            "Pel147_T",
            "Eli250_T",
            "QVMQ_T",
            "Eli501_T",
            "Lyg309_T",
            "Fra118_T",
            "Eli263_T",
            "Col254_T",
            "Swa607_T",
            "Lon364_T",
            "Bou688_T",
            "RMIT_T",
            "RMIT14_T",
            "Lat224_T",
            "Bou231_T",
            "QVN_T",
            "FLDegS_T",
            "FLDegN_T",
            "FLDegC_T",
            "Errol20_T",
            "WestWP_T",
            "ACMI_T",
            "SprFli_T",
            "KenMac_T",
            "HarEsP_T",
            "HarEsB_T",
            "FliSS_T",
            "ElFi_T",
            "488Mac_T",
            "574Qub_T",
            "Errol23_T",
            "280Will_T",
            "261Will_T",
            "LatWill_T",
            "Fli114F_T",
            "Fli114C_T",
            "BirBridge_T",
            "Bou892T",
            "King2_T",
            "King335_T",
            "Spen229_T",
            "Spen201_T",
            "Spen161_T",
            "BirFed1120_T",
            "BouHbr2353_T",
            "Signal1647_T",
            "474Fl_T",
            "Hammer1584_T",
            "Spencer_T",
            "BirArt1109_T",
            "Eli489_T",
            "Lat526_T",
            "Spen475_T",
            "Spen484_T",
            "Lat526_T",
            "Pow61_T",
            "Mac330_T",
            "Eli368_T",
            "King163_T",
            "Eli124_T",
            "Eli197_T"
           ],
           "lat": {
            "bdata": "4za3lSDoQsDk7jnRKuhCwMYt7ljP50LAW2Lh+03oQsCjMs2NzOhCwEqs1tPY6ELA7Ei78lXpQsBVV9Mv8OhCwH+1ckjN6ELAnEQxN2foQsAwSkwnROhCwMJ4m3H56ELAoIXK4CToQsAs8JkVH+hCwPAKbc7750LATsGOvebnQsAP2FGsBehCwGjMZgbY6ELA9Bo3DNHoQsD3QvlpeelCwDD22kMt50LAW311VSDpQsDEaAwp9ehCwIG0/wHW50LA9yBGAJ7mQsD8rfjh++hCwPiAaeaD6ELA9o4ihCroQsB39jLdredCwOmxkC2J6ELAa9n3NGnmQsBRrEt0M+ZCwAqj9q4D5kLAo8ubwzXoQsAIkF9HteZCwMNwQ8YC6ELAUBlBWzXnQsC8UfGgVedCwOb2YIwn5kLAFd/1PnrnQsDoOPG0AOhCwDZZQPRm6ELAfJkoQurmQsBWndUC++dCwGlRn+SO6ELApjDG8nTnQsDgBzHhYedCwHIaYO6s50LAvONWORvoQsBiRfQIwedCwDnhb8WP6ELANCfUeI7oQsDU2ixFj+hCwPAS/yT85kLAeXO4VvvnQsDCqCAWnOhCwNm49uxW6ELAniMTbLPlQsD+vvu6PuhCwAW1raBI6ELAOuPiRbLoQsB0qK6Vs+hCwCVW62ms5ULA/ehp+svmQsAgyEl6++ZCwLNVMMf+50LACvXTAw/oQsAtr56L7edCwPCrrEx86ELAE1Uqbn3oQsBwmtsQpehCwA+HW/QE6ULAOfRQuvjoQsADpKrHBehCwNGaejhc6ELAA1b1j5HoQsDZfLfUnOhCwOoKEcvB6ELAUq8AS9PoQsChVqig6OhCwB57zd306ELACuvOLOzoQsCPGhNiLulCwIPHrwbF6ELAwedmA1nnQsADPj+MEOhCwCAI88ue50LA9PDQPYznQsCq61i+EehCwHwSM1Z26ULAeaqmmMHlQsARNXYusedCwBSB4q576ELAk7AM/VXoQsAbC9DXKOhCwA==",
            "dtype": "f8"
           },
           "legendgroup": "",
           "lon": {
            "bdata": "Us8GieIeYkC5KEim4h5iQHCO34DbHmJAEUL2MOoeYkB7eEPY+B5iQNM6YA3mHmJAvcInQk8eYkAiXSLNbh5iQKGzFrBOHmJA+uNJFBIeYkDaFuluLB5iQCObcTvQHmJAxZeivyQfYkBvEyhBIx9iQJjwU27lHmJA0i5L4PseYkCqfoTl+B5iQHe3Nn2LHmJAnszDMoseYkBQxyHqlx5iQFE4kjabHmJAgcRdWgAfYkBYzjnT/x5iQNzhIyDuHmJA1QNJTO4eYkCkDhv64R5iQPkuxjzCHmJAX8g05AkfYkDhCkniHB9iQBJeq9LwHmJAAyaR+dceYkCCTJ0N2h5iQCERx3jcHmJAZh2GPeoeYkDmTMkoxR5iQLJLVG/NHmJA+XxaZq0eYkAEmVO4tB5iQLiWqGLzHmJA8185pbAeYkDAxpo2yB5iQEOqKF7lHmJAPQuEldEeYkAUrxXhxB5iQAvrxruDHmJASdBGS9EeYkDBq4Kk0R5iQJHJsQ7KHmJAe7Wrqe8eYkAPxXC33B5iQEfX2GfmHmJAX9SLLeYeYkAfAwUg5h5iQFcsuP5hHmJAS8e9dRUfYkCIKA3S/x5iQAmEAI0wH2JAyDdnhsUdYkBX6hf0Nx5iQH2EUJQ6HmJAnVKY1uoeYkBHbKCO4R5iQMRiDmHAHWJAI8Jc3l4eYkBTk7//Xx5iQJcCsfCeHmJASBijAZ4eYkBdeupHmR5iQJbRRK8RH2JAaD2dpxEfYkCuknZAJR9iQM8und4eHmJAIToEjqQeYkDB07cOhh5iQFXoDw95HmJAowFhTH8eYkC1N3SKgB5iQCkqdo8nH2JArOySo0YeYkApGUo30x5iQDmzwMuqHmJAJOergfkeYkAV6dkHlB5iQMZrwf8UH2JAQXVaVLceYkAOZnaKcx5iQFeeOGdhHmJAWawbzmAeYkBKbgMtcx5iQLcpmt7QHmJAhUwqAe4dYkCg3PgLxB5iQG/gSH+THmJAXeMSy9YeYkD9teXxzh5iQA==",
            "dtype": "f8"
           },
           "marker": {
            "color": {
             "bdata": "P4fUBOOtIEAKCgoKCgoUQPYLsaI0PjZAOyMVc6szMECSJEmSJAlZQHTRRRdd9DBAYbyVfQ6p+T+WnxBn5ScEQKuqqqqqqvk/8Pu+7/u+B0AQBEEQBEEAQOQ4juM4jgtA9YOOCnxxDUBZU9aUNWX9Pw5u9guxoipAq6qqqqoqI0BGF1100QVBQIqd2Imd2B1AFOc6RnGuJUAXXXTRRbdTQBaykIUsZCNAQVyoOQnEKUAb2DumBvYGQLETO7ET+yRAQ6wojY9MFEDWvmHtG9YrQAAAAAAAAA9AkiRJkiRJ8j8/LFIGnm4FQBPmd7W4CQtA2Ymd2ImdBECc3vSmN70hQNFFF1100RtAgU37yRLYKkAAAAAAAAD+P8dxHMdxnChAo4suuuiiB0CC8Vb2OaQUQNOb3vSmNxJAvYbyGsprAEDdwX6rjaEVQLW0tLS0tBRAj8L1KFyPEkAAAAAAAIAfQBQ7sRM7MR1AwzAMwzCMSkB5DeU1lNccQPKUIE8J8hhA9xLaS2gvHkDId+EgenwzQD7rBlPksxpAVVVVVVVVC0AiIiIiIiICQBdswRZswQ5AVVVVVVVV9T+EEEIIIYQIQBdddNFFF/0/SZIkSZIk9T/poosuuuguQDMzMzMzM/M/zUkgLtScHEDpoosuuihZQKiDOqiDOvg/nJubm5ub+z9+eWxF0HACQCVJkiRJkihAlieRadhuEkAlSZIkSZIqQAAAAAAAACxAYid2Yid2AkAAAAAAAADwP5eWlpaWlgZAWchCFrKQKUB6nud5nuczQC1kIQtZyFJA6aKLLrqoSUCGLGQhC1k2QEYXXXTRRfc/q6qqqqqq+j8XXXTRRRcNQGIYhmEYhi9AMzMzMzMz8z9ddNFFF107QFVVVVVVVQFAGIZhGIZhQEB00UUXXXQjQLy7u7u7uwtAAAAAAACAAkCnN73pTW8KQKOLLrrooh9AAAAAAAAA8D9Mkc+6wRQ0QIZhGIZhGD9AwzAMwzCMSEBGF1100QVMQA==",
             "dtype": "f8"
            },
            "coloraxis": "coloraxis",
            "size": {
             "bdata": "P4fUBOOtIEAKCgoKCgoUQPYLsaI0PjZAOyMVc6szMECSJEmSJAlZQHTRRRdd9DBAYbyVfQ6p+T+WnxBn5ScEQKuqqqqqqvk/8Pu+7/u+B0AQBEEQBEEAQOQ4juM4jgtA9YOOCnxxDUBZU9aUNWX9Pw5u9guxoipAq6qqqqoqI0BGF1100QVBQIqd2Imd2B1AFOc6RnGuJUAXXXTRRbdTQBaykIUsZCNAQVyoOQnEKUAb2DumBvYGQLETO7ET+yRAQ6wojY9MFEDWvmHtG9YrQAAAAAAAAA9AkiRJkiRJ8j8/LFIGnm4FQBPmd7W4CQtA2Ymd2ImdBECc3vSmN70hQNFFF1100RtAgU37yRLYKkAAAAAAAAD+P8dxHMdxnChAo4suuuiiB0CC8Vb2OaQUQNOb3vSmNxJAvYbyGsprAEDdwX6rjaEVQLW0tLS0tBRAj8L1KFyPEkAAAAAAAIAfQBQ7sRM7MR1AwzAMwzCMSkB5DeU1lNccQPKUIE8J8hhA9xLaS2gvHkDId+EgenwzQD7rBlPksxpAVVVVVVVVC0AiIiIiIiICQBdswRZswQ5AVVVVVVVV9T+EEEIIIYQIQBdddNFFF/0/SZIkSZIk9T/poosuuuguQDMzMzMzM/M/zUkgLtScHEDpoosuuihZQKiDOqiDOvg/nJubm5ub+z9+eWxF0HACQCVJkiRJkihAlieRadhuEkAlSZIkSZIqQAAAAAAAACxAYid2Yid2AkAAAAAAAADwP5eWlpaWlgZAWchCFrKQKUB6nud5nuczQC1kIQtZyFJA6aKLLrqoSUCGLGQhC1k2QEYXXXTRRfc/q6qqqqqq+j8XXXTRRRcNQGIYhmEYhi9AMzMzMzMz8z9ddNFFF107QFVVVVVVVQFAGIZhGIZhQEB00UUXXXQjQLy7u7u7uwtAAAAAAACAAkCnN73pTW8KQKOLLrrooh9AAAAAAAAA8D9Mkc+6wRQ0QIZhGIZhGD9AwzAMwzCMSEBGF1100QVMQA==",
             "dtype": "f8"
            },
            "sizemode": "area",
            "sizeref": 0.32238095238095243
           },
           "mode": "markers",
           "name": "",
           "showlegend": false,
           "subplot": "mapbox",
           "type": "scattermapbox"
          }
         ],
         "name": "21"
        },
        {
         "data": [
          {
           "hovertemplate": "<b>%{hovertext}</b><br><br>hour=22<br>pedestrian_count=%{marker.color}<br>latitude=%{lat}<br>longitude=%{lon}<extra></extra>",
           "hovertext": [
            "Bou292_T",
            "Bou283_T",
            "Swa295_T",
            "Swa123_T",
            "PriNW_T",
            "FliS_T",
            "WebBN_T",
            "Col700_T",
            "BouHbr_T",
            "WatCit_T",
            "NewQ_T",
            "SanBri_T",
            "Col15_T",
            "Col12_T",
            "LtB210_T",
            "LtB170_T",
            "Bourke155_T",
            "Col623_T",
            "Col620_T",
            "MCEC_T",
            "Vic_T",
            "VAC_T",
            "AG_T",
            "Lon189_T",
            "Lyg161_T",
            "SouthB_T",
            "Que85_T",
            "AlfPl_T",
            "Spr201_T",
            "Swa31",
            "UM1_T",
            "UM2_T",
            "UM3_T",
            "Swa148_T",
            "Pel147_T",
            "Eli250_T",
            "Eli501_T",
            "Lyg309_T",
            "Fra118_T",
            "Eli263_T",
            "Col254_T",
            "Swa607_T",
            "Lon364_T",
            "Bou688_T",
            "RMIT_T",
            "RMIT14_T",
            "Lat224_T",
            "Bou231_T",
            "QVN_T",
            "FLDegS_T",
            "FLDegN_T",
            "FLDegC_T",
            "Errol20_T",
            "WestWP_T",
            "ACMI_T",
            "SprFli_T",
            "KenMac_T",
            "HarEsP_T",
            "HarEsB_T",
            "FliSS_T",
            "ElFi_T",
            "488Mac_T",
            "574Qub_T",
            "Errol23_T",
            "280Will_T",
            "261Will_T",
            "LatWill_T",
            "Fli114F_T",
            "Fli114C_T",
            "BirBridge_T",
            "Bou892T",
            "King2_T",
            "King335_T",
            "Spen229_T",
            "Spen201_T",
            "Spen161_T",
            "BirFed1120_T",
            "BouHbr2353_T",
            "Signal1647_T",
            "474Fl_T",
            "Hammer1584_T",
            "Spencer_T",
            "BirArt1109_T",
            "Eli489_T",
            "Lat526_T",
            "Spen475_T",
            "Spen484_T",
            "Lat526_T",
            "Pow61_T",
            "Mac330_T",
            "Eli368_T",
            "King163_T",
            "Eli124_T",
            "Eli197_T"
           ],
           "lat": {
            "bdata": "4za3lSDoQsDk7jnRKuhCwMYt7ljP50LAW2Lh+03oQsCjMs2NzOhCwEqs1tPY6ELA7Ei78lXpQsBVV9Mv8OhCwH+1ckjN6ELAnEQxN2foQsAwSkwnROhCwMJ4m3H56ELAoIXK4CToQsAs8JkVH+hCwPAKbc7750LATsGOvebnQsAP2FGsBehCwGjMZgbY6ELA9Bo3DNHoQsD3QvlpeelCwDD22kMt50LAW311VSDpQsDEaAwp9ehCwIG0/wHW50LA9yBGAJ7mQsD8rfjh++hCwPiAaeaD6ELA9o4ihCroQsB39jLdredCwOmxkC2J6ELAa9n3NGnmQsBRrEt0M+ZCwAqj9q4D5kLAo8ubwzXoQsAIkF9HteZCwMNwQ8YC6ELAvFHxoFXnQsDm9mCMJ+ZCwBXf9T5650LA6DjxtADoQsA2WUD0ZuhCwHyZKELq5kLAVp3VAvvnQsBpUZ/kjuhCwKYwxvJ050LA4Acx4WHnQsByGmDurOdCwLzjVjkb6ELAYkX0CMHnQsA54W/Fj+hCwDQn1HiO6ELA1NosRY/oQsDwEv8k/OZCwHlzuFb750LAwqggFpzoQsDZuPbsVuhCwJ4jE2yz5ULA/r77uj7oQsAFta2gSOhCwDrj4kWy6ELAdKiulbPoQsAlVutprOVCwP3oafrL5kLAIMhJevvmQsCzVTDH/udCwAr10wMP6ELALa+ei+3nQsDwq6xMfOhCwBNVKm596ELAcJrbEKXoQsAPh1v0BOlCwDn0ULr46ELAA6SqxwXoQsDRmno4XOhCwANW9Y+R6ELA2Xy31JzoQsDqChHLwehCwFKvAEvT6ELAoVaooOjoQsAee83d9OhCwArrzizs6ELAjxoTYi7pQsCDx68GxehCwMHnZgNZ50LAAz4/jBDoQsAgCPPLnudCwPTw0D2M50LAqutYvhHoQsB8EjNWdulCwHmqppjB5ULAETV2LrHnQsAUgeKue+hCwJOwDP1V6ELAGwvQ1yjoQsA=",
            "dtype": "f8"
           },
           "legendgroup": "",
           "lon": {
            "bdata": "Us8GieIeYkC5KEim4h5iQHCO34DbHmJAEUL2MOoeYkB7eEPY+B5iQNM6YA3mHmJAvcInQk8eYkAiXSLNbh5iQKGzFrBOHmJA+uNJFBIeYkDaFuluLB5iQCObcTvQHmJAxZeivyQfYkBvEyhBIx9iQJjwU27lHmJA0i5L4PseYkCqfoTl+B5iQHe3Nn2LHmJAnszDMoseYkBQxyHqlx5iQFE4kjabHmJAgcRdWgAfYkBYzjnT/x5iQNzhIyDuHmJA1QNJTO4eYkCkDhv64R5iQPkuxjzCHmJAX8g05AkfYkDhCkniHB9iQBJeq9LwHmJAAyaR+dceYkCCTJ0N2h5iQCERx3jcHmJAZh2GPeoeYkDmTMkoxR5iQLJLVG/NHmJABJlTuLQeYkC4lqhi8x5iQPNfOaWwHmJAwMaaNsgeYkBDqihe5R5iQD0LhJXRHmJAFK8V4cQeYkAL68a7gx5iQEnQRkvRHmJAwauCpNEeYkCRybEOyh5iQHu1q6nvHmJAD8Vwt9weYkBH19hn5h5iQF/Uiy3mHmJAHwMFIOYeYkBXLLj+YR5iQEvHvXUVH2JAiCgN0v8eYkAJhACNMB9iQMg3Z4bFHWJAV+oX9DceYkB9hFCUOh5iQJ1SmNbqHmJAR2ygjuEeYkDEYg5hwB1iQCPCXN5eHmJAU5O//18eYkCXArHwnh5iQEgYowGeHmJAXXrqR5keYkCW0USvER9iQGg9nacRH2JArpJ2QCUfYkDPLp3eHh5iQCE6BI6kHmJAwdO3DoYeYkBV6A8PeR5iQKMBYUx/HmJAtTd0ioAeYkApKnaPJx9iQKzskqNGHmJAKRlKN9MeYkA5s8DLqh5iQCTnq4H5HmJAFenZB5QeYkDGa8H/FB9iQEF1WlS3HmJADmZ2inMeYkBXnjhnYR5iQFmsG85gHmJASm4DLXMeYkC3KZre0B5iQIVMKgHuHWJAoNz4C8QeYkBv4Eh/kx5iQF3jEsvWHmJA/bXl8c4eYkA=",
            "dtype": "f8"
           },
           "marker": {
            "color": {
             "bdata": "LS0tLS0tEUAAAAAAAIALQFsRNJzUfStAIiIiIiLiIkCrqqqqqhpJQO5phOWeRidAchzHcRzH+T/kOI7jOI4EQMVO7MRO7Pw/hmEYhmEYAkBJkiRJkiQBQOh5nud5ngNA8sgjjzzyCEDEw8PDw8P7P+U1lNdQXiBAkiRJkiTJFUCrqqqqqio2QEdY7mmE5RRACcs9jbBcIUBVVVVVVcVJQFnIQhaykBVA27Zt27ZtEUDZiZ3YiZ0IQB/BfQT3ER5At23btm3bDkDQcFL35bEiQEYXXXTRRQRAmpmZmZmZ8T+xOZBohc0BQPntUk/Gbw9AoryG8hrK+z+rqqqqqqoaQAAAAAAAABhAGIERGIERIkAAAAAAAAD4P/kw7tcllR9AaIuV4RtREEA5juM4juMDQPmWb/mWbwFAGhLzdobEDEB0S5z6PbcQQNFYHxrrQwtAOL3pTW96EUAAAAAAAAAYQKuqqqqq6kNAnhLkKUGeEkD8dUnlw7gTQJZ9DqkJxhNAyz2NsNxTKEAtgU37yRIQQI7jOI7jOAFAVVVVVVVV+z96nud5nucRQHwaYbmnEfY/IBYpA0+3BkDbtm3btm37P2ZmZmZmZvI/AAAAAABAJEDFTuzETuz0Py2s9NTCShdAVVVVVVVlTkAzMzMzMzP3PxQ7sRM7sfs/5DiO4ziO/z+rqqqqqiobQJVLuZRLuQxAAAAAAAAAIkBVVVVVVZUuQNu2bdu2bRFAx3Ecx3EcB0CSJEmSJEn6PwAAAAAAwCdAq6qqqqpqKECrqqqqqvpKQFVVVVVVxUBAq6qqqqqqLUCamZmZmZk4QEmSJEmSJPk/VVVVVVVV+T9VVVVVVZUpQAAAAAAAAPA/VVVVVVX1OUDDMAzDMAw4QAAAAAAAgDVAXXTRRRddGkCH8hrKayj/PwAAAAAAAPM/mpmZmZmZAUBVVVVVVVUbQAAAAAAAAPA/shVBw0ndLECrqqqqqio2QAAAAAAAYD1Aq6qqqqqKQEA=",
             "dtype": "f8"
            },
            "coloraxis": "coloraxis",
            "size": {
             "bdata": "LS0tLS0tEUAAAAAAAIALQFsRNJzUfStAIiIiIiLiIkCrqqqqqhpJQO5phOWeRidAchzHcRzH+T/kOI7jOI4EQMVO7MRO7Pw/hmEYhmEYAkBJkiRJkiQBQOh5nud5ngNA8sgjjzzyCEDEw8PDw8P7P+U1lNdQXiBAkiRJkiTJFUCrqqqqqio2QEdY7mmE5RRACcs9jbBcIUBVVVVVVcVJQFnIQhaykBVA27Zt27ZtEUDZiZ3YiZ0IQB/BfQT3ER5At23btm3bDkDQcFL35bEiQEYXXXTRRQRAmpmZmZmZ8T+xOZBohc0BQPntUk/Gbw9AoryG8hrK+z+rqqqqqqoaQAAAAAAAABhAGIERGIERIkAAAAAAAAD4P/kw7tcllR9AaIuV4RtREEA5juM4juMDQPmWb/mWbwFAGhLzdobEDEB0S5z6PbcQQNFYHxrrQwtAOL3pTW96EUAAAAAAAAAYQKuqqqqq6kNAnhLkKUGeEkD8dUnlw7gTQJZ9DqkJxhNAyz2NsNxTKEAtgU37yRIQQI7jOI7jOAFAVVVVVVVV+z96nud5nucRQHwaYbmnEfY/IBYpA0+3BkDbtm3btm37P2ZmZmZmZvI/AAAAAABAJEDFTuzETuz0Py2s9NTCShdAVVVVVVVlTkAzMzMzMzP3PxQ7sRM7sfs/5DiO4ziO/z+rqqqqqiobQJVLuZRLuQxAAAAAAAAAIkBVVVVVVZUuQNu2bdu2bRFAx3Ecx3EcB0CSJEmSJEn6PwAAAAAAwCdAq6qqqqpqKECrqqqqqvpKQFVVVVVVxUBAq6qqqqqqLUCamZmZmZk4QEmSJEmSJPk/VVVVVVVV+T9VVVVVVZUpQAAAAAAAAPA/VVVVVVX1OUDDMAzDMAw4QAAAAAAAgDVAXXTRRRddGkCH8hrKayj/PwAAAAAAAPM/mpmZmZmZAUBVVVVVVVUbQAAAAAAAAPA/shVBw0ndLECrqqqqqio2QAAAAAAAYD1Aq6qqqqqKQEA=",
             "dtype": "f8"
            },
            "sizemode": "area",
            "sizeref": 0.32238095238095243
           },
           "mode": "markers",
           "name": "",
           "showlegend": false,
           "subplot": "mapbox",
           "type": "scattermapbox"
          }
         ],
         "name": "22"
        },
        {
         "data": [
          {
           "hovertemplate": "<b>%{hovertext}</b><br><br>hour=23<br>pedestrian_count=%{marker.color}<br>latitude=%{lat}<br>longitude=%{lon}<extra></extra>",
           "hovertext": [
            "Bou292_T",
            "Bou283_T",
            "Swa295_T",
            "Swa123_T",
            "PriNW_T",
            "FliS_T",
            "WebBN_T",
            "Col700_T",
            "BouHbr_T",
            "WatCit_T",
            "NewQ_T",
            "SanBri_T",
            "Col15_T",
            "Col12_T",
            "LtB210_T",
            "LtB170_T",
            "Bourke155_T",
            "Col623_T",
            "Col620_T",
            "MCEC_T",
            "Vic_T",
            "VAC_T",
            "AG_T",
            "Lon189_T",
            "Lyg161_T",
            "SouthB_T",
            "Que85_T",
            "Lyg260_T",
            "AlfPl_T",
            "Spr201_T",
            "Swa31",
            "UM1_T",
            "UM2_T",
            "UM3_T",
            "Swa148_T",
            "Pel147_T",
            "Eli250_T",
            "Eli501_T",
            "Lyg309_T",
            "Fra118_T",
            "Eli263_T",
            "Col254_T",
            "Swa607_T",
            "Lon364_T",
            "Bou688_T",
            "RMIT_T",
            "RMIT14_T",
            "Lat224_T",
            "Bou231_T",
            "QVN_T",
            "FLDegS_T",
            "FLDegN_T",
            "FLDegC_T",
            "Errol20_T",
            "WestWP_T",
            "ACMI_T",
            "SprFli_T",
            "KenMac_T",
            "HarEsP_T",
            "HarEsB_T",
            "FliSS_T",
            "ElFi_T",
            "488Mac_T",
            "574Qub_T",
            "Errol23_T",
            "280Will_T",
            "261Will_T",
            "LatWill_T",
            "Fli114F_T",
            "Fli114C_T",
            "BirBridge_T",
            "Bou892T",
            "King2_T",
            "King335_T",
            "Spen229_T",
            "Spen201_T",
            "Spen161_T",
            "BirFed1120_T",
            "BouHbr2353_T",
            "Signal1647_T",
            "474Fl_T",
            "Hammer1584_T",
            "Spencer_T",
            "BirArt1109_T",
            "Eli489_T",
            "Lat526_T",
            "Spen475_T",
            "Spen484_T",
            "Lat526_T",
            "Pow61_T",
            "Eli368_T",
            "King163_T",
            "Eli124_T",
            "Eli197_T"
           ],
           "lat": {
            "bdata": "4za3lSDoQsDk7jnRKuhCwMYt7ljP50LAW2Lh+03oQsCjMs2NzOhCwEqs1tPY6ELA7Ei78lXpQsBVV9Mv8OhCwH+1ckjN6ELAnEQxN2foQsAwSkwnROhCwMJ4m3H56ELAoIXK4CToQsAs8JkVH+hCwPAKbc7750LATsGOvebnQsAP2FGsBehCwGjMZgbY6ELA9Bo3DNHoQsD3QvlpeelCwDD22kMt50LAW311VSDpQsDEaAwp9ehCwIG0/wHW50LA9yBGAJ7mQsD8rfjh++hCwPiAaeaD6ELAWtVxgInmQsD2jiKEKuhCwHf2Mt2t50LA6bGQLYnoQsBr2fc0aeZCwFGsS3Qz5kLACqP2rgPmQsCjy5vDNehCwAiQX0e15kLAw3BDxgLoQsC8UfGgVedCwOb2YIwn5kLAFd/1PnrnQsDoOPG0AOhCwDZZQPRm6ELAfJkoQurmQsBWndUC++dCwGlRn+SO6ELApjDG8nTnQsDgBzHhYedCwHIaYO6s50LAvONWORvoQsBiRfQIwedCwDnhb8WP6ELANCfUeI7oQsDU2ixFj+hCwPAS/yT85kLAeXO4VvvnQsDCqCAWnOhCwNm49uxW6ELAniMTbLPlQsD+vvu6PuhCwAW1raBI6ELAOuPiRbLoQsB0qK6Vs+hCwCVW62ms5ULA/ehp+svmQsAgyEl6++ZCwLNVMMf+50LACvXTAw/oQsAtr56L7edCwPCrrEx86ELAE1Uqbn3oQsBwmtsQpehCwA+HW/QE6ULAOfRQuvjoQsADpKrHBehCwNGaejhc6ELAA1b1j5HoQsDZfLfUnOhCwOoKEcvB6ELAUq8AS9PoQsChVqig6OhCwB57zd306ELACuvOLOzoQsCPGhNiLulCwIPHrwbF6ELAwedmA1nnQsADPj+MEOhCwCAI88ue50LA9PDQPYznQsCq61i+EehCwHwSM1Z26ULAETV2LrHnQsAUgeKue+hCwJOwDP1V6ELAGwvQ1yjoQsA=",
            "dtype": "f8"
           },
           "legendgroup": "",
           "lon": {
            "bdata": "Us8GieIeYkC5KEim4h5iQHCO34DbHmJAEUL2MOoeYkB7eEPY+B5iQNM6YA3mHmJAvcInQk8eYkAiXSLNbh5iQKGzFrBOHmJA+uNJFBIeYkDaFuluLB5iQCObcTvQHmJAxZeivyQfYkBvEyhBIx9iQJjwU27lHmJA0i5L4PseYkCqfoTl+B5iQHe3Nn2LHmJAnszDMoseYkBQxyHqlx5iQFE4kjabHmJAgcRdWgAfYkBYzjnT/x5iQNzhIyDuHmJA1QNJTO4eYkCkDhv64R5iQPkuxjzCHmJAXQF9CfIeYkBfyDTkCR9iQOEKSeIcH2JAEl6r0vAeYkADJpH51x5iQIJMnQ3aHmJAIRHHeNweYkBmHYY96h5iQOZMySjFHmJAsktUb80eYkAEmVO4tB5iQLiWqGLzHmJA8185pbAeYkDAxpo2yB5iQEOqKF7lHmJAPQuEldEeYkAUrxXhxB5iQAvrxruDHmJASdBGS9EeYkDBq4Kk0R5iQJHJsQ7KHmJAe7Wrqe8eYkAPxXC33B5iQEfX2GfmHmJAX9SLLeYeYkAfAwUg5h5iQFcsuP5hHmJAS8e9dRUfYkCIKA3S/x5iQAmEAI0wH2JAyDdnhsUdYkBX6hf0Nx5iQH2EUJQ6HmJAnVKY1uoeYkBHbKCO4R5iQMRiDmHAHWJAI8Jc3l4eYkBTk7//Xx5iQJcCsfCeHmJASBijAZ4eYkBdeupHmR5iQJbRRK8RH2JAaD2dpxEfYkCuknZAJR9iQM8und4eHmJAIToEjqQeYkDB07cOhh5iQFXoDw95HmJAowFhTH8eYkC1N3SKgB5iQCkqdo8nH2JArOySo0YeYkApGUo30x5iQDmzwMuqHmJAJOergfkeYkAV6dkHlB5iQMZrwf8UH2JAQXVaVLceYkAOZnaKcx5iQFeeOGdhHmJAWawbzmAeYkBKbgMtcx5iQLcpmt7QHmJAoNz4C8QeYkBv4Eh/kx5iQF3jEsvWHmJA/bXl8c4eYkA=",
            "dtype": "f8"
           },
           "marker": {
            "color": {
             "bdata": "u8EU+awbBEBrTKQHKmcHQPTK2H5HrxxAVVVVVVVVF0C66KKLLro6QPsdvTK23xlAAAAAAAAA9j+O4ziO4zj6P0YXXXTRRfc/iIeHh4eHA0CoEZZ7GmH5PyebbLLJJgNAREREREREAkBVVVVVVVX1PwW+uPpBRxFAl5aWlpaWBkDP8zzP8zwpQG7btm3bthVAa2NouoP9FkAAAAAAAAA2QOU1lNdQXgNACCpnt/CrAUDsxE7sxE4GQMf60FgfGhFAgy3Ygi3YAkB2Yid2YqcYQE5vetOb3gBAd3d3d3d3D0B00UUXXXTxP6+hvIbyGvo/zczMzMxMCkDNzMzMzMz8PzMzMzMzMwVAzczMzMzMAkDZiZ3YiZ0TQCVJkiRJkvQ/eHh4eHh4EkCDmFxBTK4IQFNKKaWUUvo/dNFFF110AUC1Uiu1UisFQOh5nud5ngdAAAAAAAAABUAAAAAAAAAEQAAAAAAAABBAPc/zPM/zM0A//fTTTz8NQHo7Q2LezghA39mo72zUB0D1nY36zkYVQPpdLW7C/AZAdNFFF110/T9VVVVVVVXzP0mSJEmSJAFAq6qqqqqq+j8AAAAAAFAQQG7btm3btvU/AAAAAAAA8D+jiy666KIVQLrooosuuvg/KJBKzssiFkBVVVVVVVU8QAAAAAAAAPA/mpmZmZmZ8T+amZmZmZn1PxdddNFFFxNAaZAGaZAGBUC3bdu2bdsWQLrooosuui9AAAAAAAAABECrqqqqqqryPwAAAAAAAPo/dNFFF110IUBvetOb3vQeQOh5nud5njxA6aKLLrroNkAWspCFLGQpQDmO4ziO4wBAAAAAAAAA8D+rqqqqqqr6P2IYhmEYhi1AAAAAAAAA8D+MLrrooosxQDMzMzMzMyBA9aY3velNLUAzMzMzMzMQQAAAAAAAAABAVVVVVVVV9T8AAAAAAIABQPHw8PDw8AhAJUmSJEnSIEAAAAAAAAArQEmSJEmSJC1A6Hme53meMkA=",
             "dtype": "f8"
            },
            "coloraxis": "coloraxis",
            "size": {
             "bdata": "u8EU+awbBEBrTKQHKmcHQPTK2H5HrxxAVVVVVVVVF0C66KKLLro6QPsdvTK23xlAAAAAAAAA9j+O4ziO4zj6P0YXXXTRRfc/iIeHh4eHA0CoEZZ7GmH5PyebbLLJJgNAREREREREAkBVVVVVVVX1PwW+uPpBRxFAl5aWlpaWBkDP8zzP8zwpQG7btm3bthVAa2NouoP9FkAAAAAAAAA2QOU1lNdQXgNACCpnt/CrAUDsxE7sxE4GQMf60FgfGhFAgy3Ygi3YAkB2Yid2YqcYQE5vetOb3gBAd3d3d3d3D0B00UUXXXTxP6+hvIbyGvo/zczMzMxMCkDNzMzMzMz8PzMzMzMzMwVAzczMzMzMAkDZiZ3YiZ0TQCVJkiRJkvQ/eHh4eHh4EkCDmFxBTK4IQFNKKaWUUvo/dNFFF110AUC1Uiu1UisFQOh5nud5ngdAAAAAAAAABUAAAAAAAAAEQAAAAAAAABBAPc/zPM/zM0A//fTTTz8NQHo7Q2LezghA39mo72zUB0D1nY36zkYVQPpdLW7C/AZAdNFFF110/T9VVVVVVVXzP0mSJEmSJAFAq6qqqqqq+j8AAAAAAFAQQG7btm3btvU/AAAAAAAA8D+jiy666KIVQLrooosuuvg/KJBKzssiFkBVVVVVVVU8QAAAAAAAAPA/mpmZmZmZ8T+amZmZmZn1PxdddNFFFxNAaZAGaZAGBUC3bdu2bdsWQLrooosuui9AAAAAAAAABECrqqqqqqryPwAAAAAAAPo/dNFFF110IUBvetOb3vQeQOh5nud5njxA6aKLLrroNkAWspCFLGQpQDmO4ziO4wBAAAAAAAAA8D+rqqqqqqr6P2IYhmEYhi1AAAAAAAAA8D+MLrrooosxQDMzMzMzMyBA9aY3velNLUAzMzMzMzMQQAAAAAAAAABAVVVVVVVV9T8AAAAAAIABQPHw8PDw8AhAJUmSJEnSIEAAAAAAAAArQEmSJEmSJC1A6Hme53meMkA=",
             "dtype": "f8"
            },
            "sizemode": "area",
            "sizeref": 0.32238095238095243
           },
           "mode": "markers",
           "name": "",
           "showlegend": false,
           "subplot": "mapbox",
           "type": "scattermapbox"
          }
         ],
         "name": "23"
        }
       ],
       "layout": {
        "coloraxis": {
         "colorbar": {
          "title": {
           "text": "pedestrian_count"
          }
         },
         "colorscale": [
          [
           0,
           "rgb(255,255,204)"
          ],
          [
           0.125,
           "rgb(255,237,160)"
          ],
          [
           0.25,
           "rgb(254,217,118)"
          ],
          [
           0.375,
           "rgb(254,178,76)"
          ],
          [
           0.5,
           "rgb(253,141,60)"
          ],
          [
           0.625,
           "rgb(252,78,42)"
          ],
          [
           0.75,
           "rgb(227,26,28)"
          ],
          [
           0.875,
           "rgb(189,0,38)"
          ],
          [
           1,
           "rgb(128,0,38)"
          ]
         ]
        },
        "height": 700,
        "legend": {
         "itemsizing": "constant",
         "tracegroupgap": 0
        },
        "mapbox": {
         "accesstoken": "pk.eyJ1IjoiZXJ0dWdydWxha2RlbWlyIiwiYSI6ImNtZ3o0NXVsOTAyOXk3cHM4ZHJ0MmU1enMifQ.vj7BMAX9VFQbNGaqt9ixdQ",
         "center": {
          "lat": -37.81317964626485,
          "lon": 144.96007570201056
         },
         "domain": {
          "x": [
           0,
           1
          ],
          "y": [
           0,
           1
          ]
         },
         "style": "dark",
         "zoom": 12
        },
        "sliders": [
         {
          "active": 0,
          "currentvalue": {
           "prefix": "hour="
          },
          "len": 0.9,
          "pad": {
           "b": 10,
           "t": 60
          },
          "steps": [
           {
            "args": [
             [
              "0"
             ],
             {
              "frame": {
               "duration": 0,
               "redraw": true
              },
              "fromcurrent": true,
              "mode": "immediate",
              "transition": {
               "duration": 0,
               "easing": "linear"
              }
             }
            ],
            "label": "0",
            "method": "animate"
           },
           {
            "args": [
             [
              "1"
             ],
             {
              "frame": {
               "duration": 0,
               "redraw": true
              },
              "fromcurrent": true,
              "mode": "immediate",
              "transition": {
               "duration": 0,
               "easing": "linear"
              }
             }
            ],
            "label": "1",
            "method": "animate"
           },
           {
            "args": [
             [
              "2"
             ],
             {
              "frame": {
               "duration": 0,
               "redraw": true
              },
              "fromcurrent": true,
              "mode": "immediate",
              "transition": {
               "duration": 0,
               "easing": "linear"
              }
             }
            ],
            "label": "2",
            "method": "animate"
           },
           {
            "args": [
             [
              "3"
             ],
             {
              "frame": {
               "duration": 0,
               "redraw": true
              },
              "fromcurrent": true,
              "mode": "immediate",
              "transition": {
               "duration": 0,
               "easing": "linear"
              }
             }
            ],
            "label": "3",
            "method": "animate"
           },
           {
            "args": [
             [
              "4"
             ],
             {
              "frame": {
               "duration": 0,
               "redraw": true
              },
              "fromcurrent": true,
              "mode": "immediate",
              "transition": {
               "duration": 0,
               "easing": "linear"
              }
             }
            ],
            "label": "4",
            "method": "animate"
           },
           {
            "args": [
             [
              "5"
             ],
             {
              "frame": {
               "duration": 0,
               "redraw": true
              },
              "fromcurrent": true,
              "mode": "immediate",
              "transition": {
               "duration": 0,
               "easing": "linear"
              }
             }
            ],
            "label": "5",
            "method": "animate"
           },
           {
            "args": [
             [
              "6"
             ],
             {
              "frame": {
               "duration": 0,
               "redraw": true
              },
              "fromcurrent": true,
              "mode": "immediate",
              "transition": {
               "duration": 0,
               "easing": "linear"
              }
             }
            ],
            "label": "6",
            "method": "animate"
           },
           {
            "args": [
             [
              "7"
             ],
             {
              "frame": {
               "duration": 0,
               "redraw": true
              },
              "fromcurrent": true,
              "mode": "immediate",
              "transition": {
               "duration": 0,
               "easing": "linear"
              }
             }
            ],
            "label": "7",
            "method": "animate"
           },
           {
            "args": [
             [
              "8"
             ],
             {
              "frame": {
               "duration": 0,
               "redraw": true
              },
              "fromcurrent": true,
              "mode": "immediate",
              "transition": {
               "duration": 0,
               "easing": "linear"
              }
             }
            ],
            "label": "8",
            "method": "animate"
           },
           {
            "args": [
             [
              "9"
             ],
             {
              "frame": {
               "duration": 0,
               "redraw": true
              },
              "fromcurrent": true,
              "mode": "immediate",
              "transition": {
               "duration": 0,
               "easing": "linear"
              }
             }
            ],
            "label": "9",
            "method": "animate"
           },
           {
            "args": [
             [
              "10"
             ],
             {
              "frame": {
               "duration": 0,
               "redraw": true
              },
              "fromcurrent": true,
              "mode": "immediate",
              "transition": {
               "duration": 0,
               "easing": "linear"
              }
             }
            ],
            "label": "10",
            "method": "animate"
           },
           {
            "args": [
             [
              "11"
             ],
             {
              "frame": {
               "duration": 0,
               "redraw": true
              },
              "fromcurrent": true,
              "mode": "immediate",
              "transition": {
               "duration": 0,
               "easing": "linear"
              }
             }
            ],
            "label": "11",
            "method": "animate"
           },
           {
            "args": [
             [
              "12"
             ],
             {
              "frame": {
               "duration": 0,
               "redraw": true
              },
              "fromcurrent": true,
              "mode": "immediate",
              "transition": {
               "duration": 0,
               "easing": "linear"
              }
             }
            ],
            "label": "12",
            "method": "animate"
           },
           {
            "args": [
             [
              "13"
             ],
             {
              "frame": {
               "duration": 0,
               "redraw": true
              },
              "fromcurrent": true,
              "mode": "immediate",
              "transition": {
               "duration": 0,
               "easing": "linear"
              }
             }
            ],
            "label": "13",
            "method": "animate"
           },
           {
            "args": [
             [
              "14"
             ],
             {
              "frame": {
               "duration": 0,
               "redraw": true
              },
              "fromcurrent": true,
              "mode": "immediate",
              "transition": {
               "duration": 0,
               "easing": "linear"
              }
             }
            ],
            "label": "14",
            "method": "animate"
           },
           {
            "args": [
             [
              "15"
             ],
             {
              "frame": {
               "duration": 0,
               "redraw": true
              },
              "fromcurrent": true,
              "mode": "immediate",
              "transition": {
               "duration": 0,
               "easing": "linear"
              }
             }
            ],
            "label": "15",
            "method": "animate"
           },
           {
            "args": [
             [
              "16"
             ],
             {
              "frame": {
               "duration": 0,
               "redraw": true
              },
              "fromcurrent": true,
              "mode": "immediate",
              "transition": {
               "duration": 0,
               "easing": "linear"
              }
             }
            ],
            "label": "16",
            "method": "animate"
           },
           {
            "args": [
             [
              "17"
             ],
             {
              "frame": {
               "duration": 0,
               "redraw": true
              },
              "fromcurrent": true,
              "mode": "immediate",
              "transition": {
               "duration": 0,
               "easing": "linear"
              }
             }
            ],
            "label": "17",
            "method": "animate"
           },
           {
            "args": [
             [
              "18"
             ],
             {
              "frame": {
               "duration": 0,
               "redraw": true
              },
              "fromcurrent": true,
              "mode": "immediate",
              "transition": {
               "duration": 0,
               "easing": "linear"
              }
             }
            ],
            "label": "18",
            "method": "animate"
           },
           {
            "args": [
             [
              "19"
             ],
             {
              "frame": {
               "duration": 0,
               "redraw": true
              },
              "fromcurrent": true,
              "mode": "immediate",
              "transition": {
               "duration": 0,
               "easing": "linear"
              }
             }
            ],
            "label": "19",
            "method": "animate"
           },
           {
            "args": [
             [
              "20"
             ],
             {
              "frame": {
               "duration": 0,
               "redraw": true
              },
              "fromcurrent": true,
              "mode": "immediate",
              "transition": {
               "duration": 0,
               "easing": "linear"
              }
             }
            ],
            "label": "20",
            "method": "animate"
           },
           {
            "args": [
             [
              "21"
             ],
             {
              "frame": {
               "duration": 0,
               "redraw": true
              },
              "fromcurrent": true,
              "mode": "immediate",
              "transition": {
               "duration": 0,
               "easing": "linear"
              }
             }
            ],
            "label": "21",
            "method": "animate"
           },
           {
            "args": [
             [
              "22"
             ],
             {
              "frame": {
               "duration": 0,
               "redraw": true
              },
              "fromcurrent": true,
              "mode": "immediate",
              "transition": {
               "duration": 0,
               "easing": "linear"
              }
             }
            ],
            "label": "22",
            "method": "animate"
           },
           {
            "args": [
             [
              "23"
             ],
             {
              "frame": {
               "duration": 0,
               "redraw": true
              },
              "fromcurrent": true,
              "mode": "immediate",
              "transition": {
               "duration": 0,
               "easing": "linear"
              }
             }
            ],
            "label": "23",
            "method": "animate"
           }
          ],
          "x": 0.1,
          "xanchor": "left",
          "y": 0,
          "yanchor": "top"
         }
        ],
        "template": {
         "data": {
          "bar": [
           {
            "error_x": {
             "color": "#2a3f5f"
            },
            "error_y": {
             "color": "#2a3f5f"
            },
            "marker": {
             "line": {
              "color": "#E5ECF6",
              "width": 0.5
             },
             "pattern": {
              "fillmode": "overlay",
              "size": 10,
              "solidity": 0.2
             }
            },
            "type": "bar"
           }
          ],
          "barpolar": [
           {
            "marker": {
             "line": {
              "color": "#E5ECF6",
              "width": 0.5
             },
             "pattern": {
              "fillmode": "overlay",
              "size": 10,
              "solidity": 0.2
             }
            },
            "type": "barpolar"
           }
          ],
          "carpet": [
           {
            "aaxis": {
             "endlinecolor": "#2a3f5f",
             "gridcolor": "white",
             "linecolor": "white",
             "minorgridcolor": "white",
             "startlinecolor": "#2a3f5f"
            },
            "baxis": {
             "endlinecolor": "#2a3f5f",
             "gridcolor": "white",
             "linecolor": "white",
             "minorgridcolor": "white",
             "startlinecolor": "#2a3f5f"
            },
            "type": "carpet"
           }
          ],
          "choropleth": [
           {
            "colorbar": {
             "outlinewidth": 0,
             "ticks": ""
            },
            "type": "choropleth"
           }
          ],
          "contour": [
           {
            "colorbar": {
             "outlinewidth": 0,
             "ticks": ""
            },
            "colorscale": [
             [
              0,
              "#0d0887"
             ],
             [
              0.1111111111111111,
              "#46039f"
             ],
             [
              0.2222222222222222,
              "#7201a8"
             ],
             [
              0.3333333333333333,
              "#9c179e"
             ],
             [
              0.4444444444444444,
              "#bd3786"
             ],
             [
              0.5555555555555556,
              "#d8576b"
             ],
             [
              0.6666666666666666,
              "#ed7953"
             ],
             [
              0.7777777777777778,
              "#fb9f3a"
             ],
             [
              0.8888888888888888,
              "#fdca26"
             ],
             [
              1,
              "#f0f921"
             ]
            ],
            "type": "contour"
           }
          ],
          "contourcarpet": [
           {
            "colorbar": {
             "outlinewidth": 0,
             "ticks": ""
            },
            "type": "contourcarpet"
           }
          ],
          "heatmap": [
           {
            "colorbar": {
             "outlinewidth": 0,
             "ticks": ""
            },
            "colorscale": [
             [
              0,
              "#0d0887"
             ],
             [
              0.1111111111111111,
              "#46039f"
             ],
             [
              0.2222222222222222,
              "#7201a8"
             ],
             [
              0.3333333333333333,
              "#9c179e"
             ],
             [
              0.4444444444444444,
              "#bd3786"
             ],
             [
              0.5555555555555556,
              "#d8576b"
             ],
             [
              0.6666666666666666,
              "#ed7953"
             ],
             [
              0.7777777777777778,
              "#fb9f3a"
             ],
             [
              0.8888888888888888,
              "#fdca26"
             ],
             [
              1,
              "#f0f921"
             ]
            ],
            "type": "heatmap"
           }
          ],
          "histogram": [
           {
            "marker": {
             "pattern": {
              "fillmode": "overlay",
              "size": 10,
              "solidity": 0.2
             }
            },
            "type": "histogram"
           }
          ],
          "histogram2d": [
           {
            "colorbar": {
             "outlinewidth": 0,
             "ticks": ""
            },
            "colorscale": [
             [
              0,
              "#0d0887"
             ],
             [
              0.1111111111111111,
              "#46039f"
             ],
             [
              0.2222222222222222,
              "#7201a8"
             ],
             [
              0.3333333333333333,
              "#9c179e"
             ],
             [
              0.4444444444444444,
              "#bd3786"
             ],
             [
              0.5555555555555556,
              "#d8576b"
             ],
             [
              0.6666666666666666,
              "#ed7953"
             ],
             [
              0.7777777777777778,
              "#fb9f3a"
             ],
             [
              0.8888888888888888,
              "#fdca26"
             ],
             [
              1,
              "#f0f921"
             ]
            ],
            "type": "histogram2d"
           }
          ],
          "histogram2dcontour": [
           {
            "colorbar": {
             "outlinewidth": 0,
             "ticks": ""
            },
            "colorscale": [
             [
              0,
              "#0d0887"
             ],
             [
              0.1111111111111111,
              "#46039f"
             ],
             [
              0.2222222222222222,
              "#7201a8"
             ],
             [
              0.3333333333333333,
              "#9c179e"
             ],
             [
              0.4444444444444444,
              "#bd3786"
             ],
             [
              0.5555555555555556,
              "#d8576b"
             ],
             [
              0.6666666666666666,
              "#ed7953"
             ],
             [
              0.7777777777777778,
              "#fb9f3a"
             ],
             [
              0.8888888888888888,
              "#fdca26"
             ],
             [
              1,
              "#f0f921"
             ]
            ],
            "type": "histogram2dcontour"
           }
          ],
          "mesh3d": [
           {
            "colorbar": {
             "outlinewidth": 0,
             "ticks": ""
            },
            "type": "mesh3d"
           }
          ],
          "parcoords": [
           {
            "line": {
             "colorbar": {
              "outlinewidth": 0,
              "ticks": ""
             }
            },
            "type": "parcoords"
           }
          ],
          "pie": [
           {
            "automargin": true,
            "type": "pie"
           }
          ],
          "scatter": [
           {
            "fillpattern": {
             "fillmode": "overlay",
             "size": 10,
             "solidity": 0.2
            },
            "type": "scatter"
           }
          ],
          "scatter3d": [
           {
            "line": {
             "colorbar": {
              "outlinewidth": 0,
              "ticks": ""
             }
            },
            "marker": {
             "colorbar": {
              "outlinewidth": 0,
              "ticks": ""
             }
            },
            "type": "scatter3d"
           }
          ],
          "scattercarpet": [
           {
            "marker": {
             "colorbar": {
              "outlinewidth": 0,
              "ticks": ""
             }
            },
            "type": "scattercarpet"
           }
          ],
          "scattergeo": [
           {
            "marker": {
             "colorbar": {
              "outlinewidth": 0,
              "ticks": ""
             }
            },
            "type": "scattergeo"
           }
          ],
          "scattergl": [
           {
            "marker": {
             "colorbar": {
              "outlinewidth": 0,
              "ticks": ""
             }
            },
            "type": "scattergl"
           }
          ],
          "scattermap": [
           {
            "marker": {
             "colorbar": {
              "outlinewidth": 0,
              "ticks": ""
             }
            },
            "type": "scattermap"
           }
          ],
          "scattermapbox": [
           {
            "marker": {
             "colorbar": {
              "outlinewidth": 0,
              "ticks": ""
             }
            },
            "type": "scattermapbox"
           }
          ],
          "scatterpolar": [
           {
            "marker": {
             "colorbar": {
              "outlinewidth": 0,
              "ticks": ""
             }
            },
            "type": "scatterpolar"
           }
          ],
          "scatterpolargl": [
           {
            "marker": {
             "colorbar": {
              "outlinewidth": 0,
              "ticks": ""
             }
            },
            "type": "scatterpolargl"
           }
          ],
          "scatterternary": [
           {
            "marker": {
             "colorbar": {
              "outlinewidth": 0,
              "ticks": ""
             }
            },
            "type": "scatterternary"
           }
          ],
          "surface": [
           {
            "colorbar": {
             "outlinewidth": 0,
             "ticks": ""
            },
            "colorscale": [
             [
              0,
              "#0d0887"
             ],
             [
              0.1111111111111111,
              "#46039f"
             ],
             [
              0.2222222222222222,
              "#7201a8"
             ],
             [
              0.3333333333333333,
              "#9c179e"
             ],
             [
              0.4444444444444444,
              "#bd3786"
             ],
             [
              0.5555555555555556,
              "#d8576b"
             ],
             [
              0.6666666666666666,
              "#ed7953"
             ],
             [
              0.7777777777777778,
              "#fb9f3a"
             ],
             [
              0.8888888888888888,
              "#fdca26"
             ],
             [
              1,
              "#f0f921"
             ]
            ],
            "type": "surface"
           }
          ],
          "table": [
           {
            "cells": {
             "fill": {
              "color": "#EBF0F8"
             },
             "line": {
              "color": "white"
             }
            },
            "header": {
             "fill": {
              "color": "#C8D4E3"
             },
             "line": {
              "color": "white"
             }
            },
            "type": "table"
           }
          ]
         },
         "layout": {
          "annotationdefaults": {
           "arrowcolor": "#2a3f5f",
           "arrowhead": 0,
           "arrowwidth": 1
          },
          "autotypenumbers": "strict",
          "coloraxis": {
           "colorbar": {
            "outlinewidth": 0,
            "ticks": ""
           }
          },
          "colorscale": {
           "diverging": [
            [
             0,
             "#8e0152"
            ],
            [
             0.1,
             "#c51b7d"
            ],
            [
             0.2,
             "#de77ae"
            ],
            [
             0.3,
             "#f1b6da"
            ],
            [
             0.4,
             "#fde0ef"
            ],
            [
             0.5,
             "#f7f7f7"
            ],
            [
             0.6,
             "#e6f5d0"
            ],
            [
             0.7,
             "#b8e186"
            ],
            [
             0.8,
             "#7fbc41"
            ],
            [
             0.9,
             "#4d9221"
            ],
            [
             1,
             "#276419"
            ]
           ],
           "sequential": [
            [
             0,
             "#0d0887"
            ],
            [
             0.1111111111111111,
             "#46039f"
            ],
            [
             0.2222222222222222,
             "#7201a8"
            ],
            [
             0.3333333333333333,
             "#9c179e"
            ],
            [
             0.4444444444444444,
             "#bd3786"
            ],
            [
             0.5555555555555556,
             "#d8576b"
            ],
            [
             0.6666666666666666,
             "#ed7953"
            ],
            [
             0.7777777777777778,
             "#fb9f3a"
            ],
            [
             0.8888888888888888,
             "#fdca26"
            ],
            [
             1,
             "#f0f921"
            ]
           ],
           "sequentialminus": [
            [
             0,
             "#0d0887"
            ],
            [
             0.1111111111111111,
             "#46039f"
            ],
            [
             0.2222222222222222,
             "#7201a8"
            ],
            [
             0.3333333333333333,
             "#9c179e"
            ],
            [
             0.4444444444444444,
             "#bd3786"
            ],
            [
             0.5555555555555556,
             "#d8576b"
            ],
            [
             0.6666666666666666,
             "#ed7953"
            ],
            [
             0.7777777777777778,
             "#fb9f3a"
            ],
            [
             0.8888888888888888,
             "#fdca26"
            ],
            [
             1,
             "#f0f921"
            ]
           ]
          },
          "colorway": [
           "#636efa",
           "#EF553B",
           "#00cc96",
           "#ab63fa",
           "#FFA15A",
           "#19d3f3",
           "#FF6692",
           "#B6E880",
           "#FF97FF",
           "#FECB52"
          ],
          "font": {
           "color": "#2a3f5f"
          },
          "geo": {
           "bgcolor": "white",
           "lakecolor": "white",
           "landcolor": "#E5ECF6",
           "showlakes": true,
           "showland": true,
           "subunitcolor": "white"
          },
          "hoverlabel": {
           "align": "left"
          },
          "hovermode": "closest",
          "mapbox": {
           "style": "light"
          },
          "paper_bgcolor": "white",
          "plot_bgcolor": "#E5ECF6",
          "polar": {
           "angularaxis": {
            "gridcolor": "white",
            "linecolor": "white",
            "ticks": ""
           },
           "bgcolor": "#E5ECF6",
           "radialaxis": {
            "gridcolor": "white",
            "linecolor": "white",
            "ticks": ""
           }
          },
          "scene": {
           "xaxis": {
            "backgroundcolor": "#E5ECF6",
            "gridcolor": "white",
            "gridwidth": 2,
            "linecolor": "white",
            "showbackground": true,
            "ticks": "",
            "zerolinecolor": "white"
           },
           "yaxis": {
            "backgroundcolor": "#E5ECF6",
            "gridcolor": "white",
            "gridwidth": 2,
            "linecolor": "white",
            "showbackground": true,
            "ticks": "",
            "zerolinecolor": "white"
           },
           "zaxis": {
            "backgroundcolor": "#E5ECF6",
            "gridcolor": "white",
            "gridwidth": 2,
            "linecolor": "white",
            "showbackground": true,
            "ticks": "",
            "zerolinecolor": "white"
           }
          },
          "shapedefaults": {
           "line": {
            "color": "#2a3f5f"
           }
          },
          "ternary": {
           "aaxis": {
            "gridcolor": "white",
            "linecolor": "white",
            "ticks": ""
           },
           "baxis": {
            "gridcolor": "white",
            "linecolor": "white",
            "ticks": ""
           },
           "bgcolor": "#E5ECF6",
           "caxis": {
            "gridcolor": "white",
            "linecolor": "white",
            "ticks": ""
           }
          },
          "title": {
           "x": 0.05
          },
          "xaxis": {
           "automargin": true,
           "gridcolor": "white",
           "linecolor": "white",
           "ticks": "",
           "title": {
            "standoff": 15
           },
           "zerolinecolor": "white",
           "zerolinewidth": 2
          },
          "yaxis": {
           "automargin": true,
           "gridcolor": "white",
           "linecolor": "white",
           "ticks": "",
           "title": {
            "standoff": 15
           },
           "zerolinecolor": "white",
           "zerolinewidth": 2
          }
         }
        },
        "title": {
         "text": "Melbourne Pedestrian Activity - Hourly Animation"
        },
        "updatemenus": [
         {
          "buttons": [
           {
            "args": [
             null,
             {
              "frame": {
               "duration": 500,
               "redraw": true
              },
              "fromcurrent": true,
              "mode": "immediate",
              "transition": {
               "duration": 500,
               "easing": "linear"
              }
             }
            ],
            "label": "&#9654;",
            "method": "animate"
           },
           {
            "args": [
             [
              null
             ],
             {
              "frame": {
               "duration": 0,
               "redraw": true
              },
              "fromcurrent": true,
              "mode": "immediate",
              "transition": {
               "duration": 0,
               "easing": "linear"
              }
             }
            ],
            "label": "&#9724;",
            "method": "animate"
           }
          ],
          "direction": "left",
          "pad": {
           "r": 10,
           "t": 70
          },
          "showactive": false,
          "type": "buttons",
          "x": 0.1,
          "xanchor": "right",
          "y": 0,
          "yanchor": "top"
         }
        ]
       }
      }
     },
     "metadata": {},
     "output_type": "display_data"
    },
    {
     "name": "stdout",
     "output_type": "stream",
     "text": [
      "✅ Animated map saved as 'pedestrian_activity_animated.html'\n"
     ]
    }
   ],
   "source": [
    "# Cell 12: Animated hourly activity map (optional)\n",
    "import plotly.express as px\n",
    "\n",
    "# Aggregate by hour for animation\n",
    "hourly_map_data = df.groupby(['hour', 'location_id', 'sensor_name', 'latitude', 'longitude']).agg({\n",
    "    'pedestrian_count': 'mean'\n",
    "}).reset_index()\n",
    "\n",
    "# Remove sensors without coordinates\n",
    "hourly_map_data = hourly_map_data.dropna(subset=['latitude', 'longitude'])\n",
    "\n",
    "# Create animated map\n",
    "fig = px.scatter_mapbox(\n",
    "    hourly_map_data,\n",
    "    lat='latitude',\n",
    "    lon='longitude',\n",
    "    size='pedestrian_count',\n",
    "    color='pedestrian_count',\n",
    "    hover_name='sensor_name',\n",
    "    animation_frame='hour',\n",
    "    color_continuous_scale='YlOrRd',\n",
    "    size_max=30,\n",
    "    zoom=12,\n",
    "    height=700,\n",
    "    title='Melbourne Pedestrian Activity - Hourly Animation'\n",
    ")\n",
    "\n",
    "fig.update_layout(\n",
    "    mapbox_style=\"dark\",\n",
    "    mapbox_accesstoken=\"pk.eyJ1IjoiZXJ0dWdydWxha2RlbWlyIiwiYSI6ImNtZ3o0NXVsOTAyOXk3cHM4ZHJ0MmU1enMifQ.vj7BMAX9VFQbNGaqt9ixdQ\"\n",
    ")\n",
    "\n",
    "fig.show()\n",
    "fig.write_html('pedestrian_activity_animated.html')\n",
    "print(\"✅ Animated map saved as 'pedestrian_activity_animated.html'\")"
   ]
  },
  {
   "cell_type": "code",
   "execution_count": null,
   "id": "4e99ca0f",
   "metadata": {},
   "outputs": [],
   "source": []
  }
 ],
 "metadata": {
  "kernelspec": {
   "display_name": "Python 3",
   "language": "python",
   "name": "python3"
  },
  "language_info": {
   "codemirror_mode": {
    "name": "ipython",
    "version": 3
   },
   "file_extension": ".py",
   "mimetype": "text/x-python",
   "name": "python",
   "nbconvert_exporter": "python",
   "pygments_lexer": "ipython3",
   "version": "3.13.1"
  }
 },
 "nbformat": 4,
 "nbformat_minor": 5
}
